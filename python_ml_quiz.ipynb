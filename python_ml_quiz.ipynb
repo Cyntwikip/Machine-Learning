{
  "nbformat": 4,
  "nbformat_minor": 0,
  "metadata": {
    "colab": {
      "provenance": [],
      "toc_visible": true
    },
    "kernelspec": {
      "name": "python3",
      "display_name": "Python 3"
    },
    "language_info": {
      "name": "python"
    }
  },
  "cells": [
    {
      "cell_type": "markdown",
      "source": [
        "# Python Machine Learning Quiz\n",
        "\n",
        "*Prepared by:*\n",
        "**Jude Michael Teves**  \n",
        "Faculty, Software Technology Department  \n",
        "College of Computer Studies - De La Salle University"
      ],
      "metadata": {
        "id": "eYI8UwZUTAg4"
      }
    },
    {
      "cell_type": "markdown",
      "source": [
        "## Problem 1: Sorting (2 pts)\n",
        "\n",
        "Given the list below, return the indices of the elements sorted in descending order.\n",
        "\n",
        "For example, if you initially have `[1, 9, 5, 7, 100, -20]`, return `[4, 1, 3, 2, 0, 5]`."
      ],
      "metadata": {
        "id": "oW-24_rITG9W"
      }
    },
    {
      "cell_type": "code",
      "source": [
        "X = [1, 9, 5, 7, 100, -20]\n",
        "\n",
        "# YOUR CODE HERE"
      ],
      "metadata": {
        "id": "G2Ze-1v3TJKI"
      },
      "execution_count": null,
      "outputs": []
    },
    {
      "cell_type": "markdown",
      "source": [
        "## Problem 2: Most Common Elements (2 pts)\n",
        "\n",
        "Given a list of numbers, return the top 5 most common elements in `dict` format. The key is the element and the value is the count. The value could be in `int` or `float` data type.\n",
        "\n",
        "\n",
        "For example:  \n",
        "\n",
        "Input: `([0.37, 0.95, 0.73, 0.6 , 0.16, 0.16, 0.06, 0.87, 0.6 , 0.71, 0.02,\n",
        "       0.97, 0.83, 0.21, 0.18, 0.18, 0.3 , 0.52, 0.43, 0.29, 0.61, 0.14,\n",
        "       0.29, 0.37, 0.46, 0.79, 0.2 , 0.51, 0.59, 0.05, 0.61, 0.17, 0.07,\n",
        "       0.95, 0.97, 0.81, 0.3 , 0.1 , 0.68, 0.44, 0.12, 0.5 , 0.03, 0.91,\n",
        "       0.26, 0.66, 0.31, 0.52, 0.55, 0.18, 0.97, 0.78, 0.94, 0.89, 0.6 ,\n",
        "       0.92, 0.09, 0.2 , 0.05, 0.33, 0.39, 0.27, 0.83, 0.36, 0.28, 0.54,\n",
        "       0.14, 0.8 , 0.07, 0.99, 0.77, 0.2 , 0.01, 0.82, 0.71, 0.73, 0.77,\n",
        "       0.07, 0.36, 0.12, 0.86, 0.62, 0.33, 0.06, 0.31, 0.33, 0.73, 0.64,\n",
        "       0.89, 0.47, 0.12, 0.71, 0.76, 0.56, 0.77, 0.49, 0.52, 0.43, 0.03,\n",
        "       0.11])`\n",
        "\n",
        "\n",
        "Output: `{0.12: 3.0, 0.33: 3.0, 0.07: 3.0, 0.52: 3.0, 0.18: 3.0}`"
      ],
      "metadata": {
        "id": "QagASH62TI0o"
      }
    },
    {
      "cell_type": "code",
      "source": [
        "import numpy as np\n",
        "\n",
        "np.random.seed(42)\n",
        "X = np.around(np.random.random(100), 2)\n",
        "\n",
        "# YOUR CODE HERE"
      ],
      "metadata": {
        "id": "Cx0RjaMSTBwH"
      },
      "execution_count": null,
      "outputs": []
    },
    {
      "cell_type": "markdown",
      "metadata": {
        "id": "ad0786d9-8c17-465d-8353-a1e985f9a590"
      },
      "source": [
        "## Problem 3: Numpy (2 pts)\n",
        "\n",
        "Using the numpy array I have generated below, do the following:\n",
        " - retrieve the values that are greater than 0.5 or lower than -0.5\n",
        " - get the mean and standard deviation of the filtered array from above"
      ]
    },
    {
      "cell_type": "code",
      "execution_count": null,
      "metadata": {
        "execution": {
          "iopub.execute_input": "2021-06-17T18:25:15.732717Z",
          "iopub.status.busy": "2021-06-17T18:25:15.732717Z",
          "iopub.status.idle": "2021-06-17T18:25:15.934524Z",
          "shell.execute_reply": "2021-06-17T18:25:15.933525Z",
          "shell.execute_reply.started": "2021-06-17T18:25:15.732717Z"
        },
        "tags": [],
        "id": "1ca76b76-a755-409a-b493-1acc28a65b7e",
        "outputId": "e1161f90-63b9-452b-c03a-1f6a540f64b3"
      },
      "outputs": [
        {
          "data": {
            "text/plain": [
              "array([ 0.49671415, -0.1382643 ,  0.64768854,  1.52302986, -0.23415337,\n",
              "       -0.23413696,  1.57921282,  0.76743473, -0.46947439,  0.54256004,\n",
              "       -0.46341769, -0.46572975,  0.24196227, -1.91328024, -1.72491783,\n",
              "       -0.56228753, -1.01283112,  0.31424733, -0.90802408, -1.4123037 ])"
            ]
          },
          "execution_count": 3,
          "metadata": {},
          "output_type": "execute_result"
        }
      ],
      "source": [
        "import numpy as np\n",
        "\n",
        "np.random.seed(42) # ensures that numbers we are getting are consistent\n",
        "\n",
        "nums = np.random.normal(loc=0, scale=1, size=(20))\n",
        "nums"
      ]
    },
    {
      "cell_type": "code",
      "execution_count": null,
      "metadata": {
        "execution": {
          "iopub.execute_input": "2021-06-17T18:25:15.936524Z",
          "iopub.status.busy": "2021-06-17T18:25:15.936524Z",
          "iopub.status.idle": "2021-06-17T18:25:15.950528Z",
          "shell.execute_reply": "2021-06-17T18:25:15.949528Z",
          "shell.execute_reply.started": "2021-06-17T18:25:15.936524Z"
        },
        "id": "bc075fea-4e26-4511-ae6f-9f79837b771e"
      },
      "outputs": [],
      "source": [
        "# your code here"
      ]
    },
    {
      "cell_type": "markdown",
      "metadata": {
        "execution": {
          "iopub.execute_input": "2021-06-16T18:37:19.638694Z",
          "iopub.status.busy": "2021-06-16T18:37:19.638694Z",
          "iopub.status.idle": "2021-06-16T18:37:19.652697Z",
          "shell.execute_reply": "2021-06-16T18:37:19.650697Z",
          "shell.execute_reply.started": "2021-06-16T18:37:19.638694Z"
        },
        "id": "6145b11c-9858-407f-8ddc-9086f6b95681"
      },
      "source": [
        "## Problem 4: Pandas (3 pts)\n",
        "\n",
        "Using the Titanic dataset that I have already loaded for you, return the average fare of all female passengers who survived and have an age greater than 40."
      ]
    },
    {
      "cell_type": "code",
      "execution_count": null,
      "metadata": {
        "execution": {
          "iopub.execute_input": "2021-06-17T18:25:15.952528Z",
          "iopub.status.busy": "2021-06-17T18:25:15.951528Z",
          "iopub.status.idle": "2021-06-17T18:25:17.148935Z",
          "shell.execute_reply": "2021-06-17T18:25:17.147935Z",
          "shell.execute_reply.started": "2021-06-17T18:25:15.952528Z"
        },
        "id": "8f0f7c6a-b0ff-4bc0-9016-1c119d46c370",
        "outputId": "c9bea751-8b76-4adc-93d9-5cad358d8fc4"
      },
      "outputs": [
        {
          "data": {
            "text/html": [
              "<div>\n",
              "<style scoped>\n",
              "    .dataframe tbody tr th:only-of-type {\n",
              "        vertical-align: middle;\n",
              "    }\n",
              "\n",
              "    .dataframe tbody tr th {\n",
              "        vertical-align: top;\n",
              "    }\n",
              "\n",
              "    .dataframe thead th {\n",
              "        text-align: right;\n",
              "    }\n",
              "</style>\n",
              "<table border=\"1\" class=\"dataframe\">\n",
              "  <thead>\n",
              "    <tr style=\"text-align: right;\">\n",
              "      <th></th>\n",
              "      <th>PassengerId</th>\n",
              "      <th>Survived</th>\n",
              "      <th>Pclass</th>\n",
              "      <th>Name</th>\n",
              "      <th>Sex</th>\n",
              "      <th>Age</th>\n",
              "      <th>SibSp</th>\n",
              "      <th>Parch</th>\n",
              "      <th>Ticket</th>\n",
              "      <th>Fare</th>\n",
              "      <th>Cabin</th>\n",
              "      <th>Embarked</th>\n",
              "    </tr>\n",
              "  </thead>\n",
              "  <tbody>\n",
              "    <tr>\n",
              "      <th>0</th>\n",
              "      <td>1</td>\n",
              "      <td>0</td>\n",
              "      <td>3</td>\n",
              "      <td>Braund, Mr. Owen Harris</td>\n",
              "      <td>male</td>\n",
              "      <td>22.0</td>\n",
              "      <td>1</td>\n",
              "      <td>0</td>\n",
              "      <td>A/5 21171</td>\n",
              "      <td>7.2500</td>\n",
              "      <td>NaN</td>\n",
              "      <td>S</td>\n",
              "    </tr>\n",
              "    <tr>\n",
              "      <th>1</th>\n",
              "      <td>2</td>\n",
              "      <td>1</td>\n",
              "      <td>1</td>\n",
              "      <td>Cumings, Mrs. John Bradley (Florence Briggs Th...</td>\n",
              "      <td>female</td>\n",
              "      <td>38.0</td>\n",
              "      <td>1</td>\n",
              "      <td>0</td>\n",
              "      <td>PC 17599</td>\n",
              "      <td>71.2833</td>\n",
              "      <td>C85</td>\n",
              "      <td>C</td>\n",
              "    </tr>\n",
              "    <tr>\n",
              "      <th>2</th>\n",
              "      <td>3</td>\n",
              "      <td>1</td>\n",
              "      <td>3</td>\n",
              "      <td>Heikkinen, Miss. Laina</td>\n",
              "      <td>female</td>\n",
              "      <td>26.0</td>\n",
              "      <td>0</td>\n",
              "      <td>0</td>\n",
              "      <td>STON/O2. 3101282</td>\n",
              "      <td>7.9250</td>\n",
              "      <td>NaN</td>\n",
              "      <td>S</td>\n",
              "    </tr>\n",
              "    <tr>\n",
              "      <th>3</th>\n",
              "      <td>4</td>\n",
              "      <td>1</td>\n",
              "      <td>1</td>\n",
              "      <td>Futrelle, Mrs. Jacques Heath (Lily May Peel)</td>\n",
              "      <td>female</td>\n",
              "      <td>35.0</td>\n",
              "      <td>1</td>\n",
              "      <td>0</td>\n",
              "      <td>113803</td>\n",
              "      <td>53.1000</td>\n",
              "      <td>C123</td>\n",
              "      <td>S</td>\n",
              "    </tr>\n",
              "    <tr>\n",
              "      <th>4</th>\n",
              "      <td>5</td>\n",
              "      <td>0</td>\n",
              "      <td>3</td>\n",
              "      <td>Allen, Mr. William Henry</td>\n",
              "      <td>male</td>\n",
              "      <td>35.0</td>\n",
              "      <td>0</td>\n",
              "      <td>0</td>\n",
              "      <td>373450</td>\n",
              "      <td>8.0500</td>\n",
              "      <td>NaN</td>\n",
              "      <td>S</td>\n",
              "    </tr>\n",
              "  </tbody>\n",
              "</table>\n",
              "</div>"
            ],
            "text/plain": [
              "   PassengerId  Survived  Pclass  \\\n",
              "0            1         0       3   \n",
              "1            2         1       1   \n",
              "2            3         1       3   \n",
              "3            4         1       1   \n",
              "4            5         0       3   \n",
              "\n",
              "                                                Name     Sex   Age  SibSp  \\\n",
              "0                            Braund, Mr. Owen Harris    male  22.0      1   \n",
              "1  Cumings, Mrs. John Bradley (Florence Briggs Th...  female  38.0      1   \n",
              "2                             Heikkinen, Miss. Laina  female  26.0      0   \n",
              "3       Futrelle, Mrs. Jacques Heath (Lily May Peel)  female  35.0      1   \n",
              "4                           Allen, Mr. William Henry    male  35.0      0   \n",
              "\n",
              "   Parch            Ticket     Fare Cabin Embarked  \n",
              "0      0         A/5 21171   7.2500   NaN        S  \n",
              "1      0          PC 17599  71.2833   C85        C  \n",
              "2      0  STON/O2. 3101282   7.9250   NaN        S  \n",
              "3      0            113803  53.1000  C123        S  \n",
              "4      0            373450   8.0500   NaN        S  "
            ]
          },
          "execution_count": 5,
          "metadata": {},
          "output_type": "execute_result"
        }
      ],
      "source": [
        "import pandas as pd\n",
        "\n",
        "df = pd.read_csv('https://raw.githubusercontent.com/Cyntwikip/data-repository/main/titanic.csv')\n",
        "df.head()"
      ]
    },
    {
      "cell_type": "code",
      "execution_count": null,
      "metadata": {
        "execution": {
          "iopub.execute_input": "2021-06-17T18:25:17.150936Z",
          "iopub.status.busy": "2021-06-17T18:25:17.149936Z",
          "iopub.status.idle": "2021-06-17T18:25:17.164975Z",
          "shell.execute_reply": "2021-06-17T18:25:17.164003Z",
          "shell.execute_reply.started": "2021-06-17T18:25:17.150936Z"
        },
        "id": "bd8745d3-04d1-4a93-a3e4-2f6d58d050d4"
      },
      "outputs": [],
      "source": [
        "# your code here"
      ]
    },
    {
      "cell_type": "markdown",
      "metadata": {
        "id": "5M3ks-SdSGeZ"
      },
      "source": [
        "## Problem 5: Reading Data and String Manipulation (5 pts)\n",
        "\n",
        "- Read the logs from the following URL: https://raw.githubusercontent.com/Cyntwikip/data-repository/main/logs.txt\n",
        "- Extract the year, month, day, hour, minute, second, IP address, and port\n",
        "\n",
        "For example, given this input:\n",
        "```\n",
        "2018-07-12 10:53:32 - (network)[INFO][127.0.0.1:57534]: GET http://127.0.0.1:8081/v1/get/landuse?lng=121.02787971496582&lat=14.606591351724205&d=500  200 1883\n",
        "2018-07-12 10:54:14 - (network)[INFO][127.0.0.1:57534]: GET http://127.0.0.1:8081/v1/get/landuse?lng=120.54113388061523&lat=14.67892177840028&d=500  200 1884\n",
        "2018-07-12 10:54:17 - (network)[INFO][127.0.0.1:57534]: GET http://127.0.0.1:8081/v1/get/landuse?lng=120.27711868286133&lat=14.82400863570895&d=500  200 719\n",
        "2018-07-12 10:54:20 - (network)[INFO][127.0.0.1:57534]: GET http://127.0.0.1:8081/v1/get/landuse?lng=120.91775894165039&lat=14.096787557861887&d=500  200 345\n",
        "```\n",
        "\n",
        "The output is:\n",
        "```python\n",
        "[{'year':2018, 'month':7, 'day':12, 'hour':10, 'minute':53, 'second':32, 'IP address': \"127.0.0.1\", 'port':57534},\n",
        " ...\n",
        "]\n",
        "```"
      ]
    },
    {
      "cell_type": "code",
      "execution_count": null,
      "metadata": {
        "id": "0J_l-jLBSGea",
        "outputId": "0d5b35fc-3e64-436e-c4fc-ffebd80ba744"
      },
      "outputs": [
        {
          "data": {
            "text/plain": [
              "'2018-07-12 10:53:32 - (network)[INFO][127.0.0.1:57534]: GET http://127.0.0.1:8081/v1/get/landuse?lng=121.02787971496582&lat=14.606591351724205&d=500  200 1883\\n2018-07-12 10:54:14 - (network)[INFO][127.0.0.1:57534]: GET http://127.0.0.1:8081/v1/get/landuse?lng=120.54113388061523&lat=14.67892177840028&d=500  200 1884\\n2018-07-12 10:54:17 - (network)[INFO][127.0.0.1:57534]: GET http://127.0.0.1:8081/v1/get/landuse?lng=120.27711868286133&lat=14.82400863570895&d=500  200 719\\n2018-07-12 10:54:20 - (network)[INFO][127.0.0.1:57534]: GET http://127.0.0.1:8081/v1/get/landuse?lng=120.91775894165039&lat=14.096787557861887&d=500  200 345'"
            ]
          },
          "execution_count": 11,
          "metadata": {},
          "output_type": "execute_result"
        }
      ],
      "source": [
        "import requests\n",
        "\n",
        "url = \"https://raw.githubusercontent.com/Cyntwikip/data-repository/main/logs.txt\"\n",
        "logs = requests.get(url).text\n",
        "logs"
      ]
    },
    {
      "cell_type": "code",
      "execution_count": null,
      "metadata": {
        "id": "xjkYDfGbSGea"
      },
      "outputs": [],
      "source": [
        "# your code here"
      ]
    },
    {
      "cell_type": "markdown",
      "source": [
        "## Problem 6: Distance Measurement (6 pts)\n",
        "\n",
        " - Implement Minkowski distance.\n",
        " - Don't use loops. Use Numpy.\n",
        " - Replace ```raise NotImplementedError``` with your code.\n",
        "\n",
        "\n",
        "For reference, here is the formula for Minkowski Distance:  \n",
        "\n",
        "$$Dist(\\bar{X}, \\bar{Y}) = ({\\sum_i |x_i - y_i|^p})^{1/p}$$\n",
        "\n",
        "---\n",
        "\n",
        "Suppose our $p$ = 2 and reference $point$ = [0,0,0,0] and we are computing its distances from points $X_1$ = [0,0,0,0] and $X_2$ = [1,0,0,-1], we will get the following distances:\n",
        "\n",
        "$Dist(X_1, point) $ = $(|0-0|^2 + |0-0|^2 + |0-0|^2 + |0-0|^2)^(1/2)$  \n",
        "$Dist(X_1, point) $ = $0$\n",
        "\n",
        "$Dist(X_2, point) $ = $(|1-0|^2 + |0-0|^2 + |0-0|^2 + |-1-0|^2)^(1/2)$  \n",
        "$Dist(X_2, point) $ = $(1^2 + 1^2)^(1/2)$  \n",
        "$Dist(X_2, point) $ = $2^(1/2)$  \n",
        "$Dist(X_2, point) $ = $1.41421356$"
      ],
      "metadata": {
        "id": "CNXgVXsQUduj"
      }
    },
    {
      "cell_type": "code",
      "source": [
        "import numpy as np\n",
        "\n",
        "def minkowski(X:np.array, point:np.array, p:int=2) -> list:\n",
        "  '''\n",
        "  Returns a list of distances of each elements in X from the reference point.\n",
        "  '''\n",
        "  # YOUR CODE HERE\n",
        "  raise NotImplementedError\n",
        "  return distances"
      ],
      "metadata": {
        "id": "Mo5ivuxcTQ6e"
      },
      "execution_count": null,
      "outputs": []
    },
    {
      "cell_type": "markdown",
      "source": [
        "Do not edit the code below."
      ],
      "metadata": {
        "id": "0IJBQ2YwfNDG"
      }
    },
    {
      "cell_type": "code",
      "execution_count": null,
      "metadata": {
        "colab": {
          "base_uri": "https://localhost:8080/"
        },
        "id": "b3kTwF2SNJrV",
        "outputId": "1783296e-6c13-4121-ebe3-b3be8c05b5fb",
        "vscode": {
          "languageId": "python"
        }
      },
      "outputs": [
        {
          "output_type": "stream",
          "name": "stdout",
          "text": [
            "Passed test!\n"
          ]
        }
      ],
      "source": [
        "from numpy.testing import assert_almost_equal\n",
        "\n",
        "np.random.seed(42)\n",
        "point = np.random.random(4)\n",
        "X = np.random.random((20,4))\n",
        "distances = minkowski(X, point)\n",
        "assert_almost_equal(distances, [1.09774861, 0.86841359, 1.10905113, 0.60903535, 0.98072682,\n",
        "                                0.56968608, 1.03147907, 0.44086692, 0.87176598, 0.9243569 ,\n",
        "                                0.52845927, 0.83891382, 0.66689687, 1.09444027, 0.72774615,\n",
        "                                0.75235112, 0.50286829, 0.41483762, 1.13954092, 0.89056474])\n",
        "\n",
        "print('Passed test!')"
      ]
    },
    {
      "cell_type": "markdown",
      "metadata": {
        "id": "tp9vhl21y7gK"
      },
      "source": [
        "## End\n",
        "<sup>made by **Jude Michael Teves**</sup> <br>\n",
        "<sup>for comments, corrections, suggestions, please email:</sup><sup> <href>judemichaelteves@gmail.com</href> or <href>jude.teves@dlsu.edu.ph</href></sup><br>\n"
      ]
    }
  ]
}