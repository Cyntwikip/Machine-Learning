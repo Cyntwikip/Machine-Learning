{
  "cells": [
    {
      "cell_type": "markdown",
      "metadata": {
        "id": "xm_s6t-aJAeR"
      },
      "source": [
        "## Transfer Learning\n",
        "\n",
        "*Prepared by:*  \n",
        "**Jude Michael Teves**  \n",
        "Faculty, Software Technology Department  \n",
        "College of Computer Studies - De La Salle University"
      ]
    },
    {
      "cell_type": "code",
      "execution_count": 1,
      "metadata": {
        "colab": {
          "base_uri": "https://localhost:8080/",
          "height": 76
        },
        "id": "Yg8gIm97-bav",
        "outputId": "7d85a1be-edfc-4134-8a10-20e4941f7095"
      },
      "outputs": [
        {
          "output_type": "execute_result",
          "data": {
            "text/plain": [
              "[(0.4, 0.7607843137254902, 0.6470588235294118),\n",
              " (0.9882352941176471, 0.5529411764705883, 0.3843137254901961),\n",
              " (0.5529411764705883, 0.6274509803921569, 0.796078431372549),\n",
              " (0.9058823529411765, 0.5411764705882353, 0.7647058823529411),\n",
              " (0.6509803921568628, 0.8470588235294118, 0.32941176470588235),\n",
              " (1.0, 0.8509803921568627, 0.1843137254901961),\n",
              " (0.8980392156862745, 0.7686274509803922, 0.5803921568627451),\n",
              " (0.7019607843137254, 0.7019607843137254, 0.7019607843137254)]"
            ],
            "text/html": [
              "<svg  width=\"440\" height=\"55\"><rect x=\"0\" y=\"0\" width=\"55\" height=\"55\" style=\"fill:#66c2a5;stroke-width:2;stroke:rgb(255,255,255)\"/><rect x=\"55\" y=\"0\" width=\"55\" height=\"55\" style=\"fill:#fc8d62;stroke-width:2;stroke:rgb(255,255,255)\"/><rect x=\"110\" y=\"0\" width=\"55\" height=\"55\" style=\"fill:#8da0cb;stroke-width:2;stroke:rgb(255,255,255)\"/><rect x=\"165\" y=\"0\" width=\"55\" height=\"55\" style=\"fill:#e78ac3;stroke-width:2;stroke:rgb(255,255,255)\"/><rect x=\"220\" y=\"0\" width=\"55\" height=\"55\" style=\"fill:#a6d854;stroke-width:2;stroke:rgb(255,255,255)\"/><rect x=\"275\" y=\"0\" width=\"55\" height=\"55\" style=\"fill:#ffd92f;stroke-width:2;stroke:rgb(255,255,255)\"/><rect x=\"330\" y=\"0\" width=\"55\" height=\"55\" style=\"fill:#e5c494;stroke-width:2;stroke:rgb(255,255,255)\"/><rect x=\"385\" y=\"0\" width=\"55\" height=\"55\" style=\"fill:#b3b3b3;stroke-width:2;stroke:rgb(255,255,255)\"/></svg>"
            ]
          },
          "metadata": {},
          "execution_count": 1
        }
      ],
      "source": [
        "import numpy as np\n",
        "import pandas as pd\n",
        "import matplotlib.pyplot as plt\n",
        "\n",
        "import seaborn as sns\n",
        "\n",
        "sns.set_style('darkgrid')\n",
        "\n",
        "sns.set_palette('Set2')\n",
        "sns.color_palette('Set2')"
      ]
    },
    {
      "cell_type": "markdown",
      "source": [
        "## Simple CNN Model\n",
        "\n",
        "We're building a simple CNN model for comparison purposes. I'll skip the explanation here as I have covered this already in another lecture and notebook."
      ],
      "metadata": {
        "id": "gcVyGM6z7Qd9"
      }
    },
    {
      "cell_type": "code",
      "source": [
        "import tensorflow as tf\n",
        "from tensorflow import keras\n",
        "\n",
        "from keras.utils import to_categorical\n",
        "\n",
        "from tensorflow.keras import datasets, layers, models\n",
        "\n",
        "from tensorflow.keras.layers import Dense, Activation, Flatten, Dropout\n",
        "from tensorflow.keras.models import Sequential, Model\n",
        "\n",
        "seed = 42\n",
        "np.random.seed(seed)\n",
        "tf.random.set_seed(seed)\n",
        "\n",
        "(train_images, train_labels), (test_images, test_labels) = datasets.cifar10.load_data()\n",
        "\n",
        "random_indices_train = np.random.choice(train_images.shape[0], 5000, replace=False)\n",
        "random_indices_test = np.random.choice(test_images.shape[0], 1000, replace=False)\n",
        "\n",
        "# Extract the random 1k samples\n",
        "train_images_sampled = train_images[random_indices_train]\n",
        "test_images_sampled = test_images[random_indices_test]\n",
        "\n",
        "train_labels_sampled = train_labels[random_indices_train]\n",
        "test_labels_sampled = test_labels[random_indices_test]\n",
        "\n",
        "train_labels = to_categorical(train_labels_sampled)\n",
        "test_labels = to_categorical(test_labels_sampled)\n",
        "\n",
        "train_images.min(), train_images.max()"
      ],
      "metadata": {
        "colab": {
          "base_uri": "https://localhost:8080/"
        },
        "id": "Zz3PsnkH7Nlv",
        "outputId": "98796618-a8b3-412e-9758-430a824b3a5b"
      },
      "execution_count": 19,
      "outputs": [
        {
          "output_type": "execute_result",
          "data": {
            "text/plain": [
              "(-1.0, 1.0)"
            ]
          },
          "metadata": {},
          "execution_count": 19
        }
      ]
    },
    {
      "cell_type": "code",
      "source": [
        "train_labels.shape, test_labels.shape"
      ],
      "metadata": {
        "colab": {
          "base_uri": "https://localhost:8080/"
        },
        "id": "CVWKL6TU7sNF",
        "outputId": "4837b98a-75e8-4910-94c5-2b5a31d4f1a9"
      },
      "execution_count": 20,
      "outputs": [
        {
          "output_type": "execute_result",
          "data": {
            "text/plain": [
              "((5000, 10), (1000, 10))"
            ]
          },
          "metadata": {},
          "execution_count": 20
        }
      ]
    },
    {
      "cell_type": "markdown",
      "source": [
        "### Building the model"
      ],
      "metadata": {
        "id": "pSO37Wk27yU7"
      }
    },
    {
      "cell_type": "code",
      "source": [
        "model = models.Sequential()\n",
        "model.add(layers.Conv2D(32, (3, 3), activation='relu', input_shape=(32, 32, 3)))\n",
        "model.add(layers.MaxPooling2D((2, 2)))\n",
        "model.add(layers.Conv2D(64, (3, 3), activation='relu'))\n",
        "model.add(layers.MaxPooling2D((2, 2)))\n",
        "model.add(layers.Conv2D(64, (3, 3), activation='relu'))\n",
        "\n",
        "model.add(layers.Flatten())\n",
        "model.add(layers.Dense(32, activation='relu'))\n",
        "model.add(layers.Dense(10, activation='softmax'))\n",
        "model.summary()"
      ],
      "metadata": {
        "colab": {
          "base_uri": "https://localhost:8080/",
          "height": 388
        },
        "id": "k6TYMUJG7s1z",
        "outputId": "de5d3752-7be0-488c-aa2e-59ef75739294"
      },
      "execution_count": 25,
      "outputs": [
        {
          "output_type": "display_data",
          "data": {
            "text/plain": [
              "\u001b[1mModel: \"sequential_2\"\u001b[0m\n"
            ],
            "text/html": [
              "<pre style=\"white-space:pre;overflow-x:auto;line-height:normal;font-family:Menlo,'DejaVu Sans Mono',consolas,'Courier New',monospace\"><span style=\"font-weight: bold\">Model: \"sequential_2\"</span>\n",
              "</pre>\n"
            ]
          },
          "metadata": {}
        },
        {
          "output_type": "display_data",
          "data": {
            "text/plain": [
              "┏━━━━━━━━━━━━━━━━━━━━━━━━━━━━━━━━━━━━━━┳━━━━━━━━━━━━━━━━━━━━━━━━━━━━━┳━━━━━━━━━━━━━━━━━┓\n",
              "┃\u001b[1m \u001b[0m\u001b[1mLayer (type)                        \u001b[0m\u001b[1m \u001b[0m┃\u001b[1m \u001b[0m\u001b[1mOutput Shape               \u001b[0m\u001b[1m \u001b[0m┃\u001b[1m \u001b[0m\u001b[1m        Param #\u001b[0m\u001b[1m \u001b[0m┃\n",
              "┡━━━━━━━━━━━━━━━━━━━━━━━━━━━━━━━━━━━━━━╇━━━━━━━━━━━━━━━━━━━━━━━━━━━━━╇━━━━━━━━━━━━━━━━━┩\n",
              "│ conv2d_6 (\u001b[38;5;33mConv2D\u001b[0m)                    │ (\u001b[38;5;45mNone\u001b[0m, \u001b[38;5;34m30\u001b[0m, \u001b[38;5;34m30\u001b[0m, \u001b[38;5;34m32\u001b[0m)          │             \u001b[38;5;34m896\u001b[0m │\n",
              "├──────────────────────────────────────┼─────────────────────────────┼─────────────────┤\n",
              "│ max_pooling2d_4 (\u001b[38;5;33mMaxPooling2D\u001b[0m)       │ (\u001b[38;5;45mNone\u001b[0m, \u001b[38;5;34m15\u001b[0m, \u001b[38;5;34m15\u001b[0m, \u001b[38;5;34m32\u001b[0m)          │               \u001b[38;5;34m0\u001b[0m │\n",
              "├──────────────────────────────────────┼─────────────────────────────┼─────────────────┤\n",
              "│ conv2d_7 (\u001b[38;5;33mConv2D\u001b[0m)                    │ (\u001b[38;5;45mNone\u001b[0m, \u001b[38;5;34m13\u001b[0m, \u001b[38;5;34m13\u001b[0m, \u001b[38;5;34m64\u001b[0m)          │          \u001b[38;5;34m18,496\u001b[0m │\n",
              "├──────────────────────────────────────┼─────────────────────────────┼─────────────────┤\n",
              "│ max_pooling2d_5 (\u001b[38;5;33mMaxPooling2D\u001b[0m)       │ (\u001b[38;5;45mNone\u001b[0m, \u001b[38;5;34m6\u001b[0m, \u001b[38;5;34m6\u001b[0m, \u001b[38;5;34m64\u001b[0m)            │               \u001b[38;5;34m0\u001b[0m │\n",
              "├──────────────────────────────────────┼─────────────────────────────┼─────────────────┤\n",
              "│ conv2d_8 (\u001b[38;5;33mConv2D\u001b[0m)                    │ (\u001b[38;5;45mNone\u001b[0m, \u001b[38;5;34m4\u001b[0m, \u001b[38;5;34m4\u001b[0m, \u001b[38;5;34m64\u001b[0m)            │          \u001b[38;5;34m36,928\u001b[0m │\n",
              "├──────────────────────────────────────┼─────────────────────────────┼─────────────────┤\n",
              "│ flatten_6 (\u001b[38;5;33mFlatten\u001b[0m)                  │ (\u001b[38;5;45mNone\u001b[0m, \u001b[38;5;34m1024\u001b[0m)                │               \u001b[38;5;34m0\u001b[0m │\n",
              "├──────────────────────────────────────┼─────────────────────────────┼─────────────────┤\n",
              "│ dense_15 (\u001b[38;5;33mDense\u001b[0m)                     │ (\u001b[38;5;45mNone\u001b[0m, \u001b[38;5;34m32\u001b[0m)                  │          \u001b[38;5;34m32,800\u001b[0m │\n",
              "├──────────────────────────────────────┼─────────────────────────────┼─────────────────┤\n",
              "│ dense_16 (\u001b[38;5;33mDense\u001b[0m)                     │ (\u001b[38;5;45mNone\u001b[0m, \u001b[38;5;34m10\u001b[0m)                  │             \u001b[38;5;34m330\u001b[0m │\n",
              "└──────────────────────────────────────┴─────────────────────────────┴─────────────────┘\n"
            ],
            "text/html": [
              "<pre style=\"white-space:pre;overflow-x:auto;line-height:normal;font-family:Menlo,'DejaVu Sans Mono',consolas,'Courier New',monospace\">┏━━━━━━━━━━━━━━━━━━━━━━━━━━━━━━━━━━━━━━┳━━━━━━━━━━━━━━━━━━━━━━━━━━━━━┳━━━━━━━━━━━━━━━━━┓\n",
              "┃<span style=\"font-weight: bold\"> Layer (type)                         </span>┃<span style=\"font-weight: bold\"> Output Shape                </span>┃<span style=\"font-weight: bold\">         Param # </span>┃\n",
              "┡━━━━━━━━━━━━━━━━━━━━━━━━━━━━━━━━━━━━━━╇━━━━━━━━━━━━━━━━━━━━━━━━━━━━━╇━━━━━━━━━━━━━━━━━┩\n",
              "│ conv2d_6 (<span style=\"color: #0087ff; text-decoration-color: #0087ff\">Conv2D</span>)                    │ (<span style=\"color: #00d7ff; text-decoration-color: #00d7ff\">None</span>, <span style=\"color: #00af00; text-decoration-color: #00af00\">30</span>, <span style=\"color: #00af00; text-decoration-color: #00af00\">30</span>, <span style=\"color: #00af00; text-decoration-color: #00af00\">32</span>)          │             <span style=\"color: #00af00; text-decoration-color: #00af00\">896</span> │\n",
              "├──────────────────────────────────────┼─────────────────────────────┼─────────────────┤\n",
              "│ max_pooling2d_4 (<span style=\"color: #0087ff; text-decoration-color: #0087ff\">MaxPooling2D</span>)       │ (<span style=\"color: #00d7ff; text-decoration-color: #00d7ff\">None</span>, <span style=\"color: #00af00; text-decoration-color: #00af00\">15</span>, <span style=\"color: #00af00; text-decoration-color: #00af00\">15</span>, <span style=\"color: #00af00; text-decoration-color: #00af00\">32</span>)          │               <span style=\"color: #00af00; text-decoration-color: #00af00\">0</span> │\n",
              "├──────────────────────────────────────┼─────────────────────────────┼─────────────────┤\n",
              "│ conv2d_7 (<span style=\"color: #0087ff; text-decoration-color: #0087ff\">Conv2D</span>)                    │ (<span style=\"color: #00d7ff; text-decoration-color: #00d7ff\">None</span>, <span style=\"color: #00af00; text-decoration-color: #00af00\">13</span>, <span style=\"color: #00af00; text-decoration-color: #00af00\">13</span>, <span style=\"color: #00af00; text-decoration-color: #00af00\">64</span>)          │          <span style=\"color: #00af00; text-decoration-color: #00af00\">18,496</span> │\n",
              "├──────────────────────────────────────┼─────────────────────────────┼─────────────────┤\n",
              "│ max_pooling2d_5 (<span style=\"color: #0087ff; text-decoration-color: #0087ff\">MaxPooling2D</span>)       │ (<span style=\"color: #00d7ff; text-decoration-color: #00d7ff\">None</span>, <span style=\"color: #00af00; text-decoration-color: #00af00\">6</span>, <span style=\"color: #00af00; text-decoration-color: #00af00\">6</span>, <span style=\"color: #00af00; text-decoration-color: #00af00\">64</span>)            │               <span style=\"color: #00af00; text-decoration-color: #00af00\">0</span> │\n",
              "├──────────────────────────────────────┼─────────────────────────────┼─────────────────┤\n",
              "│ conv2d_8 (<span style=\"color: #0087ff; text-decoration-color: #0087ff\">Conv2D</span>)                    │ (<span style=\"color: #00d7ff; text-decoration-color: #00d7ff\">None</span>, <span style=\"color: #00af00; text-decoration-color: #00af00\">4</span>, <span style=\"color: #00af00; text-decoration-color: #00af00\">4</span>, <span style=\"color: #00af00; text-decoration-color: #00af00\">64</span>)            │          <span style=\"color: #00af00; text-decoration-color: #00af00\">36,928</span> │\n",
              "├──────────────────────────────────────┼─────────────────────────────┼─────────────────┤\n",
              "│ flatten_6 (<span style=\"color: #0087ff; text-decoration-color: #0087ff\">Flatten</span>)                  │ (<span style=\"color: #00d7ff; text-decoration-color: #00d7ff\">None</span>, <span style=\"color: #00af00; text-decoration-color: #00af00\">1024</span>)                │               <span style=\"color: #00af00; text-decoration-color: #00af00\">0</span> │\n",
              "├──────────────────────────────────────┼─────────────────────────────┼─────────────────┤\n",
              "│ dense_15 (<span style=\"color: #0087ff; text-decoration-color: #0087ff\">Dense</span>)                     │ (<span style=\"color: #00d7ff; text-decoration-color: #00d7ff\">None</span>, <span style=\"color: #00af00; text-decoration-color: #00af00\">32</span>)                  │          <span style=\"color: #00af00; text-decoration-color: #00af00\">32,800</span> │\n",
              "├──────────────────────────────────────┼─────────────────────────────┼─────────────────┤\n",
              "│ dense_16 (<span style=\"color: #0087ff; text-decoration-color: #0087ff\">Dense</span>)                     │ (<span style=\"color: #00d7ff; text-decoration-color: #00d7ff\">None</span>, <span style=\"color: #00af00; text-decoration-color: #00af00\">10</span>)                  │             <span style=\"color: #00af00; text-decoration-color: #00af00\">330</span> │\n",
              "└──────────────────────────────────────┴─────────────────────────────┴─────────────────┘\n",
              "</pre>\n"
            ]
          },
          "metadata": {}
        },
        {
          "output_type": "display_data",
          "data": {
            "text/plain": [
              "\u001b[1m Total params: \u001b[0m\u001b[38;5;34m89,450\u001b[0m (349.41 KB)\n"
            ],
            "text/html": [
              "<pre style=\"white-space:pre;overflow-x:auto;line-height:normal;font-family:Menlo,'DejaVu Sans Mono',consolas,'Courier New',monospace\"><span style=\"font-weight: bold\"> Total params: </span><span style=\"color: #00af00; text-decoration-color: #00af00\">89,450</span> (349.41 KB)\n",
              "</pre>\n"
            ]
          },
          "metadata": {}
        },
        {
          "output_type": "display_data",
          "data": {
            "text/plain": [
              "\u001b[1m Trainable params: \u001b[0m\u001b[38;5;34m89,450\u001b[0m (349.41 KB)\n"
            ],
            "text/html": [
              "<pre style=\"white-space:pre;overflow-x:auto;line-height:normal;font-family:Menlo,'DejaVu Sans Mono',consolas,'Courier New',monospace\"><span style=\"font-weight: bold\"> Trainable params: </span><span style=\"color: #00af00; text-decoration-color: #00af00\">89,450</span> (349.41 KB)\n",
              "</pre>\n"
            ]
          },
          "metadata": {}
        },
        {
          "output_type": "display_data",
          "data": {
            "text/plain": [
              "\u001b[1m Non-trainable params: \u001b[0m\u001b[38;5;34m0\u001b[0m (0.00 B)\n"
            ],
            "text/html": [
              "<pre style=\"white-space:pre;overflow-x:auto;line-height:normal;font-family:Menlo,'DejaVu Sans Mono',consolas,'Courier New',monospace\"><span style=\"font-weight: bold\"> Non-trainable params: </span><span style=\"color: #00af00; text-decoration-color: #00af00\">0</span> (0.00 B)\n",
              "</pre>\n"
            ]
          },
          "metadata": {}
        }
      ]
    },
    {
      "cell_type": "markdown",
      "source": [
        "### Training the model"
      ],
      "metadata": {
        "id": "tIw-ZA_b7_0m"
      }
    },
    {
      "cell_type": "code",
      "source": [
        "model.compile(optimizer='adam',\n",
        "              loss='categorical_crossentropy',\n",
        "              metrics=['accuracy'])\n",
        "\n",
        "history = model.fit(train_images, train_labels, epochs=10,\n",
        "                    validation_data=(test_images, test_labels))"
      ],
      "metadata": {
        "colab": {
          "base_uri": "https://localhost:8080/"
        },
        "id": "wW_8e1d_7-9w",
        "outputId": "b3ecf8f0-7369-43dc-8515-fee6e385cb0f"
      },
      "execution_count": 26,
      "outputs": [
        {
          "output_type": "stream",
          "name": "stdout",
          "text": [
            "Epoch 1/10\n",
            "\u001b[1m157/157\u001b[0m \u001b[32m━━━━━━━━━━━━━━━━━━━━\u001b[0m\u001b[37m\u001b[0m \u001b[1m9s\u001b[0m 48ms/step - accuracy: 0.2161 - loss: 2.1031 - val_accuracy: 0.3230 - val_loss: 1.7735\n",
            "Epoch 2/10\n",
            "\u001b[1m157/157\u001b[0m \u001b[32m━━━━━━━━━━━━━━━━━━━━\u001b[0m\u001b[37m\u001b[0m \u001b[1m6s\u001b[0m 36ms/step - accuracy: 0.3824 - loss: 1.6697 - val_accuracy: 0.4320 - val_loss: 1.5616\n",
            "Epoch 3/10\n",
            "\u001b[1m157/157\u001b[0m \u001b[32m━━━━━━━━━━━━━━━━━━━━\u001b[0m\u001b[37m\u001b[0m \u001b[1m7s\u001b[0m 47ms/step - accuracy: 0.4723 - loss: 1.4602 - val_accuracy: 0.4810 - val_loss: 1.4804\n",
            "Epoch 4/10\n",
            "\u001b[1m157/157\u001b[0m \u001b[32m━━━━━━━━━━━━━━━━━━━━\u001b[0m\u001b[37m\u001b[0m \u001b[1m6s\u001b[0m 36ms/step - accuracy: 0.5282 - loss: 1.3162 - val_accuracy: 0.4910 - val_loss: 1.4157\n",
            "Epoch 5/10\n",
            "\u001b[1m157/157\u001b[0m \u001b[32m━━━━━━━━━━━━━━━━━━━━\u001b[0m\u001b[37m\u001b[0m \u001b[1m7s\u001b[0m 46ms/step - accuracy: 0.5646 - loss: 1.2118 - val_accuracy: 0.4970 - val_loss: 1.3949\n",
            "Epoch 6/10\n",
            "\u001b[1m157/157\u001b[0m \u001b[32m━━━━━━━━━━━━━━━━━━━━\u001b[0m\u001b[37m\u001b[0m \u001b[1m6s\u001b[0m 36ms/step - accuracy: 0.5980 - loss: 1.1230 - val_accuracy: 0.5150 - val_loss: 1.4025\n",
            "Epoch 7/10\n",
            "\u001b[1m157/157\u001b[0m \u001b[32m━━━━━━━━━━━━━━━━━━━━\u001b[0m\u001b[37m\u001b[0m \u001b[1m10s\u001b[0m 36ms/step - accuracy: 0.6402 - loss: 1.0218 - val_accuracy: 0.5140 - val_loss: 1.4505\n",
            "Epoch 8/10\n",
            "\u001b[1m157/157\u001b[0m \u001b[32m━━━━━━━━━━━━━━━━━━━━\u001b[0m\u001b[37m\u001b[0m \u001b[1m8s\u001b[0m 51ms/step - accuracy: 0.6794 - loss: 0.9402 - val_accuracy: 0.5140 - val_loss: 1.5015\n",
            "Epoch 9/10\n",
            "\u001b[1m157/157\u001b[0m \u001b[32m━━━━━━━━━━━━━━━━━━━━\u001b[0m\u001b[37m\u001b[0m \u001b[1m9s\u001b[0m 44ms/step - accuracy: 0.7121 - loss: 0.8578 - val_accuracy: 0.5290 - val_loss: 1.5049\n",
            "Epoch 10/10\n",
            "\u001b[1m157/157\u001b[0m \u001b[32m━━━━━━━━━━━━━━━━━━━━\u001b[0m\u001b[37m\u001b[0m \u001b[1m12s\u001b[0m 53ms/step - accuracy: 0.7517 - loss: 0.7453 - val_accuracy: 0.5200 - val_loss: 1.5476\n"
          ]
        }
      ]
    },
    {
      "cell_type": "markdown",
      "source": [
        "### Performance Evaluation\n",
        "\n",
        "We can see that we have achieved around 52% test accuracy with a simple CNN model."
      ],
      "metadata": {
        "id": "eThHi9LbEdbt"
      }
    },
    {
      "cell_type": "code",
      "source": [
        "plt.plot(history.history['accuracy'], label='train accuracy')\n",
        "plt.plot(history.history['val_accuracy'], label = 'test accuracy')\n",
        "plt.xlabel('Epoch')\n",
        "plt.ylabel('Accuracy')\n",
        "plt.ylim([0, 1])\n",
        "plt.legend(loc='lower right')\n",
        "plt.title('Cifar10 CNN Performance')\n",
        "\n",
        "test_loss, test_acc = model.evaluate(test_images,  test_labels, verbose=2)"
      ],
      "metadata": {
        "colab": {
          "base_uri": "https://localhost:8080/",
          "height": 489
        },
        "id": "Srt33J1I8Ccz",
        "outputId": "ac9a0eb4-6954-4d25-a391-6dde7d6937eb"
      },
      "execution_count": 28,
      "outputs": [
        {
          "output_type": "stream",
          "name": "stdout",
          "text": [
            "32/32 - 0s - 10ms/step - accuracy: 0.5200 - loss: 1.5476\n"
          ]
        },
        {
          "output_type": "display_data",
          "data": {
            "text/plain": [
              "<Figure size 640x480 with 1 Axes>"
            ],
            "image/png": "[encoded data removed]"
          },
          "metadata": {}
        }
      ]
    },
    {
      "cell_type": "markdown",
      "metadata": {
        "id": "I4oGQJvDJVj1"
      },
      "source": [
        "## Introduction to Transfer Learning\n",
        "\n",
        "Transfer learning leverages features from a model trained on one problem to tackle a related task—like using cat breed detection model to help identify other feline creatures such as lion and tiger. This approach is especially useful when data is limited, making training a full model from scratch impractical."
      ]
    },
    {
      "cell_type": "code",
      "execution_count": 29,
      "metadata": {
        "colab": {
          "base_uri": "https://localhost:8080/"
        },
        "id": "XZ6BbQ3mfnKK",
        "outputId": "0b8ec8a3-e24e-4ee3-f6ed-a2301a4ec605"
      },
      "outputs": [
        {
          "output_type": "execute_result",
          "data": {
            "text/plain": [
              "(-1.0, 1.0)"
            ]
          },
          "metadata": {},
          "execution_count": 29
        }
      ],
      "source": [
        "from tensorflow.keras.applications.mobilenet_v2 import MobileNetV2, preprocess_input\n",
        "\n",
        "# Resize images to 96x96 for better performance\n",
        "train_images = np.array(tf.image.resize(train_images_sampled, (96, 96)))\n",
        "test_images = np.array(tf.image.resize(test_images_sampled, (96, 96)))\n",
        "\n",
        "# Match the preprocessing in the base model\n",
        "train_images = preprocess_input(train_images)\n",
        "test_images = preprocess_input(test_images)\n",
        "\n",
        "train_images.min(), train_images.max()"
      ]
    },
    {
      "cell_type": "code",
      "source": [
        "train_images.shape"
      ],
      "metadata": {
        "colab": {
          "base_uri": "https://localhost:8080/"
        },
        "id": "k-Y7uH1ovZ-8",
        "outputId": "4970854f-6165-4e47-dcc0-ee3b27565421"
      },
      "execution_count": 30,
      "outputs": [
        {
          "output_type": "execute_result",
          "data": {
            "text/plain": [
              "(5000, 96, 96, 3)"
            ]
          },
          "metadata": {},
          "execution_count": 30
        }
      ]
    },
    {
      "cell_type": "code",
      "execution_count": 31,
      "metadata": {
        "id": "ticiqpcusBde",
        "colab": {
          "base_uri": "https://localhost:8080/"
        },
        "outputId": "7ccd6acf-7c22-49c6-a774-389fb3ef2342"
      },
      "outputs": [
        {
          "output_type": "execute_result",
          "data": {
            "text/plain": [
              "((5000, 10), (1000, 10))"
            ]
          },
          "metadata": {},
          "execution_count": 31
        }
      ],
      "source": [
        "train_labels.shape, test_labels.shape"
      ]
    },
    {
      "cell_type": "markdown",
      "source": [
        "### Transfer learning workflow\n",
        "\n",
        "The typical workflow in deep learning transfer learning involves:\n",
        "\n",
        "- `Reusing Pre-trained Model`: Import layers and weights from an already trained model.\n",
        "- `Freezing`: Lock these layers to preserve their learned information. We set `trainable = False`.\n",
        "- `Adding New Layers`: Stack new, trainable layers on top of the base model that adapt the existing features to predictions on your specific dataset.\n",
        "- `Fine-tuning (Optional)`: Unfreeze part (or all) of the model and training it on new data with a low learning rate. This can further refine features, enhancing performance for the new task.\n",
        "- `Training on New Data`: Train the new model on your dataset."
      ],
      "metadata": {
        "id": "_AH9BGeVGW9V"
      }
    },
    {
      "cell_type": "markdown",
      "metadata": {
        "id": "NFIIYQJBbdO_"
      },
      "source": [
        "### Building our base model: MobileNetV2\n",
        "\n",
        "I'll be using <a href=\"https://keras.io/api/applications/mobilenet/\">MobileNetV2 base model</a> in this notebook as it is very lightweight and Google Colaboratorys memory limit can handle it. This is also one of the available pre-trained models in Keras. Normally, I'd make use of more powerful ones."
      ]
    },
    {
      "cell_type": "code",
      "execution_count": 32,
      "metadata": {
        "colab": {
          "base_uri": "https://localhost:8080/",
          "height": 1000
        },
        "id": "NHLOWV0aZiRz",
        "outputId": "fcac0259-20e3-441e-a4f5-a2591afffbca"
      },
      "outputs": [
        {
          "output_type": "display_data",
          "data": {
            "text/plain": [
              "\u001b[1mModel: \"mobilenetv2_1.00_96\"\u001b[0m\n"
            ],
            "text/html": [
              "<pre style=\"white-space:pre;overflow-x:auto;line-height:normal;font-family:Menlo,'DejaVu Sans Mono',consolas,'Courier New',monospace\"><span style=\"font-weight: bold\">Model: \"mobilenetv2_1.00_96\"</span>\n",
              "</pre>\n"
            ]
          },
          "metadata": {}
        },
        {
          "output_type": "display_data",
          "data": {
            "text/plain": [
              "┏━━━━━━━━━━━━━━━━━━━━━━━━┳━━━━━━━━━━━━━━━━━━━━━━┳━━━━━━━━━━━━━━┳━━━━━━━━━━━━━━━━━━━━━┳━━━━━━━━━┓\n",
              "┃\u001b[1m \u001b[0m\u001b[1mLayer (type)          \u001b[0m\u001b[1m \u001b[0m┃\u001b[1m \u001b[0m\u001b[1mOutput Shape        \u001b[0m\u001b[1m \u001b[0m┃\u001b[1m \u001b[0m\u001b[1m     Param #\u001b[0m\u001b[1m \u001b[0m┃\u001b[1m \u001b[0m\u001b[1mConnected to       \u001b[0m\u001b[1m \u001b[0m┃\u001b[1m \u001b[0m\u001b[1mTraina…\u001b[0m\u001b[1m \u001b[0m┃\n",
              "┡━━━━━━━━━━━━━━━━━━━━━━━━╇━━━━━━━━━━━━━━━━━━━━━━╇━━━━━━━━━━━━━━╇━━━━━━━━━━━━━━━━━━━━━╇━━━━━━━━━┩\n",
              "│ input_layer_8          │ (\u001b[38;5;45mNone\u001b[0m, \u001b[38;5;34m96\u001b[0m, \u001b[38;5;34m96\u001b[0m, \u001b[38;5;34m3\u001b[0m)    │            \u001b[38;5;34m0\u001b[0m │ -                   │    \u001b[1m-\u001b[0m    │\n",
              "│ (\u001b[38;5;33mInputLayer\u001b[0m)           │                      │              │                     │         │\n",
              "├────────────────────────┼──────────────────────┼──────────────┼─────────────────────┼─────────┤\n",
              "│ Conv1 (\u001b[38;5;33mConv2D\u001b[0m)         │ (\u001b[38;5;45mNone\u001b[0m, \u001b[38;5;34m48\u001b[0m, \u001b[38;5;34m48\u001b[0m, \u001b[38;5;34m32\u001b[0m)   │          \u001b[38;5;34m864\u001b[0m │ input_layer_8[\u001b[38;5;34m0\u001b[0m][\u001b[38;5;34m0\u001b[0m] │    \u001b[1;38;5;34mY\u001b[0m    │\n",
              "├────────────────────────┼──────────────────────┼──────────────┼─────────────────────┼─────────┤\n",
              "│ bn_Conv1               │ (\u001b[38;5;45mNone\u001b[0m, \u001b[38;5;34m48\u001b[0m, \u001b[38;5;34m48\u001b[0m, \u001b[38;5;34m32\u001b[0m)   │          \u001b[38;5;34m128\u001b[0m │ Conv1[\u001b[38;5;34m0\u001b[0m][\u001b[38;5;34m0\u001b[0m]         │    \u001b[1;38;5;34mY\u001b[0m    │\n",
              "│ (\u001b[38;5;33mBatchNormalization\u001b[0m)   │                      │              │                     │         │\n",
              "├────────────────────────┼──────────────────────┼──────────────┼─────────────────────┼─────────┤\n",
              "│ Conv1_relu (\u001b[38;5;33mReLU\u001b[0m)      │ (\u001b[38;5;45mNone\u001b[0m, \u001b[38;5;34m48\u001b[0m, \u001b[38;5;34m48\u001b[0m, \u001b[38;5;34m32\u001b[0m)   │            \u001b[38;5;34m0\u001b[0m │ bn_Conv1[\u001b[38;5;34m0\u001b[0m][\u001b[38;5;34m0\u001b[0m]      │    \u001b[1m-\u001b[0m    │\n",
              "├────────────────────────┼──────────────────────┼──────────────┼─────────────────────┼─────────┤\n",
              "│ expanded_conv_depthwi… │ (\u001b[38;5;45mNone\u001b[0m, \u001b[38;5;34m48\u001b[0m, \u001b[38;5;34m48\u001b[0m, \u001b[38;5;34m32\u001b[0m)   │          \u001b[38;5;34m288\u001b[0m │ Conv1_relu[\u001b[38;5;34m0\u001b[0m][\u001b[38;5;34m0\u001b[0m]    │    \u001b[1;38;5;34mY\u001b[0m    │\n",
              "│ (\u001b[38;5;33mDepthwiseConv2D\u001b[0m)      │                      │              │                     │         │\n",
              "├────────────────────────┼──────────────────────┼──────────────┼─────────────────────┼─────────┤\n",
              "│ expanded_conv_depthwi… │ (\u001b[38;5;45mNone\u001b[0m, \u001b[38;5;34m48\u001b[0m, \u001b[38;5;34m48\u001b[0m, \u001b[38;5;34m32\u001b[0m)   │          \u001b[38;5;34m128\u001b[0m │ expanded_conv_dept… │    \u001b[1;38;5;34mY\u001b[0m    │\n",
              "│ (\u001b[38;5;33mBatchNormalization\u001b[0m)   │                      │              │                     │         │\n",
              "├────────────────────────┼──────────────────────┼──────────────┼─────────────────────┼─────────┤\n",
              "│ expanded_conv_depthwi… │ (\u001b[38;5;45mNone\u001b[0m, \u001b[38;5;34m48\u001b[0m, \u001b[38;5;34m48\u001b[0m, \u001b[38;5;34m32\u001b[0m)   │            \u001b[38;5;34m0\u001b[0m │ expanded_conv_dept… │    \u001b[1m-\u001b[0m    │\n",
              "│ (\u001b[38;5;33mReLU\u001b[0m)                 │                      │              │                     │         │\n",
              "├────────────────────────┼──────────────────────┼──────────────┼─────────────────────┼─────────┤\n",
              "│ expanded_conv_project  │ (\u001b[38;5;45mNone\u001b[0m, \u001b[38;5;34m48\u001b[0m, \u001b[38;5;34m48\u001b[0m, \u001b[38;5;34m16\u001b[0m)   │          \u001b[38;5;34m512\u001b[0m │ expanded_conv_dept… │    \u001b[1;38;5;34mY\u001b[0m    │\n",
              "│ (\u001b[38;5;33mConv2D\u001b[0m)               │                      │              │                     │         │\n",
              "├────────────────────────┼──────────────────────┼──────────────┼─────────────────────┼─────────┤\n",
              "│ expanded_conv_project… │ (\u001b[38;5;45mNone\u001b[0m, \u001b[38;5;34m48\u001b[0m, \u001b[38;5;34m48\u001b[0m, \u001b[38;5;34m16\u001b[0m)   │           \u001b[38;5;34m64\u001b[0m │ expanded_conv_proj… │    \u001b[1;38;5;34mY\u001b[0m    │\n",
              "│ (\u001b[38;5;33mBatchNormalization\u001b[0m)   │                      │              │                     │         │\n",
              "├────────────────────────┼──────────────────────┼──────────────┼─────────────────────┼─────────┤\n",
              "│ block_1_expand         │ (\u001b[38;5;45mNone\u001b[0m, \u001b[38;5;34m48\u001b[0m, \u001b[38;5;34m48\u001b[0m, \u001b[38;5;34m96\u001b[0m)   │        \u001b[38;5;34m1,536\u001b[0m │ expanded_conv_proj… │    \u001b[1;38;5;34mY\u001b[0m    │\n",
              "│ (\u001b[38;5;33mConv2D\u001b[0m)               │                      │              │                     │         │\n",
              "├────────────────────────┼──────────────────────┼──────────────┼─────────────────────┼─────────┤\n",
              "│ block_1_expand_BN      │ (\u001b[38;5;45mNone\u001b[0m, \u001b[38;5;34m48\u001b[0m, \u001b[38;5;34m48\u001b[0m, \u001b[38;5;34m96\u001b[0m)   │          \u001b[38;5;34m384\u001b[0m │ block_1_expand[\u001b[38;5;34m0\u001b[0m][\u001b[38;5;34m…\u001b[0m │    \u001b[1;38;5;34mY\u001b[0m    │\n",
              "│ (\u001b[38;5;33mBatchNormalization\u001b[0m)   │                      │              │                     │         │\n",
              "├────────────────────────┼──────────────────────┼──────────────┼─────────────────────┼─────────┤\n",
              "│ block_1_expand_relu    │ (\u001b[38;5;45mNone\u001b[0m, \u001b[38;5;34m48\u001b[0m, \u001b[38;5;34m48\u001b[0m, \u001b[38;5;34m96\u001b[0m)   │            \u001b[38;5;34m0\u001b[0m │ block_1_expand_BN[\u001b[38;5;34m…\u001b[0m │    \u001b[1m-\u001b[0m    │\n",
              "│ (\u001b[38;5;33mReLU\u001b[0m)                 │                      │              │                     │         │\n",
              "├────────────────────────┼──────────────────────┼──────────────┼─────────────────────┼─────────┤\n",
              "│ block_1_pad            │ (\u001b[38;5;45mNone\u001b[0m, \u001b[38;5;34m49\u001b[0m, \u001b[38;5;34m49\u001b[0m, \u001b[38;5;34m96\u001b[0m)   │            \u001b[38;5;34m0\u001b[0m │ block_1_expand_rel… │    \u001b[1m-\u001b[0m    │\n",
              "│ (\u001b[38;5;33mZeroPadding2D\u001b[0m)        │                      │              │                     │         │\n",
              "├────────────────────────┼──────────────────────┼──────────────┼─────────────────────┼─────────┤\n",
              "│ block_1_depthwise      │ (\u001b[38;5;45mNone\u001b[0m, \u001b[38;5;34m24\u001b[0m, \u001b[38;5;34m24\u001b[0m, \u001b[38;5;34m96\u001b[0m)   │          \u001b[38;5;34m864\u001b[0m │ block_1_pad[\u001b[38;5;34m0\u001b[0m][\u001b[38;5;34m0\u001b[0m]   │    \u001b[1;38;5;34mY\u001b[0m    │\n",
              "│ (\u001b[38;5;33mDepthwiseConv2D\u001b[0m)      │                      │              │                     │         │\n",
              "├────────────────────────┼──────────────────────┼──────────────┼─────────────────────┼─────────┤\n",
              "│ block_1_depthwise_BN   │ (\u001b[38;5;45mNone\u001b[0m, \u001b[38;5;34m24\u001b[0m, \u001b[38;5;34m24\u001b[0m, \u001b[38;5;34m96\u001b[0m)   │          \u001b[38;5;34m384\u001b[0m │ block_1_depthwise[\u001b[38;5;34m…\u001b[0m │    \u001b[1;38;5;34mY\u001b[0m    │\n",
              "│ (\u001b[38;5;33mBatchNormalization\u001b[0m)   │                      │              │                     │         │\n",
              "├────────────────────────┼──────────────────────┼──────────────┼─────────────────────┼─────────┤\n",
              "│ block_1_depthwise_relu │ (\u001b[38;5;45mNone\u001b[0m, \u001b[38;5;34m24\u001b[0m, \u001b[38;5;34m24\u001b[0m, \u001b[38;5;34m96\u001b[0m)   │            \u001b[38;5;34m0\u001b[0m │ block_1_depthwise_… │    \u001b[1m-\u001b[0m    │\n",
              "│ (\u001b[38;5;33mReLU\u001b[0m)                 │                      │              │                     │         │\n",
              "├────────────────────────┼──────────────────────┼──────────────┼─────────────────────┼─────────┤\n",
              "│ block_1_project        │ (\u001b[38;5;45mNone\u001b[0m, \u001b[38;5;34m24\u001b[0m, \u001b[38;5;34m24\u001b[0m, \u001b[38;5;34m24\u001b[0m)   │        \u001b[38;5;34m2,304\u001b[0m │ block_1_depthwise_… │    \u001b[1;38;5;34mY\u001b[0m    │\n",
              "│ (\u001b[38;5;33mConv2D\u001b[0m)               │                      │              │                     │         │\n",
              "├────────────────────────┼──────────────────────┼──────────────┼─────────────────────┼─────────┤\n",
              "│ block_1_project_BN     │ (\u001b[38;5;45mNone\u001b[0m, \u001b[38;5;34m24\u001b[0m, \u001b[38;5;34m24\u001b[0m, \u001b[38;5;34m24\u001b[0m)   │           \u001b[38;5;34m96\u001b[0m │ block_1_project[\u001b[38;5;34m0\u001b[0m]… │    \u001b[1;38;5;34mY\u001b[0m    │\n",
              "│ (\u001b[38;5;33mBatchNormalization\u001b[0m)   │                      │              │                     │         │\n",
              "├────────────────────────┼──────────────────────┼──────────────┼─────────────────────┼─────────┤\n",
              "│ block_2_expand         │ (\u001b[38;5;45mNone\u001b[0m, \u001b[38;5;34m24\u001b[0m, \u001b[38;5;34m24\u001b[0m, \u001b[38;5;34m144\u001b[0m)  │        \u001b[38;5;34m3,456\u001b[0m │ block_1_project_BN… │    \u001b[1;38;5;34mY\u001b[0m    │\n",
              "│ (\u001b[38;5;33mConv2D\u001b[0m)               │                      │              │                     │         │\n",
              "├────────────────────────┼──────────────────────┼──────────────┼─────────────────────┼─────────┤\n",
              "│ block_2_expand_BN      │ (\u001b[38;5;45mNone\u001b[0m, \u001b[38;5;34m24\u001b[0m, \u001b[38;5;34m24\u001b[0m, \u001b[38;5;34m144\u001b[0m)  │          \u001b[38;5;34m576\u001b[0m │ block_2_expand[\u001b[38;5;34m0\u001b[0m][\u001b[38;5;34m…\u001b[0m │    \u001b[1;38;5;34mY\u001b[0m    │\n",
              "│ (\u001b[38;5;33mBatchNormalization\u001b[0m)   │                      │              │                     │         │\n",
              "├────────────────────────┼──────────────────────┼──────────────┼─────────────────────┼─────────┤\n",
              "│ block_2_expand_relu    │ (\u001b[38;5;45mNone\u001b[0m, \u001b[38;5;34m24\u001b[0m, \u001b[38;5;34m24\u001b[0m, \u001b[38;5;34m144\u001b[0m)  │            \u001b[38;5;34m0\u001b[0m │ block_2_expand_BN[\u001b[38;5;34m…\u001b[0m │    \u001b[1m-\u001b[0m    │\n",
              "│ (\u001b[38;5;33mReLU\u001b[0m)                 │                      │              │                     │         │\n",
              "├────────────────────────┼──────────────────────┼──────────────┼─────────────────────┼─────────┤\n",
              "│ block_2_depthwise      │ (\u001b[38;5;45mNone\u001b[0m, \u001b[38;5;34m24\u001b[0m, \u001b[38;5;34m24\u001b[0m, \u001b[38;5;34m144\u001b[0m)  │        \u001b[38;5;34m1,296\u001b[0m │ block_2_expand_rel… │    \u001b[1;38;5;34mY\u001b[0m    │\n",
              "│ (\u001b[38;5;33mDepthwiseConv2D\u001b[0m)      │                      │              │                     │         │\n",
              "├────────────────────────┼──────────────────────┼──────────────┼─────────────────────┼─────────┤\n",
              "│ block_2_depthwise_BN   │ (\u001b[38;5;45mNone\u001b[0m, \u001b[38;5;34m24\u001b[0m, \u001b[38;5;34m24\u001b[0m, \u001b[38;5;34m144\u001b[0m)  │          \u001b[38;5;34m576\u001b[0m │ block_2_depthwise[\u001b[38;5;34m…\u001b[0m │    \u001b[1;38;5;34mY\u001b[0m    │\n",
              "│ (\u001b[38;5;33mBatchNormalization\u001b[0m)   │                      │              │                     │         │\n",
              "├────────────────────────┼──────────────────────┼──────────────┼─────────────────────┼─────────┤\n",
              "│ block_2_depthwise_relu │ (\u001b[38;5;45mNone\u001b[0m, \u001b[38;5;34m24\u001b[0m, \u001b[38;5;34m24\u001b[0m, \u001b[38;5;34m144\u001b[0m)  │            \u001b[38;5;34m0\u001b[0m │ block_2_depthwise_… │    \u001b[1m-\u001b[0m    │\n",
              "│ (\u001b[38;5;33mReLU\u001b[0m)                 │                      │              │                     │         │\n",
              "├────────────────────────┼──────────────────────┼──────────────┼─────────────────────┼─────────┤\n",
              "│ block_2_project        │ (\u001b[38;5;45mNone\u001b[0m, \u001b[38;5;34m24\u001b[0m, \u001b[38;5;34m24\u001b[0m, \u001b[38;5;34m24\u001b[0m)   │        \u001b[38;5;34m3,456\u001b[0m │ block_2_depthwise_… │    \u001b[1;38;5;34mY\u001b[0m    │\n",
              "│ (\u001b[38;5;33mConv2D\u001b[0m)               │                      │              │                     │         │\n",
              "├────────────────────────┼──────────────────────┼──────────────┼─────────────────────┼─────────┤\n",
              "│ block_2_project_BN     │ (\u001b[38;5;45mNone\u001b[0m, \u001b[38;5;34m24\u001b[0m, \u001b[38;5;34m24\u001b[0m, \u001b[38;5;34m24\u001b[0m)   │           \u001b[38;5;34m96\u001b[0m │ block_2_project[\u001b[38;5;34m0\u001b[0m]… │    \u001b[1;38;5;34mY\u001b[0m    │\n",
              "│ (\u001b[38;5;33mBatchNormalization\u001b[0m)   │                      │              │                     │         │\n",
              "├────────────────────────┼──────────────────────┼──────────────┼─────────────────────┼─────────┤\n",
              "│ block_2_add (\u001b[38;5;33mAdd\u001b[0m)      │ (\u001b[38;5;45mNone\u001b[0m, \u001b[38;5;34m24\u001b[0m, \u001b[38;5;34m24\u001b[0m, \u001b[38;5;34m24\u001b[0m)   │            \u001b[38;5;34m0\u001b[0m │ block_1_project_BN… │    \u001b[1m-\u001b[0m    │\n",
              "│                        │                      │              │ block_2_project_BN… │         │\n",
              "├────────────────────────┼──────────────────────┼──────────────┼─────────────────────┼─────────┤\n",
              "│ block_3_expand         │ (\u001b[38;5;45mNone\u001b[0m, \u001b[38;5;34m24\u001b[0m, \u001b[38;5;34m24\u001b[0m, \u001b[38;5;34m144\u001b[0m)  │        \u001b[38;5;34m3,456\u001b[0m │ block_2_add[\u001b[38;5;34m0\u001b[0m][\u001b[38;5;34m0\u001b[0m]   │    \u001b[1;38;5;34mY\u001b[0m    │\n",
              "│ (\u001b[38;5;33mConv2D\u001b[0m)               │                      │              │                     │         │\n",
              "├────────────────────────┼──────────────────────┼──────────────┼─────────────────────┼─────────┤\n",
              "│ block_3_expand_BN      │ (\u001b[38;5;45mNone\u001b[0m, \u001b[38;5;34m24\u001b[0m, \u001b[38;5;34m24\u001b[0m, \u001b[38;5;34m144\u001b[0m)  │          \u001b[38;5;34m576\u001b[0m │ block_3_expand[\u001b[38;5;34m0\u001b[0m][\u001b[38;5;34m…\u001b[0m │    \u001b[1;38;5;34mY\u001b[0m    │\n",
              "│ (\u001b[38;5;33mBatchNormalization\u001b[0m)   │                      │              │                     │         │\n",
              "├────────────────────────┼──────────────────────┼──────────────┼─────────────────────┼─────────┤\n",
              "│ block_3_expand_relu    │ (\u001b[38;5;45mNone\u001b[0m, \u001b[38;5;34m24\u001b[0m, \u001b[38;5;34m24\u001b[0m, \u001b[38;5;34m144\u001b[0m)  │            \u001b[38;5;34m0\u001b[0m │ block_3_expand_BN[\u001b[38;5;34m…\u001b[0m │    \u001b[1m-\u001b[0m    │\n",
              "│ (\u001b[38;5;33mReLU\u001b[0m)                 │                      │              │                     │         │\n",
              "├────────────────────────┼──────────────────────┼──────────────┼─────────────────────┼─────────┤\n",
              "│ block_3_pad            │ (\u001b[38;5;45mNone\u001b[0m, \u001b[38;5;34m25\u001b[0m, \u001b[38;5;34m25\u001b[0m, \u001b[38;5;34m144\u001b[0m)  │            \u001b[38;5;34m0\u001b[0m │ block_3_expand_rel… │    \u001b[1m-\u001b[0m    │\n",
              "│ (\u001b[38;5;33mZeroPadding2D\u001b[0m)        │                      │              │                     │         │\n",
              "├────────────────────────┼──────────────────────┼──────────────┼─────────────────────┼─────────┤\n",
              "│ block_3_depthwise      │ (\u001b[38;5;45mNone\u001b[0m, \u001b[38;5;34m12\u001b[0m, \u001b[38;5;34m12\u001b[0m, \u001b[38;5;34m144\u001b[0m)  │        \u001b[38;5;34m1,296\u001b[0m │ block_3_pad[\u001b[38;5;34m0\u001b[0m][\u001b[38;5;34m0\u001b[0m]   │    \u001b[1;38;5;34mY\u001b[0m    │\n",
              "│ (\u001b[38;5;33mDepthwiseConv2D\u001b[0m)      │                      │              │                     │         │\n",
              "├────────────────────────┼──────────────────────┼──────────────┼─────────────────────┼─────────┤\n",
              "│ block_3_depthwise_BN   │ (\u001b[38;5;45mNone\u001b[0m, \u001b[38;5;34m12\u001b[0m, \u001b[38;5;34m12\u001b[0m, \u001b[38;5;34m144\u001b[0m)  │          \u001b[38;5;34m576\u001b[0m │ block_3_depthwise[\u001b[38;5;34m…\u001b[0m │    \u001b[1;38;5;34mY\u001b[0m    │\n",
              "│ (\u001b[38;5;33mBatchNormalization\u001b[0m)   │                      │              │                     │         │\n",
              "├────────────────────────┼──────────────────────┼──────────────┼─────────────────────┼─────────┤\n",
              "│ block_3_depthwise_relu │ (\u001b[38;5;45mNone\u001b[0m, \u001b[38;5;34m12\u001b[0m, \u001b[38;5;34m12\u001b[0m, \u001b[38;5;34m144\u001b[0m)  │            \u001b[38;5;34m0\u001b[0m │ block_3_depthwise_… │    \u001b[1m-\u001b[0m    │\n",
              "│ (\u001b[38;5;33mReLU\u001b[0m)                 │                      │              │                     │         │\n",
              "├────────────────────────┼──────────────────────┼──────────────┼─────────────────────┼─────────┤\n",
              "│ block_3_project        │ (\u001b[38;5;45mNone\u001b[0m, \u001b[38;5;34m12\u001b[0m, \u001b[38;5;34m12\u001b[0m, \u001b[38;5;34m32\u001b[0m)   │        \u001b[38;5;34m4,608\u001b[0m │ block_3_depthwise_… │    \u001b[1;38;5;34mY\u001b[0m    │\n",
              "│ (\u001b[38;5;33mConv2D\u001b[0m)               │                      │              │                     │         │\n",
              "├────────────────────────┼──────────────────────┼──────────────┼─────────────────────┼─────────┤\n",
              "│ block_3_project_BN     │ (\u001b[38;5;45mNone\u001b[0m, \u001b[38;5;34m12\u001b[0m, \u001b[38;5;34m12\u001b[0m, \u001b[38;5;34m32\u001b[0m)   │          \u001b[38;5;34m128\u001b[0m │ block_3_project[\u001b[38;5;34m0\u001b[0m]… │    \u001b[1;38;5;34mY\u001b[0m    │\n",
              "│ (\u001b[38;5;33mBatchNormalization\u001b[0m)   │                      │              │                     │         │\n",
              "├────────────────────────┼──────────────────────┼──────────────┼─────────────────────┼─────────┤\n",
              "│ block_4_expand         │ (\u001b[38;5;45mNone\u001b[0m, \u001b[38;5;34m12\u001b[0m, \u001b[38;5;34m12\u001b[0m, \u001b[38;5;34m192\u001b[0m)  │        \u001b[38;5;34m6,144\u001b[0m │ block_3_project_BN… │    \u001b[1;38;5;34mY\u001b[0m    │\n",
              "│ (\u001b[38;5;33mConv2D\u001b[0m)               │                      │              │                     │         │\n",
              "├────────────────────────┼──────────────────────┼──────────────┼─────────────────────┼─────────┤\n",
              "│ block_4_expand_BN      │ (\u001b[38;5;45mNone\u001b[0m, \u001b[38;5;34m12\u001b[0m, \u001b[38;5;34m12\u001b[0m, \u001b[38;5;34m192\u001b[0m)  │          \u001b[38;5;34m768\u001b[0m │ block_4_expand[\u001b[38;5;34m0\u001b[0m][\u001b[38;5;34m…\u001b[0m │    \u001b[1;38;5;34mY\u001b[0m    │\n",
              "│ (\u001b[38;5;33mBatchNormalization\u001b[0m)   │                      │              │                     │         │\n",
              "├────────────────────────┼──────────────────────┼──────────────┼─────────────────────┼─────────┤\n",
              "│ block_4_expand_relu    │ (\u001b[38;5;45mNone\u001b[0m, \u001b[38;5;34m12\u001b[0m, \u001b[38;5;34m12\u001b[0m, \u001b[38;5;34m192\u001b[0m)  │            \u001b[38;5;34m0\u001b[0m │ block_4_expand_BN[\u001b[38;5;34m…\u001b[0m │    \u001b[1m-\u001b[0m    │\n",
              "│ (\u001b[38;5;33mReLU\u001b[0m)                 │                      │              │                     │         │\n",
              "├────────────────────────┼──────────────────────┼──────────────┼─────────────────────┼─────────┤\n",
              "│ block_4_depthwise      │ (\u001b[38;5;45mNone\u001b[0m, \u001b[38;5;34m12\u001b[0m, \u001b[38;5;34m12\u001b[0m, \u001b[38;5;34m192\u001b[0m)  │        \u001b[38;5;34m1,728\u001b[0m │ block_4_expand_rel… │    \u001b[1;38;5;34mY\u001b[0m    │\n",
              "│ (\u001b[38;5;33mDepthwiseConv2D\u001b[0m)      │                      │              │                     │         │\n",
              "├────────────────────────┼──────────────────────┼──────────────┼─────────────────────┼─────────┤\n",
              "│ block_4_depthwise_BN   │ (\u001b[38;5;45mNone\u001b[0m, \u001b[38;5;34m12\u001b[0m, \u001b[38;5;34m12\u001b[0m, \u001b[38;5;34m192\u001b[0m)  │          \u001b[38;5;34m768\u001b[0m │ block_4_depthwise[\u001b[38;5;34m…\u001b[0m │    \u001b[1;38;5;34mY\u001b[0m    │\n",
              "│ (\u001b[38;5;33mBatchNormalization\u001b[0m)   │                      │              │                     │         │\n",
              "├────────────────────────┼──────────────────────┼──────────────┼─────────────────────┼─────────┤\n",
              "│ block_4_depthwise_relu │ (\u001b[38;5;45mNone\u001b[0m, \u001b[38;5;34m12\u001b[0m, \u001b[38;5;34m12\u001b[0m, \u001b[38;5;34m192\u001b[0m)  │            \u001b[38;5;34m0\u001b[0m │ block_4_depthwise_… │    \u001b[1m-\u001b[0m    │\n",
              "│ (\u001b[38;5;33mReLU\u001b[0m)                 │                      │              │                     │         │\n",
              "├────────────────────────┼──────────────────────┼──────────────┼─────────────────────┼─────────┤\n",
              "│ block_4_project        │ (\u001b[38;5;45mNone\u001b[0m, \u001b[38;5;34m12\u001b[0m, \u001b[38;5;34m12\u001b[0m, \u001b[38;5;34m32\u001b[0m)   │        \u001b[38;5;34m6,144\u001b[0m │ block_4_depthwise_… │    \u001b[1;38;5;34mY\u001b[0m    │\n",
              "│ (\u001b[38;5;33mConv2D\u001b[0m)               │                      │              │                     │         │\n",
              "├────────────────────────┼──────────────────────┼──────────────┼─────────────────────┼─────────┤\n",
              "│ block_4_project_BN     │ (\u001b[38;5;45mNone\u001b[0m, \u001b[38;5;34m12\u001b[0m, \u001b[38;5;34m12\u001b[0m, \u001b[38;5;34m32\u001b[0m)   │          \u001b[38;5;34m128\u001b[0m │ block_4_project[\u001b[38;5;34m0\u001b[0m]… │    \u001b[1;38;5;34mY\u001b[0m    │\n",
              "│ (\u001b[38;5;33mBatchNormalization\u001b[0m)   │                      │              │                     │         │\n",
              "├────────────────────────┼──────────────────────┼──────────────┼─────────────────────┼─────────┤\n",
              "│ block_4_add (\u001b[38;5;33mAdd\u001b[0m)      │ (\u001b[38;5;45mNone\u001b[0m, \u001b[38;5;34m12\u001b[0m, \u001b[38;5;34m12\u001b[0m, \u001b[38;5;34m32\u001b[0m)   │            \u001b[38;5;34m0\u001b[0m │ block_3_project_BN… │    \u001b[1m-\u001b[0m    │\n",
              "│                        │                      │              │ block_4_project_BN… │         │\n",
              "├────────────────────────┼──────────────────────┼──────────────┼─────────────────────┼─────────┤\n",
              "│ block_5_expand         │ (\u001b[38;5;45mNone\u001b[0m, \u001b[38;5;34m12\u001b[0m, \u001b[38;5;34m12\u001b[0m, \u001b[38;5;34m192\u001b[0m)  │        \u001b[38;5;34m6,144\u001b[0m │ block_4_add[\u001b[38;5;34m0\u001b[0m][\u001b[38;5;34m0\u001b[0m]   │    \u001b[1;38;5;34mY\u001b[0m    │\n",
              "│ (\u001b[38;5;33mConv2D\u001b[0m)               │                      │              │                     │         │\n",
              "├────────────────────────┼──────────────────────┼──────────────┼─────────────────────┼─────────┤\n",
              "│ block_5_expand_BN      │ (\u001b[38;5;45mNone\u001b[0m, \u001b[38;5;34m12\u001b[0m, \u001b[38;5;34m12\u001b[0m, \u001b[38;5;34m192\u001b[0m)  │          \u001b[38;5;34m768\u001b[0m │ block_5_expand[\u001b[38;5;34m0\u001b[0m][\u001b[38;5;34m…\u001b[0m │    \u001b[1;38;5;34mY\u001b[0m    │\n",
              "│ (\u001b[38;5;33mBatchNormalization\u001b[0m)   │                      │              │                     │         │\n",
              "├────────────────────────┼──────────────────────┼──────────────┼─────────────────────┼─────────┤\n",
              "│ block_5_expand_relu    │ (\u001b[38;5;45mNone\u001b[0m, \u001b[38;5;34m12\u001b[0m, \u001b[38;5;34m12\u001b[0m, \u001b[38;5;34m192\u001b[0m)  │            \u001b[38;5;34m0\u001b[0m │ block_5_expand_BN[\u001b[38;5;34m…\u001b[0m │    \u001b[1m-\u001b[0m    │\n",
              "│ (\u001b[38;5;33mReLU\u001b[0m)                 │                      │              │                     │         │\n",
              "├────────────────────────┼──────────────────────┼──────────────┼─────────────────────┼─────────┤\n",
              "│ block_5_depthwise      │ (\u001b[38;5;45mNone\u001b[0m, \u001b[38;5;34m12\u001b[0m, \u001b[38;5;34m12\u001b[0m, \u001b[38;5;34m192\u001b[0m)  │        \u001b[38;5;34m1,728\u001b[0m │ block_5_expand_rel… │    \u001b[1;38;5;34mY\u001b[0m    │\n",
              "│ (\u001b[38;5;33mDepthwiseConv2D\u001b[0m)      │                      │              │                     │         │\n",
              "├────────────────────────┼──────────────────────┼──────────────┼─────────────────────┼─────────┤\n",
              "│ block_5_depthwise_BN   │ (\u001b[38;5;45mNone\u001b[0m, \u001b[38;5;34m12\u001b[0m, \u001b[38;5;34m12\u001b[0m, \u001b[38;5;34m192\u001b[0m)  │          \u001b[38;5;34m768\u001b[0m │ block_5_depthwise[\u001b[38;5;34m…\u001b[0m │    \u001b[1;38;5;34mY\u001b[0m    │\n",
              "│ (\u001b[38;5;33mBatchNormalization\u001b[0m)   │                      │              │                     │         │\n",
              "├────────────────────────┼──────────────────────┼──────────────┼─────────────────────┼─────────┤\n",
              "│ block_5_depthwise_relu │ (\u001b[38;5;45mNone\u001b[0m, \u001b[38;5;34m12\u001b[0m, \u001b[38;5;34m12\u001b[0m, \u001b[38;5;34m192\u001b[0m)  │            \u001b[38;5;34m0\u001b[0m │ block_5_depthwise_… │    \u001b[1m-\u001b[0m    │\n",
              "│ (\u001b[38;5;33mReLU\u001b[0m)                 │                      │              │                     │         │\n",
              "├────────────────────────┼──────────────────────┼──────────────┼─────────────────────┼─────────┤\n",
              "│ block_5_project        │ (\u001b[38;5;45mNone\u001b[0m, \u001b[38;5;34m12\u001b[0m, \u001b[38;5;34m12\u001b[0m, \u001b[38;5;34m32\u001b[0m)   │        \u001b[38;5;34m6,144\u001b[0m │ block_5_depthwise_… │    \u001b[1;38;5;34mY\u001b[0m    │\n",
              "│ (\u001b[38;5;33mConv2D\u001b[0m)               │                      │              │                     │         │\n",
              "├────────────────────────┼──────────────────────┼──────────────┼─────────────────────┼─────────┤\n",
              "│ block_5_project_BN     │ (\u001b[38;5;45mNone\u001b[0m, \u001b[38;5;34m12\u001b[0m, \u001b[38;5;34m12\u001b[0m, \u001b[38;5;34m32\u001b[0m)   │          \u001b[38;5;34m128\u001b[0m │ block_5_project[\u001b[38;5;34m0\u001b[0m]… │    \u001b[1;38;5;34mY\u001b[0m    │\n",
              "│ (\u001b[38;5;33mBatchNormalization\u001b[0m)   │                      │              │                     │         │\n",
              "├────────────────────────┼──────────────────────┼──────────────┼─────────────────────┼─────────┤\n",
              "│ block_5_add (\u001b[38;5;33mAdd\u001b[0m)      │ (\u001b[38;5;45mNone\u001b[0m, \u001b[38;5;34m12\u001b[0m, \u001b[38;5;34m12\u001b[0m, \u001b[38;5;34m32\u001b[0m)   │            \u001b[38;5;34m0\u001b[0m │ block_4_add[\u001b[38;5;34m0\u001b[0m][\u001b[38;5;34m0\u001b[0m],  │    \u001b[1m-\u001b[0m    │\n",
              "│                        │                      │              │ block_5_project_BN… │         │\n",
              "├────────────────────────┼──────────────────────┼──────────────┼─────────────────────┼─────────┤\n",
              "│ block_6_expand         │ (\u001b[38;5;45mNone\u001b[0m, \u001b[38;5;34m12\u001b[0m, \u001b[38;5;34m12\u001b[0m, \u001b[38;5;34m192\u001b[0m)  │        \u001b[38;5;34m6,144\u001b[0m │ block_5_add[\u001b[38;5;34m0\u001b[0m][\u001b[38;5;34m0\u001b[0m]   │    \u001b[1;38;5;34mY\u001b[0m    │\n",
              "│ (\u001b[38;5;33mConv2D\u001b[0m)               │                      │              │                     │         │\n",
              "├────────────────────────┼──────────────────────┼──────────────┼─────────────────────┼─────────┤\n",
              "│ block_6_expand_BN      │ (\u001b[38;5;45mNone\u001b[0m, \u001b[38;5;34m12\u001b[0m, \u001b[38;5;34m12\u001b[0m, \u001b[38;5;34m192\u001b[0m)  │          \u001b[38;5;34m768\u001b[0m │ block_6_expand[\u001b[38;5;34m0\u001b[0m][\u001b[38;5;34m…\u001b[0m │    \u001b[1;38;5;34mY\u001b[0m    │\n",
              "│ (\u001b[38;5;33mBatchNormalization\u001b[0m)   │                      │              │                     │         │\n",
              "├────────────────────────┼──────────────────────┼──────────────┼─────────────────────┼─────────┤\n",
              "│ block_6_expand_relu    │ (\u001b[38;5;45mNone\u001b[0m, \u001b[38;5;34m12\u001b[0m, \u001b[38;5;34m12\u001b[0m, \u001b[38;5;34m192\u001b[0m)  │            \u001b[38;5;34m0\u001b[0m │ block_6_expand_BN[\u001b[38;5;34m…\u001b[0m │    \u001b[1m-\u001b[0m    │\n",
              "│ (\u001b[38;5;33mReLU\u001b[0m)                 │                      │              │                     │         │\n",
              "├────────────────────────┼──────────────────────┼──────────────┼─────────────────────┼─────────┤\n",
              "│ block_6_pad            │ (\u001b[38;5;45mNone\u001b[0m, \u001b[38;5;34m13\u001b[0m, \u001b[38;5;34m13\u001b[0m, \u001b[38;5;34m192\u001b[0m)  │            \u001b[38;5;34m0\u001b[0m │ block_6_expand_rel… │    \u001b[1m-\u001b[0m    │\n",
              "│ (\u001b[38;5;33mZeroPadding2D\u001b[0m)        │                      │              │                     │         │\n",
              "├────────────────────────┼──────────────────────┼──────────────┼─────────────────────┼─────────┤\n",
              "│ block_6_depthwise      │ (\u001b[38;5;45mNone\u001b[0m, \u001b[38;5;34m6\u001b[0m, \u001b[38;5;34m6\u001b[0m, \u001b[38;5;34m192\u001b[0m)    │        \u001b[38;5;34m1,728\u001b[0m │ block_6_pad[\u001b[38;5;34m0\u001b[0m][\u001b[38;5;34m0\u001b[0m]   │    \u001b[1;38;5;34mY\u001b[0m    │\n",
              "│ (\u001b[38;5;33mDepthwiseConv2D\u001b[0m)      │                      │              │                     │         │\n",
              "├────────────────────────┼──────────────────────┼──────────────┼─────────────────────┼─────────┤\n",
              "│ block_6_depthwise_BN   │ (\u001b[38;5;45mNone\u001b[0m, \u001b[38;5;34m6\u001b[0m, \u001b[38;5;34m6\u001b[0m, \u001b[38;5;34m192\u001b[0m)    │          \u001b[38;5;34m768\u001b[0m │ block_6_depthwise[\u001b[38;5;34m…\u001b[0m │    \u001b[1;38;5;34mY\u001b[0m    │\n",
              "│ (\u001b[38;5;33mBatchNormalization\u001b[0m)   │                      │              │                     │         │\n",
              "├────────────────────────┼──────────────────────┼──────────────┼─────────────────────┼─────────┤\n",
              "│ block_6_depthwise_relu │ (\u001b[38;5;45mNone\u001b[0m, \u001b[38;5;34m6\u001b[0m, \u001b[38;5;34m6\u001b[0m, \u001b[38;5;34m192\u001b[0m)    │            \u001b[38;5;34m0\u001b[0m │ block_6_depthwise_… │    \u001b[1m-\u001b[0m    │\n",
              "│ (\u001b[38;5;33mReLU\u001b[0m)                 │                      │              │                     │         │\n",
              "├────────────────────────┼──────────────────────┼──────────────┼─────────────────────┼─────────┤\n",
              "│ block_6_project        │ (\u001b[38;5;45mNone\u001b[0m, \u001b[38;5;34m6\u001b[0m, \u001b[38;5;34m6\u001b[0m, \u001b[38;5;34m64\u001b[0m)     │       \u001b[38;5;34m12,288\u001b[0m │ block_6_depthwise_… │    \u001b[1;38;5;34mY\u001b[0m    │\n",
              "│ (\u001b[38;5;33mConv2D\u001b[0m)               │                      │              │                     │         │\n",
              "├────────────────────────┼──────────────────────┼──────────────┼─────────────────────┼─────────┤\n",
              "│ block_6_project_BN     │ (\u001b[38;5;45mNone\u001b[0m, \u001b[38;5;34m6\u001b[0m, \u001b[38;5;34m6\u001b[0m, \u001b[38;5;34m64\u001b[0m)     │          \u001b[38;5;34m256\u001b[0m │ block_6_project[\u001b[38;5;34m0\u001b[0m]… │    \u001b[1;38;5;34mY\u001b[0m    │\n",
              "│ (\u001b[38;5;33mBatchNormalization\u001b[0m)   │                      │              │                     │         │\n",
              "├────────────────────────┼──────────────────────┼──────────────┼─────────────────────┼─────────┤\n",
              "│ block_7_expand         │ (\u001b[38;5;45mNone\u001b[0m, \u001b[38;5;34m6\u001b[0m, \u001b[38;5;34m6\u001b[0m, \u001b[38;5;34m384\u001b[0m)    │       \u001b[38;5;34m24,576\u001b[0m │ block_6_project_BN… │    \u001b[1;38;5;34mY\u001b[0m    │\n",
              "│ (\u001b[38;5;33mConv2D\u001b[0m)               │                      │              │                     │         │\n",
              "├────────────────────────┼──────────────────────┼──────────────┼─────────────────────┼─────────┤\n",
              "│ block_7_expand_BN      │ (\u001b[38;5;45mNone\u001b[0m, \u001b[38;5;34m6\u001b[0m, \u001b[38;5;34m6\u001b[0m, \u001b[38;5;34m384\u001b[0m)    │        \u001b[38;5;34m1,536\u001b[0m │ block_7_expand[\u001b[38;5;34m0\u001b[0m][\u001b[38;5;34m…\u001b[0m │    \u001b[1;38;5;34mY\u001b[0m    │\n",
              "│ (\u001b[38;5;33mBatchNormalization\u001b[0m)   │                      │              │                     │         │\n",
              "├────────────────────────┼──────────────────────┼──────────────┼─────────────────────┼─────────┤\n",
              "│ block_7_expand_relu    │ (\u001b[38;5;45mNone\u001b[0m, \u001b[38;5;34m6\u001b[0m, \u001b[38;5;34m6\u001b[0m, \u001b[38;5;34m384\u001b[0m)    │            \u001b[38;5;34m0\u001b[0m │ block_7_expand_BN[\u001b[38;5;34m…\u001b[0m │    \u001b[1m-\u001b[0m    │\n",
              "│ (\u001b[38;5;33mReLU\u001b[0m)                 │                      │              │                     │         │\n",
              "├────────────────────────┼──────────────────────┼──────────────┼─────────────────────┼─────────┤\n",
              "│ block_7_depthwise      │ (\u001b[38;5;45mNone\u001b[0m, \u001b[38;5;34m6\u001b[0m, \u001b[38;5;34m6\u001b[0m, \u001b[38;5;34m384\u001b[0m)    │        \u001b[38;5;34m3,456\u001b[0m │ block_7_expand_rel… │    \u001b[1;38;5;34mY\u001b[0m    │\n",
              "│ (\u001b[38;5;33mDepthwiseConv2D\u001b[0m)      │                      │              │                     │         │\n",
              "├────────────────────────┼──────────────────────┼──────────────┼─────────────────────┼─────────┤\n",
              "│ block_7_depthwise_BN   │ (\u001b[38;5;45mNone\u001b[0m, \u001b[38;5;34m6\u001b[0m, \u001b[38;5;34m6\u001b[0m, \u001b[38;5;34m384\u001b[0m)    │        \u001b[38;5;34m1,536\u001b[0m │ block_7_depthwise[\u001b[38;5;34m…\u001b[0m │    \u001b[1;38;5;34mY\u001b[0m    │\n",
              "│ (\u001b[38;5;33mBatchNormalization\u001b[0m)   │                      │              │                     │         │\n",
              "├────────────────────────┼──────────────────────┼──────────────┼─────────────────────┼─────────┤\n",
              "│ block_7_depthwise_relu │ (\u001b[38;5;45mNone\u001b[0m, \u001b[38;5;34m6\u001b[0m, \u001b[38;5;34m6\u001b[0m, \u001b[38;5;34m384\u001b[0m)    │            \u001b[38;5;34m0\u001b[0m │ block_7_depthwise_… │    \u001b[1m-\u001b[0m    │\n",
              "│ (\u001b[38;5;33mReLU\u001b[0m)                 │                      │              │                     │         │\n",
              "├────────────────────────┼──────────────────────┼──────────────┼─────────────────────┼─────────┤\n",
              "│ block_7_project        │ (\u001b[38;5;45mNone\u001b[0m, \u001b[38;5;34m6\u001b[0m, \u001b[38;5;34m6\u001b[0m, \u001b[38;5;34m64\u001b[0m)     │       \u001b[38;5;34m24,576\u001b[0m │ block_7_depthwise_… │    \u001b[1;38;5;34mY\u001b[0m    │\n",
              "│ (\u001b[38;5;33mConv2D\u001b[0m)               │                      │              │                     │         │\n",
              "├────────────────────────┼──────────────────────┼──────────────┼─────────────────────┼─────────┤\n",
              "│ block_7_project_BN     │ (\u001b[38;5;45mNone\u001b[0m, \u001b[38;5;34m6\u001b[0m, \u001b[38;5;34m6\u001b[0m, \u001b[38;5;34m64\u001b[0m)     │          \u001b[38;5;34m256\u001b[0m │ block_7_project[\u001b[38;5;34m0\u001b[0m]… │    \u001b[1;38;5;34mY\u001b[0m    │\n",
              "│ (\u001b[38;5;33mBatchNormalization\u001b[0m)   │                      │              │                     │         │\n",
              "├────────────────────────┼──────────────────────┼──────────────┼─────────────────────┼─────────┤\n",
              "│ block_7_add (\u001b[38;5;33mAdd\u001b[0m)      │ (\u001b[38;5;45mNone\u001b[0m, \u001b[38;5;34m6\u001b[0m, \u001b[38;5;34m6\u001b[0m, \u001b[38;5;34m64\u001b[0m)     │            \u001b[38;5;34m0\u001b[0m │ block_6_project_BN… │    \u001b[1m-\u001b[0m    │\n",
              "│                        │                      │              │ block_7_project_BN… │         │\n",
              "├────────────────────────┼──────────────────────┼──────────────┼─────────────────────┼─────────┤\n",
              "│ block_8_expand         │ (\u001b[38;5;45mNone\u001b[0m, \u001b[38;5;34m6\u001b[0m, \u001b[38;5;34m6\u001b[0m, \u001b[38;5;34m384\u001b[0m)    │       \u001b[38;5;34m24,576\u001b[0m │ block_7_add[\u001b[38;5;34m0\u001b[0m][\u001b[38;5;34m0\u001b[0m]   │    \u001b[1;38;5;34mY\u001b[0m    │\n",
              "│ (\u001b[38;5;33mConv2D\u001b[0m)               │                      │              │                     │         │\n",
              "├────────────────────────┼──────────────────────┼──────────────┼─────────────────────┼─────────┤\n",
              "│ block_8_expand_BN      │ (\u001b[38;5;45mNone\u001b[0m, \u001b[38;5;34m6\u001b[0m, \u001b[38;5;34m6\u001b[0m, \u001b[38;5;34m384\u001b[0m)    │        \u001b[38;5;34m1,536\u001b[0m │ block_8_expand[\u001b[38;5;34m0\u001b[0m][\u001b[38;5;34m…\u001b[0m │    \u001b[1;38;5;34mY\u001b[0m    │\n",
              "│ (\u001b[38;5;33mBatchNormalization\u001b[0m)   │                      │              │                     │         │\n",
              "├────────────────────────┼──────────────────────┼──────────────┼─────────────────────┼─────────┤\n",
              "│ block_8_expand_relu    │ (\u001b[38;5;45mNone\u001b[0m, \u001b[38;5;34m6\u001b[0m, \u001b[38;5;34m6\u001b[0m, \u001b[38;5;34m384\u001b[0m)    │            \u001b[38;5;34m0\u001b[0m │ block_8_expand_BN[\u001b[38;5;34m…\u001b[0m │    \u001b[1m-\u001b[0m    │\n",
              "│ (\u001b[38;5;33mReLU\u001b[0m)                 │                      │              │                     │         │\n",
              "├────────────────────────┼──────────────────────┼──────────────┼─────────────────────┼─────────┤\n",
              "│ block_8_depthwise      │ (\u001b[38;5;45mNone\u001b[0m, \u001b[38;5;34m6\u001b[0m, \u001b[38;5;34m6\u001b[0m, \u001b[38;5;34m384\u001b[0m)    │        \u001b[38;5;34m3,456\u001b[0m │ block_8_expand_rel… │    \u001b[1;38;5;34mY\u001b[0m    │\n",
              "│ (\u001b[38;5;33mDepthwiseConv2D\u001b[0m)      │                      │              │                     │         │\n",
              "├────────────────────────┼──────────────────────┼──────────────┼─────────────────────┼─────────┤\n",
              "│ block_8_depthwise_BN   │ (\u001b[38;5;45mNone\u001b[0m, \u001b[38;5;34m6\u001b[0m, \u001b[38;5;34m6\u001b[0m, \u001b[38;5;34m384\u001b[0m)    │        \u001b[38;5;34m1,536\u001b[0m │ block_8_depthwise[\u001b[38;5;34m…\u001b[0m │    \u001b[1;38;5;34mY\u001b[0m    │\n",
              "│ (\u001b[38;5;33mBatchNormalization\u001b[0m)   │                      │              │                     │         │\n",
              "├────────────────────────┼──────────────────────┼──────────────┼─────────────────────┼─────────┤\n",
              "│ block_8_depthwise_relu │ (\u001b[38;5;45mNone\u001b[0m, \u001b[38;5;34m6\u001b[0m, \u001b[38;5;34m6\u001b[0m, \u001b[38;5;34m384\u001b[0m)    │            \u001b[38;5;34m0\u001b[0m │ block_8_depthwise_… │    \u001b[1m-\u001b[0m    │\n",
              "│ (\u001b[38;5;33mReLU\u001b[0m)                 │                      │              │                     │         │\n",
              "├────────────────────────┼──────────────────────┼──────────────┼─────────────────────┼─────────┤\n",
              "│ block_8_project        │ (\u001b[38;5;45mNone\u001b[0m, \u001b[38;5;34m6\u001b[0m, \u001b[38;5;34m6\u001b[0m, \u001b[38;5;34m64\u001b[0m)     │       \u001b[38;5;34m24,576\u001b[0m │ block_8_depthwise_… │    \u001b[1;38;5;34mY\u001b[0m    │\n",
              "│ (\u001b[38;5;33mConv2D\u001b[0m)               │                      │              │                     │         │\n",
              "├────────────────────────┼──────────────────────┼──────────────┼─────────────────────┼─────────┤\n",
              "│ block_8_project_BN     │ (\u001b[38;5;45mNone\u001b[0m, \u001b[38;5;34m6\u001b[0m, \u001b[38;5;34m6\u001b[0m, \u001b[38;5;34m64\u001b[0m)     │          \u001b[38;5;34m256\u001b[0m │ block_8_project[\u001b[38;5;34m0\u001b[0m]… │    \u001b[1;38;5;34mY\u001b[0m    │\n",
              "│ (\u001b[38;5;33mBatchNormalization\u001b[0m)   │                      │              │                     │         │\n",
              "├────────────────────────┼──────────────────────┼──────────────┼─────────────────────┼─────────┤\n",
              "│ block_8_add (\u001b[38;5;33mAdd\u001b[0m)      │ (\u001b[38;5;45mNone\u001b[0m, \u001b[38;5;34m6\u001b[0m, \u001b[38;5;34m6\u001b[0m, \u001b[38;5;34m64\u001b[0m)     │            \u001b[38;5;34m0\u001b[0m │ block_7_add[\u001b[38;5;34m0\u001b[0m][\u001b[38;5;34m0\u001b[0m],  │    \u001b[1m-\u001b[0m    │\n",
              "│                        │                      │              │ block_8_project_BN… │         │\n",
              "├────────────────────────┼──────────────────────┼──────────────┼─────────────────────┼─────────┤\n",
              "│ block_9_expand         │ (\u001b[38;5;45mNone\u001b[0m, \u001b[38;5;34m6\u001b[0m, \u001b[38;5;34m6\u001b[0m, \u001b[38;5;34m384\u001b[0m)    │       \u001b[38;5;34m24,576\u001b[0m │ block_8_add[\u001b[38;5;34m0\u001b[0m][\u001b[38;5;34m0\u001b[0m]   │    \u001b[1;38;5;34mY\u001b[0m    │\n",
              "│ (\u001b[38;5;33mConv2D\u001b[0m)               │                      │              │                     │         │\n",
              "├────────────────────────┼──────────────────────┼──────────────┼─────────────────────┼─────────┤\n",
              "│ block_9_expand_BN      │ (\u001b[38;5;45mNone\u001b[0m, \u001b[38;5;34m6\u001b[0m, \u001b[38;5;34m6\u001b[0m, \u001b[38;5;34m384\u001b[0m)    │        \u001b[38;5;34m1,536\u001b[0m │ block_9_expand[\u001b[38;5;34m0\u001b[0m][\u001b[38;5;34m…\u001b[0m │    \u001b[1;38;5;34mY\u001b[0m    │\n",
              "│ (\u001b[38;5;33mBatchNormalization\u001b[0m)   │                      │              │                     │         │\n",
              "├────────────────────────┼──────────────────────┼──────────────┼─────────────────────┼─────────┤\n",
              "│ block_9_expand_relu    │ (\u001b[38;5;45mNone\u001b[0m, \u001b[38;5;34m6\u001b[0m, \u001b[38;5;34m6\u001b[0m, \u001b[38;5;34m384\u001b[0m)    │            \u001b[38;5;34m0\u001b[0m │ block_9_expand_BN[\u001b[38;5;34m…\u001b[0m │    \u001b[1m-\u001b[0m    │\n",
              "│ (\u001b[38;5;33mReLU\u001b[0m)                 │                      │              │                     │         │\n",
              "├────────────────────────┼──────────────────────┼──────────────┼─────────────────────┼─────────┤\n",
              "│ block_9_depthwise      │ (\u001b[38;5;45mNone\u001b[0m, \u001b[38;5;34m6\u001b[0m, \u001b[38;5;34m6\u001b[0m, \u001b[38;5;34m384\u001b[0m)    │        \u001b[38;5;34m3,456\u001b[0m │ block_9_expand_rel… │    \u001b[1;38;5;34mY\u001b[0m    │\n",
              "│ (\u001b[38;5;33mDepthwiseConv2D\u001b[0m)      │                      │              │                     │         │\n",
              "├────────────────────────┼──────────────────────┼──────────────┼─────────────────────┼─────────┤\n",
              "│ block_9_depthwise_BN   │ (\u001b[38;5;45mNone\u001b[0m, \u001b[38;5;34m6\u001b[0m, \u001b[38;5;34m6\u001b[0m, \u001b[38;5;34m384\u001b[0m)    │        \u001b[38;5;34m1,536\u001b[0m │ block_9_depthwise[\u001b[38;5;34m…\u001b[0m │    \u001b[1;38;5;34mY\u001b[0m    │\n",
              "│ (\u001b[38;5;33mBatchNormalization\u001b[0m)   │                      │              │                     │         │\n",
              "├────────────────────────┼──────────────────────┼──────────────┼─────────────────────┼─────────┤\n",
              "│ block_9_depthwise_relu │ (\u001b[38;5;45mNone\u001b[0m, \u001b[38;5;34m6\u001b[0m, \u001b[38;5;34m6\u001b[0m, \u001b[38;5;34m384\u001b[0m)    │            \u001b[38;5;34m0\u001b[0m │ block_9_depthwise_… │    \u001b[1m-\u001b[0m    │\n",
              "│ (\u001b[38;5;33mReLU\u001b[0m)                 │                      │              │                     │         │\n",
              "├────────────────────────┼──────────────────────┼──────────────┼─────────────────────┼─────────┤\n",
              "│ block_9_project        │ (\u001b[38;5;45mNone\u001b[0m, \u001b[38;5;34m6\u001b[0m, \u001b[38;5;34m6\u001b[0m, \u001b[38;5;34m64\u001b[0m)     │       \u001b[38;5;34m24,576\u001b[0m │ block_9_depthwise_… │    \u001b[1;38;5;34mY\u001b[0m    │\n",
              "│ (\u001b[38;5;33mConv2D\u001b[0m)               │                      │              │                     │         │\n",
              "├────────────────────────┼──────────────────────┼──────────────┼─────────────────────┼─────────┤\n",
              "│ block_9_project_BN     │ (\u001b[38;5;45mNone\u001b[0m, \u001b[38;5;34m6\u001b[0m, \u001b[38;5;34m6\u001b[0m, \u001b[38;5;34m64\u001b[0m)     │          \u001b[38;5;34m256\u001b[0m │ block_9_project[\u001b[38;5;34m0\u001b[0m]… │    \u001b[1;38;5;34mY\u001b[0m    │\n",
              "│ (\u001b[38;5;33mBatchNormalization\u001b[0m)   │                      │              │                     │         │\n",
              "├────────────────────────┼──────────────────────┼──────────────┼─────────────────────┼─────────┤\n",
              "│ block_9_add (\u001b[38;5;33mAdd\u001b[0m)      │ (\u001b[38;5;45mNone\u001b[0m, \u001b[38;5;34m6\u001b[0m, \u001b[38;5;34m6\u001b[0m, \u001b[38;5;34m64\u001b[0m)     │            \u001b[38;5;34m0\u001b[0m │ block_8_add[\u001b[38;5;34m0\u001b[0m][\u001b[38;5;34m0\u001b[0m],  │    \u001b[1m-\u001b[0m    │\n",
              "│                        │                      │              │ block_9_project_BN… │         │\n",
              "├────────────────────────┼──────────────────────┼──────────────┼─────────────────────┼─────────┤\n",
              "│ block_10_expand        │ (\u001b[38;5;45mNone\u001b[0m, \u001b[38;5;34m6\u001b[0m, \u001b[38;5;34m6\u001b[0m, \u001b[38;5;34m384\u001b[0m)    │       \u001b[38;5;34m24,576\u001b[0m │ block_9_add[\u001b[38;5;34m0\u001b[0m][\u001b[38;5;34m0\u001b[0m]   │    \u001b[1;38;5;34mY\u001b[0m    │\n",
              "│ (\u001b[38;5;33mConv2D\u001b[0m)               │                      │              │                     │         │\n",
              "├────────────────────────┼──────────────────────┼──────────────┼─────────────────────┼─────────┤\n",
              "│ block_10_expand_BN     │ (\u001b[38;5;45mNone\u001b[0m, \u001b[38;5;34m6\u001b[0m, \u001b[38;5;34m6\u001b[0m, \u001b[38;5;34m384\u001b[0m)    │        \u001b[38;5;34m1,536\u001b[0m │ block_10_expand[\u001b[38;5;34m0\u001b[0m]… │    \u001b[1;38;5;34mY\u001b[0m    │\n",
              "│ (\u001b[38;5;33mBatchNormalization\u001b[0m)   │                      │              │                     │         │\n",
              "├────────────────────────┼──────────────────────┼──────────────┼─────────────────────┼─────────┤\n",
              "│ block_10_expand_relu   │ (\u001b[38;5;45mNone\u001b[0m, \u001b[38;5;34m6\u001b[0m, \u001b[38;5;34m6\u001b[0m, \u001b[38;5;34m384\u001b[0m)    │            \u001b[38;5;34m0\u001b[0m │ block_10_expand_BN… │    \u001b[1m-\u001b[0m    │\n",
              "│ (\u001b[38;5;33mReLU\u001b[0m)                 │                      │              │                     │         │\n",
              "├────────────────────────┼──────────────────────┼──────────────┼─────────────────────┼─────────┤\n",
              "│ block_10_depthwise     │ (\u001b[38;5;45mNone\u001b[0m, \u001b[38;5;34m6\u001b[0m, \u001b[38;5;34m6\u001b[0m, \u001b[38;5;34m384\u001b[0m)    │        \u001b[38;5;34m3,456\u001b[0m │ block_10_expand_re… │    \u001b[1;38;5;34mY\u001b[0m    │\n",
              "│ (\u001b[38;5;33mDepthwiseConv2D\u001b[0m)      │                      │              │                     │         │\n",
              "├────────────────────────┼──────────────────────┼──────────────┼─────────────────────┼─────────┤\n",
              "│ block_10_depthwise_BN  │ (\u001b[38;5;45mNone\u001b[0m, \u001b[38;5;34m6\u001b[0m, \u001b[38;5;34m6\u001b[0m, \u001b[38;5;34m384\u001b[0m)    │        \u001b[38;5;34m1,536\u001b[0m │ block_10_depthwise… │    \u001b[1;38;5;34mY\u001b[0m    │\n",
              "│ (\u001b[38;5;33mBatchNormalization\u001b[0m)   │                      │              │                     │         │\n",
              "├────────────────────────┼──────────────────────┼──────────────┼─────────────────────┼─────────┤\n",
              "│ block_10_depthwise_re… │ (\u001b[38;5;45mNone\u001b[0m, \u001b[38;5;34m6\u001b[0m, \u001b[38;5;34m6\u001b[0m, \u001b[38;5;34m384\u001b[0m)    │            \u001b[38;5;34m0\u001b[0m │ block_10_depthwise… │    \u001b[1m-\u001b[0m    │\n",
              "│ (\u001b[38;5;33mReLU\u001b[0m)                 │                      │              │                     │         │\n",
              "├────────────────────────┼──────────────────────┼──────────────┼─────────────────────┼─────────┤\n",
              "│ block_10_project       │ (\u001b[38;5;45mNone\u001b[0m, \u001b[38;5;34m6\u001b[0m, \u001b[38;5;34m6\u001b[0m, \u001b[38;5;34m96\u001b[0m)     │       \u001b[38;5;34m36,864\u001b[0m │ block_10_depthwise… │    \u001b[1;38;5;34mY\u001b[0m    │\n",
              "│ (\u001b[38;5;33mConv2D\u001b[0m)               │                      │              │                     │         │\n",
              "├────────────────────────┼──────────────────────┼──────────────┼─────────────────────┼─────────┤\n",
              "│ block_10_project_BN    │ (\u001b[38;5;45mNone\u001b[0m, \u001b[38;5;34m6\u001b[0m, \u001b[38;5;34m6\u001b[0m, \u001b[38;5;34m96\u001b[0m)     │          \u001b[38;5;34m384\u001b[0m │ block_10_project[\u001b[38;5;34m0\u001b[0m… │    \u001b[1;38;5;34mY\u001b[0m    │\n",
              "│ (\u001b[38;5;33mBatchNormalization\u001b[0m)   │                      │              │                     │         │\n",
              "├────────────────────────┼──────────────────────┼──────────────┼─────────────────────┼─────────┤\n",
              "│ block_11_expand        │ (\u001b[38;5;45mNone\u001b[0m, \u001b[38;5;34m6\u001b[0m, \u001b[38;5;34m6\u001b[0m, \u001b[38;5;34m576\u001b[0m)    │       \u001b[38;5;34m55,296\u001b[0m │ block_10_project_B… │    \u001b[1;38;5;34mY\u001b[0m    │\n",
              "│ (\u001b[38;5;33mConv2D\u001b[0m)               │                      │              │                     │         │\n",
              "├────────────────────────┼──────────────────────┼──────────────┼─────────────────────┼─────────┤\n",
              "│ block_11_expand_BN     │ (\u001b[38;5;45mNone\u001b[0m, \u001b[38;5;34m6\u001b[0m, \u001b[38;5;34m6\u001b[0m, \u001b[38;5;34m576\u001b[0m)    │        \u001b[38;5;34m2,304\u001b[0m │ block_11_expand[\u001b[38;5;34m0\u001b[0m]… │    \u001b[1;38;5;34mY\u001b[0m    │\n",
              "│ (\u001b[38;5;33mBatchNormalization\u001b[0m)   │                      │              │                     │         │\n",
              "├────────────────────────┼──────────────────────┼──────────────┼─────────────────────┼─────────┤\n",
              "│ block_11_expand_relu   │ (\u001b[38;5;45mNone\u001b[0m, \u001b[38;5;34m6\u001b[0m, \u001b[38;5;34m6\u001b[0m, \u001b[38;5;34m576\u001b[0m)    │            \u001b[38;5;34m0\u001b[0m │ block_11_expand_BN… │    \u001b[1m-\u001b[0m    │\n",
              "│ (\u001b[38;5;33mReLU\u001b[0m)                 │                      │              │                     │         │\n",
              "├────────────────────────┼──────────────────────┼──────────────┼─────────────────────┼─────────┤\n",
              "│ block_11_depthwise     │ (\u001b[38;5;45mNone\u001b[0m, \u001b[38;5;34m6\u001b[0m, \u001b[38;5;34m6\u001b[0m, \u001b[38;5;34m576\u001b[0m)    │        \u001b[38;5;34m5,184\u001b[0m │ block_11_expand_re… │    \u001b[1;38;5;34mY\u001b[0m    │\n",
              "│ (\u001b[38;5;33mDepthwiseConv2D\u001b[0m)      │                      │              │                     │         │\n",
              "├────────────────────────┼──────────────────────┼──────────────┼─────────────────────┼─────────┤\n",
              "│ block_11_depthwise_BN  │ (\u001b[38;5;45mNone\u001b[0m, \u001b[38;5;34m6\u001b[0m, \u001b[38;5;34m6\u001b[0m, \u001b[38;5;34m576\u001b[0m)    │        \u001b[38;5;34m2,304\u001b[0m │ block_11_depthwise… │    \u001b[1;38;5;34mY\u001b[0m    │\n",
              "│ (\u001b[38;5;33mBatchNormalization\u001b[0m)   │                      │              │                     │         │\n",
              "├────────────────────────┼──────────────────────┼──────────────┼─────────────────────┼─────────┤\n",
              "│ block_11_depthwise_re… │ (\u001b[38;5;45mNone\u001b[0m, \u001b[38;5;34m6\u001b[0m, \u001b[38;5;34m6\u001b[0m, \u001b[38;5;34m576\u001b[0m)    │            \u001b[38;5;34m0\u001b[0m │ block_11_depthwise… │    \u001b[1m-\u001b[0m    │\n",
              "│ (\u001b[38;5;33mReLU\u001b[0m)                 │                      │              │                     │         │\n",
              "├────────────────────────┼──────────────────────┼──────────────┼─────────────────────┼─────────┤\n",
              "│ block_11_project       │ (\u001b[38;5;45mNone\u001b[0m, \u001b[38;5;34m6\u001b[0m, \u001b[38;5;34m6\u001b[0m, \u001b[38;5;34m96\u001b[0m)     │       \u001b[38;5;34m55,296\u001b[0m │ block_11_depthwise… │    \u001b[1;38;5;34mY\u001b[0m    │\n",
              "│ (\u001b[38;5;33mConv2D\u001b[0m)               │                      │              │                     │         │\n",
              "├────────────────────────┼──────────────────────┼──────────────┼─────────────────────┼─────────┤\n",
              "│ block_11_project_BN    │ (\u001b[38;5;45mNone\u001b[0m, \u001b[38;5;34m6\u001b[0m, \u001b[38;5;34m6\u001b[0m, \u001b[38;5;34m96\u001b[0m)     │          \u001b[38;5;34m384\u001b[0m │ block_11_project[\u001b[38;5;34m0\u001b[0m… │    \u001b[1;38;5;34mY\u001b[0m    │\n",
              "│ (\u001b[38;5;33mBatchNormalization\u001b[0m)   │                      │              │                     │         │\n",
              "├────────────────────────┼──────────────────────┼──────────────┼─────────────────────┼─────────┤\n",
              "│ block_11_add (\u001b[38;5;33mAdd\u001b[0m)     │ (\u001b[38;5;45mNone\u001b[0m, \u001b[38;5;34m6\u001b[0m, \u001b[38;5;34m6\u001b[0m, \u001b[38;5;34m96\u001b[0m)     │            \u001b[38;5;34m0\u001b[0m │ block_10_project_B… │    \u001b[1m-\u001b[0m    │\n",
              "│                        │                      │              │ block_11_project_B… │         │\n",
              "├────────────────────────┼──────────────────────┼──────────────┼─────────────────────┼─────────┤\n",
              "│ block_12_expand        │ (\u001b[38;5;45mNone\u001b[0m, \u001b[38;5;34m6\u001b[0m, \u001b[38;5;34m6\u001b[0m, \u001b[38;5;34m576\u001b[0m)    │       \u001b[38;5;34m55,296\u001b[0m │ block_11_add[\u001b[38;5;34m0\u001b[0m][\u001b[38;5;34m0\u001b[0m]  │    \u001b[1;38;5;34mY\u001b[0m    │\n",
              "│ (\u001b[38;5;33mConv2D\u001b[0m)               │                      │              │                     │         │\n",
              "├────────────────────────┼──────────────────────┼──────────────┼─────────────────────┼─────────┤\n",
              "│ block_12_expand_BN     │ (\u001b[38;5;45mNone\u001b[0m, \u001b[38;5;34m6\u001b[0m, \u001b[38;5;34m6\u001b[0m, \u001b[38;5;34m576\u001b[0m)    │        \u001b[38;5;34m2,304\u001b[0m │ block_12_expand[\u001b[38;5;34m0\u001b[0m]… │    \u001b[1;38;5;34mY\u001b[0m    │\n",
              "│ (\u001b[38;5;33mBatchNormalization\u001b[0m)   │                      │              │                     │         │\n",
              "├────────────────────────┼──────────────────────┼──────────────┼─────────────────────┼─────────┤\n",
              "│ block_12_expand_relu   │ (\u001b[38;5;45mNone\u001b[0m, \u001b[38;5;34m6\u001b[0m, \u001b[38;5;34m6\u001b[0m, \u001b[38;5;34m576\u001b[0m)    │            \u001b[38;5;34m0\u001b[0m │ block_12_expand_BN… │    \u001b[1m-\u001b[0m    │\n",
              "│ (\u001b[38;5;33mReLU\u001b[0m)                 │                      │              │                     │         │\n",
              "├────────────────────────┼──────────────────────┼──────────────┼─────────────────────┼─────────┤\n",
              "│ block_12_depthwise     │ (\u001b[38;5;45mNone\u001b[0m, \u001b[38;5;34m6\u001b[0m, \u001b[38;5;34m6\u001b[0m, \u001b[38;5;34m576\u001b[0m)    │        \u001b[38;5;34m5,184\u001b[0m │ block_12_expand_re… │    \u001b[1;38;5;34mY\u001b[0m    │\n",
              "│ (\u001b[38;5;33mDepthwiseConv2D\u001b[0m)      │                      │              │                     │         │\n",
              "├────────────────────────┼──────────────────────┼──────────────┼─────────────────────┼─────────┤\n",
              "│ block_12_depthwise_BN  │ (\u001b[38;5;45mNone\u001b[0m, \u001b[38;5;34m6\u001b[0m, \u001b[38;5;34m6\u001b[0m, \u001b[38;5;34m576\u001b[0m)    │        \u001b[38;5;34m2,304\u001b[0m │ block_12_depthwise… │    \u001b[1;38;5;34mY\u001b[0m    │\n",
              "│ (\u001b[38;5;33mBatchNormalization\u001b[0m)   │                      │              │                     │         │\n",
              "├────────────────────────┼──────────────────────┼──────────────┼─────────────────────┼─────────┤\n",
              "│ block_12_depthwise_re… │ (\u001b[38;5;45mNone\u001b[0m, \u001b[38;5;34m6\u001b[0m, \u001b[38;5;34m6\u001b[0m, \u001b[38;5;34m576\u001b[0m)    │            \u001b[38;5;34m0\u001b[0m │ block_12_depthwise… │    \u001b[1m-\u001b[0m    │\n",
              "│ (\u001b[38;5;33mReLU\u001b[0m)                 │                      │              │                     │         │\n",
              "├────────────────────────┼──────────────────────┼──────────────┼─────────────────────┼─────────┤\n",
              "│ block_12_project       │ (\u001b[38;5;45mNone\u001b[0m, \u001b[38;5;34m6\u001b[0m, \u001b[38;5;34m6\u001b[0m, \u001b[38;5;34m96\u001b[0m)     │       \u001b[38;5;34m55,296\u001b[0m │ block_12_depthwise… │    \u001b[1;38;5;34mY\u001b[0m    │\n",
              "│ (\u001b[38;5;33mConv2D\u001b[0m)               │                      │              │                     │         │\n",
              "├────────────────────────┼──────────────────────┼──────────────┼─────────────────────┼─────────┤\n",
              "│ block_12_project_BN    │ (\u001b[38;5;45mNone\u001b[0m, \u001b[38;5;34m6\u001b[0m, \u001b[38;5;34m6\u001b[0m, \u001b[38;5;34m96\u001b[0m)     │          \u001b[38;5;34m384\u001b[0m │ block_12_project[\u001b[38;5;34m0\u001b[0m… │    \u001b[1;38;5;34mY\u001b[0m    │\n",
              "│ (\u001b[38;5;33mBatchNormalization\u001b[0m)   │                      │              │                     │         │\n",
              "├────────────────────────┼──────────────────────┼──────────────┼─────────────────────┼─────────┤\n",
              "│ block_12_add (\u001b[38;5;33mAdd\u001b[0m)     │ (\u001b[38;5;45mNone\u001b[0m, \u001b[38;5;34m6\u001b[0m, \u001b[38;5;34m6\u001b[0m, \u001b[38;5;34m96\u001b[0m)     │            \u001b[38;5;34m0\u001b[0m │ block_11_add[\u001b[38;5;34m0\u001b[0m][\u001b[38;5;34m0\u001b[0m], │    \u001b[1m-\u001b[0m    │\n",
              "│                        │                      │              │ block_12_project_B… │         │\n",
              "├────────────────────────┼──────────────────────┼──────────────┼─────────────────────┼─────────┤\n",
              "│ block_13_expand        │ (\u001b[38;5;45mNone\u001b[0m, \u001b[38;5;34m6\u001b[0m, \u001b[38;5;34m6\u001b[0m, \u001b[38;5;34m576\u001b[0m)    │       \u001b[38;5;34m55,296\u001b[0m │ block_12_add[\u001b[38;5;34m0\u001b[0m][\u001b[38;5;34m0\u001b[0m]  │    \u001b[1;38;5;34mY\u001b[0m    │\n",
              "│ (\u001b[38;5;33mConv2D\u001b[0m)               │                      │              │                     │         │\n",
              "├────────────────────────┼──────────────────────┼──────────────┼─────────────────────┼─────────┤\n",
              "│ block_13_expand_BN     │ (\u001b[38;5;45mNone\u001b[0m, \u001b[38;5;34m6\u001b[0m, \u001b[38;5;34m6\u001b[0m, \u001b[38;5;34m576\u001b[0m)    │        \u001b[38;5;34m2,304\u001b[0m │ block_13_expand[\u001b[38;5;34m0\u001b[0m]… │    \u001b[1;38;5;34mY\u001b[0m    │\n",
              "│ (\u001b[38;5;33mBatchNormalization\u001b[0m)   │                      │              │                     │         │\n",
              "├────────────────────────┼──────────────────────┼──────────────┼─────────────────────┼─────────┤\n",
              "│ block_13_expand_relu   │ (\u001b[38;5;45mNone\u001b[0m, \u001b[38;5;34m6\u001b[0m, \u001b[38;5;34m6\u001b[0m, \u001b[38;5;34m576\u001b[0m)    │            \u001b[38;5;34m0\u001b[0m │ block_13_expand_BN… │    \u001b[1m-\u001b[0m    │\n",
              "│ (\u001b[38;5;33mReLU\u001b[0m)                 │                      │              │                     │         │\n",
              "├────────────────────────┼──────────────────────┼──────────────┼─────────────────────┼─────────┤\n",
              "│ block_13_pad           │ (\u001b[38;5;45mNone\u001b[0m, \u001b[38;5;34m7\u001b[0m, \u001b[38;5;34m7\u001b[0m, \u001b[38;5;34m576\u001b[0m)    │            \u001b[38;5;34m0\u001b[0m │ block_13_expand_re… │    \u001b[1m-\u001b[0m    │\n",
              "│ (\u001b[38;5;33mZeroPadding2D\u001b[0m)        │                      │              │                     │         │\n",
              "├────────────────────────┼──────────────────────┼──────────────┼─────────────────────┼─────────┤\n",
              "│ block_13_depthwise     │ (\u001b[38;5;45mNone\u001b[0m, \u001b[38;5;34m3\u001b[0m, \u001b[38;5;34m3\u001b[0m, \u001b[38;5;34m576\u001b[0m)    │        \u001b[38;5;34m5,184\u001b[0m │ block_13_pad[\u001b[38;5;34m0\u001b[0m][\u001b[38;5;34m0\u001b[0m]  │    \u001b[1;38;5;34mY\u001b[0m    │\n",
              "│ (\u001b[38;5;33mDepthwiseConv2D\u001b[0m)      │                      │              │                     │         │\n",
              "├────────────────────────┼──────────────────────┼──────────────┼─────────────────────┼─────────┤\n",
              "│ block_13_depthwise_BN  │ (\u001b[38;5;45mNone\u001b[0m, \u001b[38;5;34m3\u001b[0m, \u001b[38;5;34m3\u001b[0m, \u001b[38;5;34m576\u001b[0m)    │        \u001b[38;5;34m2,304\u001b[0m │ block_13_depthwise… │    \u001b[1;38;5;34mY\u001b[0m    │\n",
              "│ (\u001b[38;5;33mBatchNormalization\u001b[0m)   │                      │              │                     │         │\n",
              "├────────────────────────┼──────────────────────┼──────────────┼─────────────────────┼─────────┤\n",
              "│ block_13_depthwise_re… │ (\u001b[38;5;45mNone\u001b[0m, \u001b[38;5;34m3\u001b[0m, \u001b[38;5;34m3\u001b[0m, \u001b[38;5;34m576\u001b[0m)    │            \u001b[38;5;34m0\u001b[0m │ block_13_depthwise… │    \u001b[1m-\u001b[0m    │\n",
              "│ (\u001b[38;5;33mReLU\u001b[0m)                 │                      │              │                     │         │\n",
              "├────────────────────────┼──────────────────────┼──────────────┼─────────────────────┼─────────┤\n",
              "│ block_13_project       │ (\u001b[38;5;45mNone\u001b[0m, \u001b[38;5;34m3\u001b[0m, \u001b[38;5;34m3\u001b[0m, \u001b[38;5;34m160\u001b[0m)    │       \u001b[38;5;34m92,160\u001b[0m │ block_13_depthwise… │    \u001b[1;38;5;34mY\u001b[0m    │\n",
              "│ (\u001b[38;5;33mConv2D\u001b[0m)               │                      │              │                     │         │\n",
              "├────────────────────────┼──────────────────────┼──────────────┼─────────────────────┼─────────┤\n",
              "│ block_13_project_BN    │ (\u001b[38;5;45mNone\u001b[0m, \u001b[38;5;34m3\u001b[0m, \u001b[38;5;34m3\u001b[0m, \u001b[38;5;34m160\u001b[0m)    │          \u001b[38;5;34m640\u001b[0m │ block_13_project[\u001b[38;5;34m0\u001b[0m… │    \u001b[1;38;5;34mY\u001b[0m    │\n",
              "│ (\u001b[38;5;33mBatchNormalization\u001b[0m)   │                      │              │                     │         │\n",
              "├────────────────────────┼──────────────────────┼──────────────┼─────────────────────┼─────────┤\n",
              "│ block_14_expand        │ (\u001b[38;5;45mNone\u001b[0m, \u001b[38;5;34m3\u001b[0m, \u001b[38;5;34m3\u001b[0m, \u001b[38;5;34m960\u001b[0m)    │      \u001b[38;5;34m153,600\u001b[0m │ block_13_project_B… │    \u001b[1;38;5;34mY\u001b[0m    │\n",
              "│ (\u001b[38;5;33mConv2D\u001b[0m)               │                      │              │                     │         │\n",
              "├────────────────────────┼──────────────────────┼──────────────┼─────────────────────┼─────────┤\n",
              "│ block_14_expand_BN     │ (\u001b[38;5;45mNone\u001b[0m, \u001b[38;5;34m3\u001b[0m, \u001b[38;5;34m3\u001b[0m, \u001b[38;5;34m960\u001b[0m)    │        \u001b[38;5;34m3,840\u001b[0m │ block_14_expand[\u001b[38;5;34m0\u001b[0m]… │    \u001b[1;38;5;34mY\u001b[0m    │\n",
              "│ (\u001b[38;5;33mBatchNormalization\u001b[0m)   │                      │              │                     │         │\n",
              "├────────────────────────┼──────────────────────┼──────────────┼─────────────────────┼─────────┤\n",
              "│ block_14_expand_relu   │ (\u001b[38;5;45mNone\u001b[0m, \u001b[38;5;34m3\u001b[0m, \u001b[38;5;34m3\u001b[0m, \u001b[38;5;34m960\u001b[0m)    │            \u001b[38;5;34m0\u001b[0m │ block_14_expand_BN… │    \u001b[1m-\u001b[0m    │\n",
              "│ (\u001b[38;5;33mReLU\u001b[0m)                 │                      │              │                     │         │\n",
              "├────────────────────────┼──────────────────────┼──────────────┼─────────────────────┼─────────┤\n",
              "│ block_14_depthwise     │ (\u001b[38;5;45mNone\u001b[0m, \u001b[38;5;34m3\u001b[0m, \u001b[38;5;34m3\u001b[0m, \u001b[38;5;34m960\u001b[0m)    │        \u001b[38;5;34m8,640\u001b[0m │ block_14_expand_re… │    \u001b[1;38;5;34mY\u001b[0m    │\n",
              "│ (\u001b[38;5;33mDepthwiseConv2D\u001b[0m)      │                      │              │                     │         │\n",
              "├────────────────────────┼──────────────────────┼──────────────┼─────────────────────┼─────────┤\n",
              "│ block_14_depthwise_BN  │ (\u001b[38;5;45mNone\u001b[0m, \u001b[38;5;34m3\u001b[0m, \u001b[38;5;34m3\u001b[0m, \u001b[38;5;34m960\u001b[0m)    │        \u001b[38;5;34m3,840\u001b[0m │ block_14_depthwise… │    \u001b[1;38;5;34mY\u001b[0m    │\n",
              "│ (\u001b[38;5;33mBatchNormalization\u001b[0m)   │                      │              │                     │         │\n",
              "├────────────────────────┼──────────────────────┼──────────────┼─────────────────────┼─────────┤\n",
              "│ block_14_depthwise_re… │ (\u001b[38;5;45mNone\u001b[0m, \u001b[38;5;34m3\u001b[0m, \u001b[38;5;34m3\u001b[0m, \u001b[38;5;34m960\u001b[0m)    │            \u001b[38;5;34m0\u001b[0m │ block_14_depthwise… │    \u001b[1m-\u001b[0m    │\n",
              "│ (\u001b[38;5;33mReLU\u001b[0m)                 │                      │              │                     │         │\n",
              "├────────────────────────┼──────────────────────┼──────────────┼─────────────────────┼─────────┤\n",
              "│ block_14_project       │ (\u001b[38;5;45mNone\u001b[0m, \u001b[38;5;34m3\u001b[0m, \u001b[38;5;34m3\u001b[0m, \u001b[38;5;34m160\u001b[0m)    │      \u001b[38;5;34m153,600\u001b[0m │ block_14_depthwise… │    \u001b[1;38;5;34mY\u001b[0m    │\n",
              "│ (\u001b[38;5;33mConv2D\u001b[0m)               │                      │              │                     │         │\n",
              "├────────────────────────┼──────────────────────┼──────────────┼─────────────────────┼─────────┤\n",
              "│ block_14_project_BN    │ (\u001b[38;5;45mNone\u001b[0m, \u001b[38;5;34m3\u001b[0m, \u001b[38;5;34m3\u001b[0m, \u001b[38;5;34m160\u001b[0m)    │          \u001b[38;5;34m640\u001b[0m │ block_14_project[\u001b[38;5;34m0\u001b[0m… │    \u001b[1;38;5;34mY\u001b[0m    │\n",
              "│ (\u001b[38;5;33mBatchNormalization\u001b[0m)   │                      │              │                     │         │\n",
              "├────────────────────────┼──────────────────────┼──────────────┼─────────────────────┼─────────┤\n",
              "│ block_14_add (\u001b[38;5;33mAdd\u001b[0m)     │ (\u001b[38;5;45mNone\u001b[0m, \u001b[38;5;34m3\u001b[0m, \u001b[38;5;34m3\u001b[0m, \u001b[38;5;34m160\u001b[0m)    │            \u001b[38;5;34m0\u001b[0m │ block_13_project_B… │    \u001b[1m-\u001b[0m    │\n",
              "│                        │                      │              │ block_14_project_B… │         │\n",
              "├────────────────────────┼──────────────────────┼──────────────┼─────────────────────┼─────────┤\n",
              "│ block_15_expand        │ (\u001b[38;5;45mNone\u001b[0m, \u001b[38;5;34m3\u001b[0m, \u001b[38;5;34m3\u001b[0m, \u001b[38;5;34m960\u001b[0m)    │      \u001b[38;5;34m153,600\u001b[0m │ block_14_add[\u001b[38;5;34m0\u001b[0m][\u001b[38;5;34m0\u001b[0m]  │    \u001b[1;38;5;34mY\u001b[0m    │\n",
              "│ (\u001b[38;5;33mConv2D\u001b[0m)               │                      │              │                     │         │\n",
              "├────────────────────────┼──────────────────────┼──────────────┼─────────────────────┼─────────┤\n",
              "│ block_15_expand_BN     │ (\u001b[38;5;45mNone\u001b[0m, \u001b[38;5;34m3\u001b[0m, \u001b[38;5;34m3\u001b[0m, \u001b[38;5;34m960\u001b[0m)    │        \u001b[38;5;34m3,840\u001b[0m │ block_15_expand[\u001b[38;5;34m0\u001b[0m]… │    \u001b[1;38;5;34mY\u001b[0m    │\n",
              "│ (\u001b[38;5;33mBatchNormalization\u001b[0m)   │                      │              │                     │         │\n",
              "├────────────────────────┼──────────────────────┼──────────────┼─────────────────────┼─────────┤\n",
              "│ block_15_expand_relu   │ (\u001b[38;5;45mNone\u001b[0m, \u001b[38;5;34m3\u001b[0m, \u001b[38;5;34m3\u001b[0m, \u001b[38;5;34m960\u001b[0m)    │            \u001b[38;5;34m0\u001b[0m │ block_15_expand_BN… │    \u001b[1m-\u001b[0m    │\n",
              "│ (\u001b[38;5;33mReLU\u001b[0m)                 │                      │              │                     │         │\n",
              "├────────────────────────┼──────────────────────┼──────────────┼─────────────────────┼─────────┤\n",
              "│ block_15_depthwise     │ (\u001b[38;5;45mNone\u001b[0m, \u001b[38;5;34m3\u001b[0m, \u001b[38;5;34m3\u001b[0m, \u001b[38;5;34m960\u001b[0m)    │        \u001b[38;5;34m8,640\u001b[0m │ block_15_expand_re… │    \u001b[1;38;5;34mY\u001b[0m    │\n",
              "│ (\u001b[38;5;33mDepthwiseConv2D\u001b[0m)      │                      │              │                     │         │\n",
              "├────────────────────────┼──────────────────────┼──────────────┼─────────────────────┼─────────┤\n",
              "│ block_15_depthwise_BN  │ (\u001b[38;5;45mNone\u001b[0m, \u001b[38;5;34m3\u001b[0m, \u001b[38;5;34m3\u001b[0m, \u001b[38;5;34m960\u001b[0m)    │        \u001b[38;5;34m3,840\u001b[0m │ block_15_depthwise… │    \u001b[1;38;5;34mY\u001b[0m    │\n",
              "│ (\u001b[38;5;33mBatchNormalization\u001b[0m)   │                      │              │                     │         │\n",
              "├────────────────────────┼──────────────────────┼──────────────┼─────────────────────┼─────────┤\n",
              "│ block_15_depthwise_re… │ (\u001b[38;5;45mNone\u001b[0m, \u001b[38;5;34m3\u001b[0m, \u001b[38;5;34m3\u001b[0m, \u001b[38;5;34m960\u001b[0m)    │            \u001b[38;5;34m0\u001b[0m │ block_15_depthwise… │    \u001b[1m-\u001b[0m    │\n",
              "│ (\u001b[38;5;33mReLU\u001b[0m)                 │                      │              │                     │         │\n",
              "├────────────────────────┼──────────────────────┼──────────────┼─────────────────────┼─────────┤\n",
              "│ block_15_project       │ (\u001b[38;5;45mNone\u001b[0m, \u001b[38;5;34m3\u001b[0m, \u001b[38;5;34m3\u001b[0m, \u001b[38;5;34m160\u001b[0m)    │      \u001b[38;5;34m153,600\u001b[0m │ block_15_depthwise… │    \u001b[1;38;5;34mY\u001b[0m    │\n",
              "│ (\u001b[38;5;33mConv2D\u001b[0m)               │                      │              │                     │         │\n",
              "├────────────────────────┼──────────────────────┼──────────────┼─────────────────────┼─────────┤\n",
              "│ block_15_project_BN    │ (\u001b[38;5;45mNone\u001b[0m, \u001b[38;5;34m3\u001b[0m, \u001b[38;5;34m3\u001b[0m, \u001b[38;5;34m160\u001b[0m)    │          \u001b[38;5;34m640\u001b[0m │ block_15_project[\u001b[38;5;34m0\u001b[0m… │    \u001b[1;38;5;34mY\u001b[0m    │\n",
              "│ (\u001b[38;5;33mBatchNormalization\u001b[0m)   │                      │              │                     │         │\n",
              "├────────────────────────┼──────────────────────┼──────────────┼─────────────────────┼─────────┤\n",
              "│ block_15_add (\u001b[38;5;33mAdd\u001b[0m)     │ (\u001b[38;5;45mNone\u001b[0m, \u001b[38;5;34m3\u001b[0m, \u001b[38;5;34m3\u001b[0m, \u001b[38;5;34m160\u001b[0m)    │            \u001b[38;5;34m0\u001b[0m │ block_14_add[\u001b[38;5;34m0\u001b[0m][\u001b[38;5;34m0\u001b[0m], │    \u001b[1m-\u001b[0m    │\n",
              "│                        │                      │              │ block_15_project_B… │         │\n",
              "├────────────────────────┼──────────────────────┼──────────────┼─────────────────────┼─────────┤\n",
              "│ block_16_expand        │ (\u001b[38;5;45mNone\u001b[0m, \u001b[38;5;34m3\u001b[0m, \u001b[38;5;34m3\u001b[0m, \u001b[38;5;34m960\u001b[0m)    │      \u001b[38;5;34m153,600\u001b[0m │ block_15_add[\u001b[38;5;34m0\u001b[0m][\u001b[38;5;34m0\u001b[0m]  │    \u001b[1;38;5;34mY\u001b[0m    │\n",
              "│ (\u001b[38;5;33mConv2D\u001b[0m)               │                      │              │                     │         │\n",
              "├────────────────────────┼──────────────────────┼──────────────┼─────────────────────┼─────────┤\n",
              "│ block_16_expand_BN     │ (\u001b[38;5;45mNone\u001b[0m, \u001b[38;5;34m3\u001b[0m, \u001b[38;5;34m3\u001b[0m, \u001b[38;5;34m960\u001b[0m)    │        \u001b[38;5;34m3,840\u001b[0m │ block_16_expand[\u001b[38;5;34m0\u001b[0m]… │    \u001b[1;38;5;34mY\u001b[0m    │\n",
              "│ (\u001b[38;5;33mBatchNormalization\u001b[0m)   │                      │              │                     │         │\n",
              "├────────────────────────┼──────────────────────┼──────────────┼─────────────────────┼─────────┤\n",
              "│ block_16_expand_relu   │ (\u001b[38;5;45mNone\u001b[0m, \u001b[38;5;34m3\u001b[0m, \u001b[38;5;34m3\u001b[0m, \u001b[38;5;34m960\u001b[0m)    │            \u001b[38;5;34m0\u001b[0m │ block_16_expand_BN… │    \u001b[1m-\u001b[0m    │\n",
              "│ (\u001b[38;5;33mReLU\u001b[0m)                 │                      │              │                     │         │\n",
              "├────────────────────────┼──────────────────────┼──────────────┼─────────────────────┼─────────┤\n",
              "│ block_16_depthwise     │ (\u001b[38;5;45mNone\u001b[0m, \u001b[38;5;34m3\u001b[0m, \u001b[38;5;34m3\u001b[0m, \u001b[38;5;34m960\u001b[0m)    │        \u001b[38;5;34m8,640\u001b[0m │ block_16_expand_re… │    \u001b[1;38;5;34mY\u001b[0m    │\n",
              "│ (\u001b[38;5;33mDepthwiseConv2D\u001b[0m)      │                      │              │                     │         │\n",
              "├────────────────────────┼──────────────────────┼──────────────┼─────────────────────┼─────────┤\n",
              "│ block_16_depthwise_BN  │ (\u001b[38;5;45mNone\u001b[0m, \u001b[38;5;34m3\u001b[0m, \u001b[38;5;34m3\u001b[0m, \u001b[38;5;34m960\u001b[0m)    │        \u001b[38;5;34m3,840\u001b[0m │ block_16_depthwise… │    \u001b[1;38;5;34mY\u001b[0m    │\n",
              "│ (\u001b[38;5;33mBatchNormalization\u001b[0m)   │                      │              │                     │         │\n",
              "├────────────────────────┼──────────────────────┼──────────────┼─────────────────────┼─────────┤\n",
              "│ block_16_depthwise_re… │ (\u001b[38;5;45mNone\u001b[0m, \u001b[38;5;34m3\u001b[0m, \u001b[38;5;34m3\u001b[0m, \u001b[38;5;34m960\u001b[0m)    │            \u001b[38;5;34m0\u001b[0m │ block_16_depthwise… │    \u001b[1m-\u001b[0m    │\n",
              "│ (\u001b[38;5;33mReLU\u001b[0m)                 │                      │              │                     │         │\n",
              "├────────────────────────┼──────────────────────┼──────────────┼─────────────────────┼─────────┤\n",
              "│ block_16_project       │ (\u001b[38;5;45mNone\u001b[0m, \u001b[38;5;34m3\u001b[0m, \u001b[38;5;34m3\u001b[0m, \u001b[38;5;34m320\u001b[0m)    │      \u001b[38;5;34m307,200\u001b[0m │ block_16_depthwise… │    \u001b[1;38;5;34mY\u001b[0m    │\n",
              "│ (\u001b[38;5;33mConv2D\u001b[0m)               │                      │              │                     │         │\n",
              "├────────────────────────┼──────────────────────┼──────────────┼─────────────────────┼─────────┤\n",
              "│ block_16_project_BN    │ (\u001b[38;5;45mNone\u001b[0m, \u001b[38;5;34m3\u001b[0m, \u001b[38;5;34m3\u001b[0m, \u001b[38;5;34m320\u001b[0m)    │        \u001b[38;5;34m1,280\u001b[0m │ block_16_project[\u001b[38;5;34m0\u001b[0m… │    \u001b[1;38;5;34mY\u001b[0m    │\n",
              "│ (\u001b[38;5;33mBatchNormalization\u001b[0m)   │                      │              │                     │         │\n",
              "├────────────────────────┼──────────────────────┼──────────────┼─────────────────────┼─────────┤\n",
              "│ Conv_1 (\u001b[38;5;33mConv2D\u001b[0m)        │ (\u001b[38;5;45mNone\u001b[0m, \u001b[38;5;34m3\u001b[0m, \u001b[38;5;34m3\u001b[0m, \u001b[38;5;34m1280\u001b[0m)   │      \u001b[38;5;34m409,600\u001b[0m │ block_16_project_B… │    \u001b[1;38;5;34mY\u001b[0m    │\n",
              "├────────────────────────┼──────────────────────┼──────────────┼─────────────────────┼─────────┤\n",
              "│ Conv_1_bn              │ (\u001b[38;5;45mNone\u001b[0m, \u001b[38;5;34m3\u001b[0m, \u001b[38;5;34m3\u001b[0m, \u001b[38;5;34m1280\u001b[0m)   │        \u001b[38;5;34m5,120\u001b[0m │ Conv_1[\u001b[38;5;34m0\u001b[0m][\u001b[38;5;34m0\u001b[0m]        │    \u001b[1;38;5;34mY\u001b[0m    │\n",
              "│ (\u001b[38;5;33mBatchNormalization\u001b[0m)   │                      │              │                     │         │\n",
              "├────────────────────────┼──────────────────────┼──────────────┼─────────────────────┼─────────┤\n",
              "│ out_relu (\u001b[38;5;33mReLU\u001b[0m)        │ (\u001b[38;5;45mNone\u001b[0m, \u001b[38;5;34m3\u001b[0m, \u001b[38;5;34m3\u001b[0m, \u001b[38;5;34m1280\u001b[0m)   │            \u001b[38;5;34m0\u001b[0m │ Conv_1_bn[\u001b[38;5;34m0\u001b[0m][\u001b[38;5;34m0\u001b[0m]     │    \u001b[1m-\u001b[0m    │\n",
              "└────────────────────────┴──────────────────────┴──────────────┴─────────────────────┴─────────┘\n"
            ],
            "text/html": [
              "<pre style=\"white-space:pre;overflow-x:auto;line-height:normal;font-family:Menlo,'DejaVu Sans Mono',consolas,'Courier New',monospace\">┏━━━━━━━━━━━━━━━━━━━━━━━━┳━━━━━━━━━━━━━━━━━━━━━━┳━━━━━━━━━━━━━━┳━━━━━━━━━━━━━━━━━━━━━┳━━━━━━━━━┓\n",
              "┃<span style=\"font-weight: bold\"> Layer (type)           </span>┃<span style=\"font-weight: bold\"> Output Shape         </span>┃<span style=\"font-weight: bold\">      Param # </span>┃<span style=\"font-weight: bold\"> Connected to        </span>┃<span style=\"font-weight: bold\"> Traina… </span>┃\n",
              "┡━━━━━━━━━━━━━━━━━━━━━━━━╇━━━━━━━━━━━━━━━━━━━━━━╇━━━━━━━━━━━━━━╇━━━━━━━━━━━━━━━━━━━━━╇━━━━━━━━━┩\n",
              "│ input_layer_8          │ (<span style=\"color: #00d7ff; text-decoration-color: #00d7ff\">None</span>, <span style=\"color: #00af00; text-decoration-color: #00af00\">96</span>, <span style=\"color: #00af00; text-decoration-color: #00af00\">96</span>, <span style=\"color: #00af00; text-decoration-color: #00af00\">3</span>)    │            <span style=\"color: #00af00; text-decoration-color: #00af00\">0</span> │ -                   │    <span style=\"font-weight: bold\">-</span>    │\n",
              "│ (<span style=\"color: #0087ff; text-decoration-color: #0087ff\">InputLayer</span>)           │                      │              │                     │         │\n",
              "├────────────────────────┼──────────────────────┼──────────────┼─────────────────────┼─────────┤\n",
              "│ Conv1 (<span style=\"color: #0087ff; text-decoration-color: #0087ff\">Conv2D</span>)         │ (<span style=\"color: #00d7ff; text-decoration-color: #00d7ff\">None</span>, <span style=\"color: #00af00; text-decoration-color: #00af00\">48</span>, <span style=\"color: #00af00; text-decoration-color: #00af00\">48</span>, <span style=\"color: #00af00; text-decoration-color: #00af00\">32</span>)   │          <span style=\"color: #00af00; text-decoration-color: #00af00\">864</span> │ input_layer_8[<span style=\"color: #00af00; text-decoration-color: #00af00\">0</span>][<span style=\"color: #00af00; text-decoration-color: #00af00\">0</span>] │    <span style=\"color: #00af00; text-decoration-color: #00af00; font-weight: bold\">Y</span>    │\n",
              "├────────────────────────┼──────────────────────┼──────────────┼─────────────────────┼─────────┤\n",
              "│ bn_Conv1               │ (<span style=\"color: #00d7ff; text-decoration-color: #00d7ff\">None</span>, <span style=\"color: #00af00; text-decoration-color: #00af00\">48</span>, <span style=\"color: #00af00; text-decoration-color: #00af00\">48</span>, <span style=\"color: #00af00; text-decoration-color: #00af00\">32</span>)   │          <span style=\"color: #00af00; text-decoration-color: #00af00\">128</span> │ Conv1[<span style=\"color: #00af00; text-decoration-color: #00af00\">0</span>][<span style=\"color: #00af00; text-decoration-color: #00af00\">0</span>]         │    <span style=\"color: #00af00; text-decoration-color: #00af00; font-weight: bold\">Y</span>    │\n",
              "│ (<span style=\"color: #0087ff; text-decoration-color: #0087ff\">BatchNormalization</span>)   │                      │              │                     │         │\n",
              "├────────────────────────┼──────────────────────┼──────────────┼─────────────────────┼─────────┤\n",
              "│ Conv1_relu (<span style=\"color: #0087ff; text-decoration-color: #0087ff\">ReLU</span>)      │ (<span style=\"color: #00d7ff; text-decoration-color: #00d7ff\">None</span>, <span style=\"color: #00af00; text-decoration-color: #00af00\">48</span>, <span style=\"color: #00af00; text-decoration-color: #00af00\">48</span>, <span style=\"color: #00af00; text-decoration-color: #00af00\">32</span>)   │            <span style=\"color: #00af00; text-decoration-color: #00af00\">0</span> │ bn_Conv1[<span style=\"color: #00af00; text-decoration-color: #00af00\">0</span>][<span style=\"color: #00af00; text-decoration-color: #00af00\">0</span>]      │    <span style=\"font-weight: bold\">-</span>    │\n",
              "├────────────────────────┼──────────────────────┼──────────────┼─────────────────────┼─────────┤\n",
              "│ expanded_conv_depthwi… │ (<span style=\"color: #00d7ff; text-decoration-color: #00d7ff\">None</span>, <span style=\"color: #00af00; text-decoration-color: #00af00\">48</span>, <span style=\"color: #00af00; text-decoration-color: #00af00\">48</span>, <span style=\"color: #00af00; text-decoration-color: #00af00\">32</span>)   │          <span style=\"color: #00af00; text-decoration-color: #00af00\">288</span> │ Conv1_relu[<span style=\"color: #00af00; text-decoration-color: #00af00\">0</span>][<span style=\"color: #00af00; text-decoration-color: #00af00\">0</span>]    │    <span style=\"color: #00af00; text-decoration-color: #00af00; font-weight: bold\">Y</span>    │\n",
              "│ (<span style=\"color: #0087ff; text-decoration-color: #0087ff\">DepthwiseConv2D</span>)      │                      │              │                     │         │\n",
              "├────────────────────────┼──────────────────────┼──────────────┼─────────────────────┼─────────┤\n",
              "│ expanded_conv_depthwi… │ (<span style=\"color: #00d7ff; text-decoration-color: #00d7ff\">None</span>, <span style=\"color: #00af00; text-decoration-color: #00af00\">48</span>, <span style=\"color: #00af00; text-decoration-color: #00af00\">48</span>, <span style=\"color: #00af00; text-decoration-color: #00af00\">32</span>)   │          <span style=\"color: #00af00; text-decoration-color: #00af00\">128</span> │ expanded_conv_dept… │    <span style=\"color: #00af00; text-decoration-color: #00af00; font-weight: bold\">Y</span>    │\n",
              "│ (<span style=\"color: #0087ff; text-decoration-color: #0087ff\">BatchNormalization</span>)   │                      │              │                     │         │\n",
              "├────────────────────────┼──────────────────────┼──────────────┼─────────────────────┼─────────┤\n",
              "│ expanded_conv_depthwi… │ (<span style=\"color: #00d7ff; text-decoration-color: #00d7ff\">None</span>, <span style=\"color: #00af00; text-decoration-color: #00af00\">48</span>, <span style=\"color: #00af00; text-decoration-color: #00af00\">48</span>, <span style=\"color: #00af00; text-decoration-color: #00af00\">32</span>)   │            <span style=\"color: #00af00; text-decoration-color: #00af00\">0</span> │ expanded_conv_dept… │    <span style=\"font-weight: bold\">-</span>    │\n",
              "│ (<span style=\"color: #0087ff; text-decoration-color: #0087ff\">ReLU</span>)                 │                      │              │                     │         │\n",
              "├────────────────────────┼──────────────────────┼──────────────┼─────────────────────┼─────────┤\n",
              "│ expanded_conv_project  │ (<span style=\"color: #00d7ff; text-decoration-color: #00d7ff\">None</span>, <span style=\"color: #00af00; text-decoration-color: #00af00\">48</span>, <span style=\"color: #00af00; text-decoration-color: #00af00\">48</span>, <span style=\"color: #00af00; text-decoration-color: #00af00\">16</span>)   │          <span style=\"color: #00af00; text-decoration-color: #00af00\">512</span> │ expanded_conv_dept… │    <span style=\"color: #00af00; text-decoration-color: #00af00; font-weight: bold\">Y</span>    │\n",
              "│ (<span style=\"color: #0087ff; text-decoration-color: #0087ff\">Conv2D</span>)               │                      │              │                     │         │\n",
              "├────────────────────────┼──────────────────────┼──────────────┼─────────────────────┼─────────┤\n",
              "│ expanded_conv_project… │ (<span style=\"color: #00d7ff; text-decoration-color: #00d7ff\">None</span>, <span style=\"color: #00af00; text-decoration-color: #00af00\">48</span>, <span style=\"color: #00af00; text-decoration-color: #00af00\">48</span>, <span style=\"color: #00af00; text-decoration-color: #00af00\">16</span>)   │           <span style=\"color: #00af00; text-decoration-color: #00af00\">64</span> │ expanded_conv_proj… │    <span style=\"color: #00af00; text-decoration-color: #00af00; font-weight: bold\">Y</span>    │\n",
              "│ (<span style=\"color: #0087ff; text-decoration-color: #0087ff\">BatchNormalization</span>)   │                      │              │                     │         │\n",
              "├────────────────────────┼──────────────────────┼──────────────┼─────────────────────┼─────────┤\n",
              "│ block_1_expand         │ (<span style=\"color: #00d7ff; text-decoration-color: #00d7ff\">None</span>, <span style=\"color: #00af00; text-decoration-color: #00af00\">48</span>, <span style=\"color: #00af00; text-decoration-color: #00af00\">48</span>, <span style=\"color: #00af00; text-decoration-color: #00af00\">96</span>)   │        <span style=\"color: #00af00; text-decoration-color: #00af00\">1,536</span> │ expanded_conv_proj… │    <span style=\"color: #00af00; text-decoration-color: #00af00; font-weight: bold\">Y</span>    │\n",
              "│ (<span style=\"color: #0087ff; text-decoration-color: #0087ff\">Conv2D</span>)               │                      │              │                     │         │\n",
              "├────────────────────────┼──────────────────────┼──────────────┼─────────────────────┼─────────┤\n",
              "│ block_1_expand_BN      │ (<span style=\"color: #00d7ff; text-decoration-color: #00d7ff\">None</span>, <span style=\"color: #00af00; text-decoration-color: #00af00\">48</span>, <span style=\"color: #00af00; text-decoration-color: #00af00\">48</span>, <span style=\"color: #00af00; text-decoration-color: #00af00\">96</span>)   │          <span style=\"color: #00af00; text-decoration-color: #00af00\">384</span> │ block_1_expand[<span style=\"color: #00af00; text-decoration-color: #00af00\">0</span>][<span style=\"color: #00af00; text-decoration-color: #00af00\">…</span> │    <span style=\"color: #00af00; text-decoration-color: #00af00; font-weight: bold\">Y</span>    │\n",
              "│ (<span style=\"color: #0087ff; text-decoration-color: #0087ff\">BatchNormalization</span>)   │                      │              │                     │         │\n",
              "├────────────────────────┼──────────────────────┼──────────────┼─────────────────────┼─────────┤\n",
              "│ block_1_expand_relu    │ (<span style=\"color: #00d7ff; text-decoration-color: #00d7ff\">None</span>, <span style=\"color: #00af00; text-decoration-color: #00af00\">48</span>, <span style=\"color: #00af00; text-decoration-color: #00af00\">48</span>, <span style=\"color: #00af00; text-decoration-color: #00af00\">96</span>)   │            <span style=\"color: #00af00; text-decoration-color: #00af00\">0</span> │ block_1_expand_BN[<span style=\"color: #00af00; text-decoration-color: #00af00\">…</span> │    <span style=\"font-weight: bold\">-</span>    │\n",
              "│ (<span style=\"color: #0087ff; text-decoration-color: #0087ff\">ReLU</span>)                 │                      │              │                     │         │\n",
              "├────────────────────────┼──────────────────────┼──────────────┼─────────────────────┼─────────┤\n",
              "│ block_1_pad            │ (<span style=\"color: #00d7ff; text-decoration-color: #00d7ff\">None</span>, <span style=\"color: #00af00; text-decoration-color: #00af00\">49</span>, <span style=\"color: #00af00; text-decoration-color: #00af00\">49</span>, <span style=\"color: #00af00; text-decoration-color: #00af00\">96</span>)   │            <span style=\"color: #00af00; text-decoration-color: #00af00\">0</span> │ block_1_expand_rel… │    <span style=\"font-weight: bold\">-</span>    │\n",
              "│ (<span style=\"color: #0087ff; text-decoration-color: #0087ff\">ZeroPadding2D</span>)        │                      │              │                     │         │\n",
              "├────────────────────────┼──────────────────────┼──────────────┼─────────────────────┼─────────┤\n",
              "│ block_1_depthwise      │ (<span style=\"color: #00d7ff; text-decoration-color: #00d7ff\">None</span>, <span style=\"color: #00af00; text-decoration-color: #00af00\">24</span>, <span style=\"color: #00af00; text-decoration-color: #00af00\">24</span>, <span style=\"color: #00af00; text-decoration-color: #00af00\">96</span>)   │          <span style=\"color: #00af00; text-decoration-color: #00af00\">864</span> │ block_1_pad[<span style=\"color: #00af00; text-decoration-color: #00af00\">0</span>][<span style=\"color: #00af00; text-decoration-color: #00af00\">0</span>]   │    <span style=\"color: #00af00; text-decoration-color: #00af00; font-weight: bold\">Y</span>    │\n",
              "│ (<span style=\"color: #0087ff; text-decoration-color: #0087ff\">DepthwiseConv2D</span>)      │                      │              │                     │         │\n",
              "├────────────────────────┼──────────────────────┼──────────────┼─────────────────────┼─────────┤\n",
              "│ block_1_depthwise_BN   │ (<span style=\"color: #00d7ff; text-decoration-color: #00d7ff\">None</span>, <span style=\"color: #00af00; text-decoration-color: #00af00\">24</span>, <span style=\"color: #00af00; text-decoration-color: #00af00\">24</span>, <span style=\"color: #00af00; text-decoration-color: #00af00\">96</span>)   │          <span style=\"color: #00af00; text-decoration-color: #00af00\">384</span> │ block_1_depthwise[<span style=\"color: #00af00; text-decoration-color: #00af00\">…</span> │    <span style=\"color: #00af00; text-decoration-color: #00af00; font-weight: bold\">Y</span>    │\n",
              "│ (<span style=\"color: #0087ff; text-decoration-color: #0087ff\">BatchNormalization</span>)   │                      │              │                     │         │\n",
              "├────────────────────────┼──────────────────────┼──────────────┼─────────────────────┼─────────┤\n",
              "│ block_1_depthwise_relu │ (<span style=\"color: #00d7ff; text-decoration-color: #00d7ff\">None</span>, <span style=\"color: #00af00; text-decoration-color: #00af00\">24</span>, <span style=\"color: #00af00; text-decoration-color: #00af00\">24</span>, <span style=\"color: #00af00; text-decoration-color: #00af00\">96</span>)   │            <span style=\"color: #00af00; text-decoration-color: #00af00\">0</span> │ block_1_depthwise_… │    <span style=\"font-weight: bold\">-</span>    │\n",
              "│ (<span style=\"color: #0087ff; text-decoration-color: #0087ff\">ReLU</span>)                 │                      │              │                     │         │\n",
              "├────────────────────────┼──────────────────────┼──────────────┼─────────────────────┼─────────┤\n",
              "│ block_1_project        │ (<span style=\"color: #00d7ff; text-decoration-color: #00d7ff\">None</span>, <span style=\"color: #00af00; text-decoration-color: #00af00\">24</span>, <span style=\"color: #00af00; text-decoration-color: #00af00\">24</span>, <span style=\"color: #00af00; text-decoration-color: #00af00\">24</span>)   │        <span style=\"color: #00af00; text-decoration-color: #00af00\">2,304</span> │ block_1_depthwise_… │    <span style=\"color: #00af00; text-decoration-color: #00af00; font-weight: bold\">Y</span>    │\n",
              "│ (<span style=\"color: #0087ff; text-decoration-color: #0087ff\">Conv2D</span>)               │                      │              │                     │         │\n",
              "├────────────────────────┼──────────────────────┼──────────────┼─────────────────────┼─────────┤\n",
              "│ block_1_project_BN     │ (<span style=\"color: #00d7ff; text-decoration-color: #00d7ff\">None</span>, <span style=\"color: #00af00; text-decoration-color: #00af00\">24</span>, <span style=\"color: #00af00; text-decoration-color: #00af00\">24</span>, <span style=\"color: #00af00; text-decoration-color: #00af00\">24</span>)   │           <span style=\"color: #00af00; text-decoration-color: #00af00\">96</span> │ block_1_project[<span style=\"color: #00af00; text-decoration-color: #00af00\">0</span>]… │    <span style=\"color: #00af00; text-decoration-color: #00af00; font-weight: bold\">Y</span>    │\n",
              "│ (<span style=\"color: #0087ff; text-decoration-color: #0087ff\">BatchNormalization</span>)   │                      │              │                     │         │\n",
              "├────────────────────────┼──────────────────────┼──────────────┼─────────────────────┼─────────┤\n",
              "│ block_2_expand         │ (<span style=\"color: #00d7ff; text-decoration-color: #00d7ff\">None</span>, <span style=\"color: #00af00; text-decoration-color: #00af00\">24</span>, <span style=\"color: #00af00; text-decoration-color: #00af00\">24</span>, <span style=\"color: #00af00; text-decoration-color: #00af00\">144</span>)  │        <span style=\"color: #00af00; text-decoration-color: #00af00\">3,456</span> │ block_1_project_BN… │    <span style=\"color: #00af00; text-decoration-color: #00af00; font-weight: bold\">Y</span>    │\n",
              "│ (<span style=\"color: #0087ff; text-decoration-color: #0087ff\">Conv2D</span>)               │                      │              │                     │         │\n",
              "├────────────────────────┼──────────────────────┼──────────────┼─────────────────────┼─────────┤\n",
              "│ block_2_expand_BN      │ (<span style=\"color: #00d7ff; text-decoration-color: #00d7ff\">None</span>, <span style=\"color: #00af00; text-decoration-color: #00af00\">24</span>, <span style=\"color: #00af00; text-decoration-color: #00af00\">24</span>, <span style=\"color: #00af00; text-decoration-color: #00af00\">144</span>)  │          <span style=\"color: #00af00; text-decoration-color: #00af00\">576</span> │ block_2_expand[<span style=\"color: #00af00; text-decoration-color: #00af00\">0</span>][<span style=\"color: #00af00; text-decoration-color: #00af00\">…</span> │    <span style=\"color: #00af00; text-decoration-color: #00af00; font-weight: bold\">Y</span>    │\n",
              "│ (<span style=\"color: #0087ff; text-decoration-color: #0087ff\">BatchNormalization</span>)   │                      │              │                     │         │\n",
              "├────────────────────────┼──────────────────────┼──────────────┼─────────────────────┼─────────┤\n",
              "│ block_2_expand_relu    │ (<span style=\"color: #00d7ff; text-decoration-color: #00d7ff\">None</span>, <span style=\"color: #00af00; text-decoration-color: #00af00\">24</span>, <span style=\"color: #00af00; text-decoration-color: #00af00\">24</span>, <span style=\"color: #00af00; text-decoration-color: #00af00\">144</span>)  │            <span style=\"color: #00af00; text-decoration-color: #00af00\">0</span> │ block_2_expand_BN[<span style=\"color: #00af00; text-decoration-color: #00af00\">…</span> │    <span style=\"font-weight: bold\">-</span>    │\n",
              "│ (<span style=\"color: #0087ff; text-decoration-color: #0087ff\">ReLU</span>)                 │                      │              │                     │         │\n",
              "├────────────────────────┼──────────────────────┼──────────────┼─────────────────────┼─────────┤\n",
              "│ block_2_depthwise      │ (<span style=\"color: #00d7ff; text-decoration-color: #00d7ff\">None</span>, <span style=\"color: #00af00; text-decoration-color: #00af00\">24</span>, <span style=\"color: #00af00; text-decoration-color: #00af00\">24</span>, <span style=\"color: #00af00; text-decoration-color: #00af00\">144</span>)  │        <span style=\"color: #00af00; text-decoration-color: #00af00\">1,296</span> │ block_2_expand_rel… │    <span style=\"color: #00af00; text-decoration-color: #00af00; font-weight: bold\">Y</span>    │\n",
              "│ (<span style=\"color: #0087ff; text-decoration-color: #0087ff\">DepthwiseConv2D</span>)      │                      │              │                     │         │\n",
              "├────────────────────────┼──────────────────────┼──────────────┼─────────────────────┼─────────┤\n",
              "│ block_2_depthwise_BN   │ (<span style=\"color: #00d7ff; text-decoration-color: #00d7ff\">None</span>, <span style=\"color: #00af00; text-decoration-color: #00af00\">24</span>, <span style=\"color: #00af00; text-decoration-color: #00af00\">24</span>, <span style=\"color: #00af00; text-decoration-color: #00af00\">144</span>)  │          <span style=\"color: #00af00; text-decoration-color: #00af00\">576</span> │ block_2_depthwise[<span style=\"color: #00af00; text-decoration-color: #00af00\">…</span> │    <span style=\"color: #00af00; text-decoration-color: #00af00; font-weight: bold\">Y</span>    │\n",
              "│ (<span style=\"color: #0087ff; text-decoration-color: #0087ff\">BatchNormalization</span>)   │                      │              │                     │         │\n",
              "├────────────────────────┼──────────────────────┼──────────────┼─────────────────────┼─────────┤\n",
              "│ block_2_depthwise_relu │ (<span style=\"color: #00d7ff; text-decoration-color: #00d7ff\">None</span>, <span style=\"color: #00af00; text-decoration-color: #00af00\">24</span>, <span style=\"color: #00af00; text-decoration-color: #00af00\">24</span>, <span style=\"color: #00af00; text-decoration-color: #00af00\">144</span>)  │            <span style=\"color: #00af00; text-decoration-color: #00af00\">0</span> │ block_2_depthwise_… │    <span style=\"font-weight: bold\">-</span>    │\n",
              "│ (<span style=\"color: #0087ff; text-decoration-color: #0087ff\">ReLU</span>)                 │                      │              │                     │         │\n",
              "├────────────────────────┼──────────────────────┼──────────────┼─────────────────────┼─────────┤\n",
              "│ block_2_project        │ (<span style=\"color: #00d7ff; text-decoration-color: #00d7ff\">None</span>, <span style=\"color: #00af00; text-decoration-color: #00af00\">24</span>, <span style=\"color: #00af00; text-decoration-color: #00af00\">24</span>, <span style=\"color: #00af00; text-decoration-color: #00af00\">24</span>)   │        <span style=\"color: #00af00; text-decoration-color: #00af00\">3,456</span> │ block_2_depthwise_… │    <span style=\"color: #00af00; text-decoration-color: #00af00; font-weight: bold\">Y</span>    │\n",
              "│ (<span style=\"color: #0087ff; text-decoration-color: #0087ff\">Conv2D</span>)               │                      │              │                     │         │\n",
              "├────────────────────────┼──────────────────────┼──────────────┼─────────────────────┼─────────┤\n",
              "│ block_2_project_BN     │ (<span style=\"color: #00d7ff; text-decoration-color: #00d7ff\">None</span>, <span style=\"color: #00af00; text-decoration-color: #00af00\">24</span>, <span style=\"color: #00af00; text-decoration-color: #00af00\">24</span>, <span style=\"color: #00af00; text-decoration-color: #00af00\">24</span>)   │           <span style=\"color: #00af00; text-decoration-color: #00af00\">96</span> │ block_2_project[<span style=\"color: #00af00; text-decoration-color: #00af00\">0</span>]… │    <span style=\"color: #00af00; text-decoration-color: #00af00; font-weight: bold\">Y</span>    │\n",
              "│ (<span style=\"color: #0087ff; text-decoration-color: #0087ff\">BatchNormalization</span>)   │                      │              │                     │         │\n",
              "├────────────────────────┼──────────────────────┼──────────────┼─────────────────────┼─────────┤\n",
              "│ block_2_add (<span style=\"color: #0087ff; text-decoration-color: #0087ff\">Add</span>)      │ (<span style=\"color: #00d7ff; text-decoration-color: #00d7ff\">None</span>, <span style=\"color: #00af00; text-decoration-color: #00af00\">24</span>, <span style=\"color: #00af00; text-decoration-color: #00af00\">24</span>, <span style=\"color: #00af00; text-decoration-color: #00af00\">24</span>)   │            <span style=\"color: #00af00; text-decoration-color: #00af00\">0</span> │ block_1_project_BN… │    <span style=\"font-weight: bold\">-</span>    │\n",
              "│                        │                      │              │ block_2_project_BN… │         │\n",
              "├────────────────────────┼──────────────────────┼──────────────┼─────────────────────┼─────────┤\n",
              "│ block_3_expand         │ (<span style=\"color: #00d7ff; text-decoration-color: #00d7ff\">None</span>, <span style=\"color: #00af00; text-decoration-color: #00af00\">24</span>, <span style=\"color: #00af00; text-decoration-color: #00af00\">24</span>, <span style=\"color: #00af00; text-decoration-color: #00af00\">144</span>)  │        <span style=\"color: #00af00; text-decoration-color: #00af00\">3,456</span> │ block_2_add[<span style=\"color: #00af00; text-decoration-color: #00af00\">0</span>][<span style=\"color: #00af00; text-decoration-color: #00af00\">0</span>]   │    <span style=\"color: #00af00; text-decoration-color: #00af00; font-weight: bold\">Y</span>    │\n",
              "│ (<span style=\"color: #0087ff; text-decoration-color: #0087ff\">Conv2D</span>)               │                      │              │                     │         │\n",
              "├────────────────────────┼──────────────────────┼──────────────┼─────────────────────┼─────────┤\n",
              "│ block_3_expand_BN      │ (<span style=\"color: #00d7ff; text-decoration-color: #00d7ff\">None</span>, <span style=\"color: #00af00; text-decoration-color: #00af00\">24</span>, <span style=\"color: #00af00; text-decoration-color: #00af00\">24</span>, <span style=\"color: #00af00; text-decoration-color: #00af00\">144</span>)  │          <span style=\"color: #00af00; text-decoration-color: #00af00\">576</span> │ block_3_expand[<span style=\"color: #00af00; text-decoration-color: #00af00\">0</span>][<span style=\"color: #00af00; text-decoration-color: #00af00\">…</span> │    <span style=\"color: #00af00; text-decoration-color: #00af00; font-weight: bold\">Y</span>    │\n",
              "│ (<span style=\"color: #0087ff; text-decoration-color: #0087ff\">BatchNormalization</span>)   │                      │              │                     │         │\n",
              "├────────────────────────┼──────────────────────┼──────────────┼─────────────────────┼─────────┤\n",
              "│ block_3_expand_relu    │ (<span style=\"color: #00d7ff; text-decoration-color: #00d7ff\">None</span>, <span style=\"color: #00af00; text-decoration-color: #00af00\">24</span>, <span style=\"color: #00af00; text-decoration-color: #00af00\">24</span>, <span style=\"color: #00af00; text-decoration-color: #00af00\">144</span>)  │            <span style=\"color: #00af00; text-decoration-color: #00af00\">0</span> │ block_3_expand_BN[<span style=\"color: #00af00; text-decoration-color: #00af00\">…</span> │    <span style=\"font-weight: bold\">-</span>    │\n",
              "│ (<span style=\"color: #0087ff; text-decoration-color: #0087ff\">ReLU</span>)                 │                      │              │                     │         │\n",
              "├────────────────────────┼──────────────────────┼──────────────┼─────────────────────┼─────────┤\n",
              "│ block_3_pad            │ (<span style=\"color: #00d7ff; text-decoration-color: #00d7ff\">None</span>, <span style=\"color: #00af00; text-decoration-color: #00af00\">25</span>, <span style=\"color: #00af00; text-decoration-color: #00af00\">25</span>, <span style=\"color: #00af00; text-decoration-color: #00af00\">144</span>)  │            <span style=\"color: #00af00; text-decoration-color: #00af00\">0</span> │ block_3_expand_rel… │    <span style=\"font-weight: bold\">-</span>    │\n",
              "│ (<span style=\"color: #0087ff; text-decoration-color: #0087ff\">ZeroPadding2D</span>)        │                      │              │                     │         │\n",
              "├────────────────────────┼──────────────────────┼──────────────┼─────────────────────┼─────────┤\n",
              "│ block_3_depthwise      │ (<span style=\"color: #00d7ff; text-decoration-color: #00d7ff\">None</span>, <span style=\"color: #00af00; text-decoration-color: #00af00\">12</span>, <span style=\"color: #00af00; text-decoration-color: #00af00\">12</span>, <span style=\"color: #00af00; text-decoration-color: #00af00\">144</span>)  │        <span style=\"color: #00af00; text-decoration-color: #00af00\">1,296</span> │ block_3_pad[<span style=\"color: #00af00; text-decoration-color: #00af00\">0</span>][<span style=\"color: #00af00; text-decoration-color: #00af00\">0</span>]   │    <span style=\"color: #00af00; text-decoration-color: #00af00; font-weight: bold\">Y</span>    │\n",
              "│ (<span style=\"color: #0087ff; text-decoration-color: #0087ff\">DepthwiseConv2D</span>)      │                      │              │                     │         │\n",
              "├────────────────────────┼──────────────────────┼──────────────┼─────────────────────┼─────────┤\n",
              "│ block_3_depthwise_BN   │ (<span style=\"color: #00d7ff; text-decoration-color: #00d7ff\">None</span>, <span style=\"color: #00af00; text-decoration-color: #00af00\">12</span>, <span style=\"color: #00af00; text-decoration-color: #00af00\">12</span>, <span style=\"color: #00af00; text-decoration-color: #00af00\">144</span>)  │          <span style=\"color: #00af00; text-decoration-color: #00af00\">576</span> │ block_3_depthwise[<span style=\"color: #00af00; text-decoration-color: #00af00\">…</span> │    <span style=\"color: #00af00; text-decoration-color: #00af00; font-weight: bold\">Y</span>    │\n",
              "│ (<span style=\"color: #0087ff; text-decoration-color: #0087ff\">BatchNormalization</span>)   │                      │              │                     │         │\n",
              "├────────────────────────┼──────────────────────┼──────────────┼─────────────────────┼─────────┤\n",
              "│ block_3_depthwise_relu │ (<span style=\"color: #00d7ff; text-decoration-color: #00d7ff\">None</span>, <span style=\"color: #00af00; text-decoration-color: #00af00\">12</span>, <span style=\"color: #00af00; text-decoration-color: #00af00\">12</span>, <span style=\"color: #00af00; text-decoration-color: #00af00\">144</span>)  │            <span style=\"color: #00af00; text-decoration-color: #00af00\">0</span> │ block_3_depthwise_… │    <span style=\"font-weight: bold\">-</span>    │\n",
              "│ (<span style=\"color: #0087ff; text-decoration-color: #0087ff\">ReLU</span>)                 │                      │              │                     │         │\n",
              "├────────────────────────┼──────────────────────┼──────────────┼─────────────────────┼─────────┤\n",
              "│ block_3_project        │ (<span style=\"color: #00d7ff; text-decoration-color: #00d7ff\">None</span>, <span style=\"color: #00af00; text-decoration-color: #00af00\">12</span>, <span style=\"color: #00af00; text-decoration-color: #00af00\">12</span>, <span style=\"color: #00af00; text-decoration-color: #00af00\">32</span>)   │        <span style=\"color: #00af00; text-decoration-color: #00af00\">4,608</span> │ block_3_depthwise_… │    <span style=\"color: #00af00; text-decoration-color: #00af00; font-weight: bold\">Y</span>    │\n",
              "│ (<span style=\"color: #0087ff; text-decoration-color: #0087ff\">Conv2D</span>)               │                      │              │                     │         │\n",
              "├────────────────────────┼──────────────────────┼──────────────┼─────────────────────┼─────────┤\n",
              "│ block_3_project_BN     │ (<span style=\"color: #00d7ff; text-decoration-color: #00d7ff\">None</span>, <span style=\"color: #00af00; text-decoration-color: #00af00\">12</span>, <span style=\"color: #00af00; text-decoration-color: #00af00\">12</span>, <span style=\"color: #00af00; text-decoration-color: #00af00\">32</span>)   │          <span style=\"color: #00af00; text-decoration-color: #00af00\">128</span> │ block_3_project[<span style=\"color: #00af00; text-decoration-color: #00af00\">0</span>]… │    <span style=\"color: #00af00; text-decoration-color: #00af00; font-weight: bold\">Y</span>    │\n",
              "│ (<span style=\"color: #0087ff; text-decoration-color: #0087ff\">BatchNormalization</span>)   │                      │              │                     │         │\n",
              "├────────────────────────┼──────────────────────┼──────────────┼─────────────────────┼─────────┤\n",
              "│ block_4_expand         │ (<span style=\"color: #00d7ff; text-decoration-color: #00d7ff\">None</span>, <span style=\"color: #00af00; text-decoration-color: #00af00\">12</span>, <span style=\"color: #00af00; text-decoration-color: #00af00\">12</span>, <span style=\"color: #00af00; text-decoration-color: #00af00\">192</span>)  │        <span style=\"color: #00af00; text-decoration-color: #00af00\">6,144</span> │ block_3_project_BN… │    <span style=\"color: #00af00; text-decoration-color: #00af00; font-weight: bold\">Y</span>    │\n",
              "│ (<span style=\"color: #0087ff; text-decoration-color: #0087ff\">Conv2D</span>)               │                      │              │                     │         │\n",
              "├────────────────────────┼──────────────────────┼──────────────┼─────────────────────┼─────────┤\n",
              "│ block_4_expand_BN      │ (<span style=\"color: #00d7ff; text-decoration-color: #00d7ff\">None</span>, <span style=\"color: #00af00; text-decoration-color: #00af00\">12</span>, <span style=\"color: #00af00; text-decoration-color: #00af00\">12</span>, <span style=\"color: #00af00; text-decoration-color: #00af00\">192</span>)  │          <span style=\"color: #00af00; text-decoration-color: #00af00\">768</span> │ block_4_expand[<span style=\"color: #00af00; text-decoration-color: #00af00\">0</span>][<span style=\"color: #00af00; text-decoration-color: #00af00\">…</span> │    <span style=\"color: #00af00; text-decoration-color: #00af00; font-weight: bold\">Y</span>    │\n",
              "│ (<span style=\"color: #0087ff; text-decoration-color: #0087ff\">BatchNormalization</span>)   │                      │              │                     │         │\n",
              "├────────────────────────┼──────────────────────┼──────────────┼─────────────────────┼─────────┤\n",
              "│ block_4_expand_relu    │ (<span style=\"color: #00d7ff; text-decoration-color: #00d7ff\">None</span>, <span style=\"color: #00af00; text-decoration-color: #00af00\">12</span>, <span style=\"color: #00af00; text-decoration-color: #00af00\">12</span>, <span style=\"color: #00af00; text-decoration-color: #00af00\">192</span>)  │            <span style=\"color: #00af00; text-decoration-color: #00af00\">0</span> │ block_4_expand_BN[<span style=\"color: #00af00; text-decoration-color: #00af00\">…</span> │    <span style=\"font-weight: bold\">-</span>    │\n",
              "│ (<span style=\"color: #0087ff; text-decoration-color: #0087ff\">ReLU</span>)                 │                      │              │                     │         │\n",
              "├────────────────────────┼──────────────────────┼──────────────┼─────────────────────┼─────────┤\n",
              "│ block_4_depthwise      │ (<span style=\"color: #00d7ff; text-decoration-color: #00d7ff\">None</span>, <span style=\"color: #00af00; text-decoration-color: #00af00\">12</span>, <span style=\"color: #00af00; text-decoration-color: #00af00\">12</span>, <span style=\"color: #00af00; text-decoration-color: #00af00\">192</span>)  │        <span style=\"color: #00af00; text-decoration-color: #00af00\">1,728</span> │ block_4_expand_rel… │    <span style=\"color: #00af00; text-decoration-color: #00af00; font-weight: bold\">Y</span>    │\n",
              "│ (<span style=\"color: #0087ff; text-decoration-color: #0087ff\">DepthwiseConv2D</span>)      │                      │              │                     │         │\n",
              "├────────────────────────┼──────────────────────┼──────────────┼─────────────────────┼─────────┤\n",
              "│ block_4_depthwise_BN   │ (<span style=\"color: #00d7ff; text-decoration-color: #00d7ff\">None</span>, <span style=\"color: #00af00; text-decoration-color: #00af00\">12</span>, <span style=\"color: #00af00; text-decoration-color: #00af00\">12</span>, <span style=\"color: #00af00; text-decoration-color: #00af00\">192</span>)  │          <span style=\"color: #00af00; text-decoration-color: #00af00\">768</span> │ block_4_depthwise[<span style=\"color: #00af00; text-decoration-color: #00af00\">…</span> │    <span style=\"color: #00af00; text-decoration-color: #00af00; font-weight: bold\">Y</span>    │\n",
              "│ (<span style=\"color: #0087ff; text-decoration-color: #0087ff\">BatchNormalization</span>)   │                      │              │                     │         │\n",
              "├────────────────────────┼──────────────────────┼──────────────┼─────────────────────┼─────────┤\n",
              "│ block_4_depthwise_relu │ (<span style=\"color: #00d7ff; text-decoration-color: #00d7ff\">None</span>, <span style=\"color: #00af00; text-decoration-color: #00af00\">12</span>, <span style=\"color: #00af00; text-decoration-color: #00af00\">12</span>, <span style=\"color: #00af00; text-decoration-color: #00af00\">192</span>)  │            <span style=\"color: #00af00; text-decoration-color: #00af00\">0</span> │ block_4_depthwise_… │    <span style=\"font-weight: bold\">-</span>    │\n",
              "│ (<span style=\"color: #0087ff; text-decoration-color: #0087ff\">ReLU</span>)                 │                      │              │                     │         │\n",
              "├────────────────────────┼──────────────────────┼──────────────┼─────────────────────┼─────────┤\n",
              "│ block_4_project        │ (<span style=\"color: #00d7ff; text-decoration-color: #00d7ff\">None</span>, <span style=\"color: #00af00; text-decoration-color: #00af00\">12</span>, <span style=\"color: #00af00; text-decoration-color: #00af00\">12</span>, <span style=\"color: #00af00; text-decoration-color: #00af00\">32</span>)   │        <span style=\"color: #00af00; text-decoration-color: #00af00\">6,144</span> │ block_4_depthwise_… │    <span style=\"color: #00af00; text-decoration-color: #00af00; font-weight: bold\">Y</span>    │\n",
              "│ (<span style=\"color: #0087ff; text-decoration-color: #0087ff\">Conv2D</span>)               │                      │              │                     │         │\n",
              "├────────────────────────┼──────────────────────┼──────────────┼─────────────────────┼─────────┤\n",
              "│ block_4_project_BN     │ (<span style=\"color: #00d7ff; text-decoration-color: #00d7ff\">None</span>, <span style=\"color: #00af00; text-decoration-color: #00af00\">12</span>, <span style=\"color: #00af00; text-decoration-color: #00af00\">12</span>, <span style=\"color: #00af00; text-decoration-color: #00af00\">32</span>)   │          <span style=\"color: #00af00; text-decoration-color: #00af00\">128</span> │ block_4_project[<span style=\"color: #00af00; text-decoration-color: #00af00\">0</span>]… │    <span style=\"color: #00af00; text-decoration-color: #00af00; font-weight: bold\">Y</span>    │\n",
              "│ (<span style=\"color: #0087ff; text-decoration-color: #0087ff\">BatchNormalization</span>)   │                      │              │                     │         │\n",
              "├────────────────────────┼──────────────────────┼──────────────┼─────────────────────┼─────────┤\n",
              "│ block_4_add (<span style=\"color: #0087ff; text-decoration-color: #0087ff\">Add</span>)      │ (<span style=\"color: #00d7ff; text-decoration-color: #00d7ff\">None</span>, <span style=\"color: #00af00; text-decoration-color: #00af00\">12</span>, <span style=\"color: #00af00; text-decoration-color: #00af00\">12</span>, <span style=\"color: #00af00; text-decoration-color: #00af00\">32</span>)   │            <span style=\"color: #00af00; text-decoration-color: #00af00\">0</span> │ block_3_project_BN… │    <span style=\"font-weight: bold\">-</span>    │\n",
              "│                        │                      │              │ block_4_project_BN… │         │\n",
              "├────────────────────────┼──────────────────────┼──────────────┼─────────────────────┼─────────┤\n",
              "│ block_5_expand         │ (<span style=\"color: #00d7ff; text-decoration-color: #00d7ff\">None</span>, <span style=\"color: #00af00; text-decoration-color: #00af00\">12</span>, <span style=\"color: #00af00; text-decoration-color: #00af00\">12</span>, <span style=\"color: #00af00; text-decoration-color: #00af00\">192</span>)  │        <span style=\"color: #00af00; text-decoration-color: #00af00\">6,144</span> │ block_4_add[<span style=\"color: #00af00; text-decoration-color: #00af00\">0</span>][<span style=\"color: #00af00; text-decoration-color: #00af00\">0</span>]   │    <span style=\"color: #00af00; text-decoration-color: #00af00; font-weight: bold\">Y</span>    │\n",
              "│ (<span style=\"color: #0087ff; text-decoration-color: #0087ff\">Conv2D</span>)               │                      │              │                     │         │\n",
              "├────────────────────────┼──────────────────────┼──────────────┼─────────────────────┼─────────┤\n",
              "│ block_5_expand_BN      │ (<span style=\"color: #00d7ff; text-decoration-color: #00d7ff\">None</span>, <span style=\"color: #00af00; text-decoration-color: #00af00\">12</span>, <span style=\"color: #00af00; text-decoration-color: #00af00\">12</span>, <span style=\"color: #00af00; text-decoration-color: #00af00\">192</span>)  │          <span style=\"color: #00af00; text-decoration-color: #00af00\">768</span> │ block_5_expand[<span style=\"color: #00af00; text-decoration-color: #00af00\">0</span>][<span style=\"color: #00af00; text-decoration-color: #00af00\">…</span> │    <span style=\"color: #00af00; text-decoration-color: #00af00; font-weight: bold\">Y</span>    │\n",
              "│ (<span style=\"color: #0087ff; text-decoration-color: #0087ff\">BatchNormalization</span>)   │                      │              │                     │         │\n",
              "├────────────────────────┼──────────────────────┼──────────────┼─────────────────────┼─────────┤\n",
              "│ block_5_expand_relu    │ (<span style=\"color: #00d7ff; text-decoration-color: #00d7ff\">None</span>, <span style=\"color: #00af00; text-decoration-color: #00af00\">12</span>, <span style=\"color: #00af00; text-decoration-color: #00af00\">12</span>, <span style=\"color: #00af00; text-decoration-color: #00af00\">192</span>)  │            <span style=\"color: #00af00; text-decoration-color: #00af00\">0</span> │ block_5_expand_BN[<span style=\"color: #00af00; text-decoration-color: #00af00\">…</span> │    <span style=\"font-weight: bold\">-</span>    │\n",
              "│ (<span style=\"color: #0087ff; text-decoration-color: #0087ff\">ReLU</span>)                 │                      │              │                     │         │\n",
              "├────────────────────────┼──────────────────────┼──────────────┼─────────────────────┼─────────┤\n",
              "│ block_5_depthwise      │ (<span style=\"color: #00d7ff; text-decoration-color: #00d7ff\">None</span>, <span style=\"color: #00af00; text-decoration-color: #00af00\">12</span>, <span style=\"color: #00af00; text-decoration-color: #00af00\">12</span>, <span style=\"color: #00af00; text-decoration-color: #00af00\">192</span>)  │        <span style=\"color: #00af00; text-decoration-color: #00af00\">1,728</span> │ block_5_expand_rel… │    <span style=\"color: #00af00; text-decoration-color: #00af00; font-weight: bold\">Y</span>    │\n",
              "│ (<span style=\"color: #0087ff; text-decoration-color: #0087ff\">DepthwiseConv2D</span>)      │                      │              │                     │         │\n",
              "├────────────────────────┼──────────────────────┼──────────────┼─────────────────────┼─────────┤\n",
              "│ block_5_depthwise_BN   │ (<span style=\"color: #00d7ff; text-decoration-color: #00d7ff\">None</span>, <span style=\"color: #00af00; text-decoration-color: #00af00\">12</span>, <span style=\"color: #00af00; text-decoration-color: #00af00\">12</span>, <span style=\"color: #00af00; text-decoration-color: #00af00\">192</span>)  │          <span style=\"color: #00af00; text-decoration-color: #00af00\">768</span> │ block_5_depthwise[<span style=\"color: #00af00; text-decoration-color: #00af00\">…</span> │    <span style=\"color: #00af00; text-decoration-color: #00af00; font-weight: bold\">Y</span>    │\n",
              "│ (<span style=\"color: #0087ff; text-decoration-color: #0087ff\">BatchNormalization</span>)   │                      │              │                     │         │\n",
              "├────────────────────────┼──────────────────────┼──────────────┼─────────────────────┼─────────┤\n",
              "│ block_5_depthwise_relu │ (<span style=\"color: #00d7ff; text-decoration-color: #00d7ff\">None</span>, <span style=\"color: #00af00; text-decoration-color: #00af00\">12</span>, <span style=\"color: #00af00; text-decoration-color: #00af00\">12</span>, <span style=\"color: #00af00; text-decoration-color: #00af00\">192</span>)  │            <span style=\"color: #00af00; text-decoration-color: #00af00\">0</span> │ block_5_depthwise_… │    <span style=\"font-weight: bold\">-</span>    │\n",
              "│ (<span style=\"color: #0087ff; text-decoration-color: #0087ff\">ReLU</span>)                 │                      │              │                     │         │\n",
              "├────────────────────────┼──────────────────────┼──────────────┼─────────────────────┼─────────┤\n",
              "│ block_5_project        │ (<span style=\"color: #00d7ff; text-decoration-color: #00d7ff\">None</span>, <span style=\"color: #00af00; text-decoration-color: #00af00\">12</span>, <span style=\"color: #00af00; text-decoration-color: #00af00\">12</span>, <span style=\"color: #00af00; text-decoration-color: #00af00\">32</span>)   │        <span style=\"color: #00af00; text-decoration-color: #00af00\">6,144</span> │ block_5_depthwise_… │    <span style=\"color: #00af00; text-decoration-color: #00af00; font-weight: bold\">Y</span>    │\n",
              "│ (<span style=\"color: #0087ff; text-decoration-color: #0087ff\">Conv2D</span>)               │                      │              │                     │         │\n",
              "├────────────────────────┼──────────────────────┼──────────────┼─────────────────────┼─────────┤\n",
              "│ block_5_project_BN     │ (<span style=\"color: #00d7ff; text-decoration-color: #00d7ff\">None</span>, <span style=\"color: #00af00; text-decoration-color: #00af00\">12</span>, <span style=\"color: #00af00; text-decoration-color: #00af00\">12</span>, <span style=\"color: #00af00; text-decoration-color: #00af00\">32</span>)   │          <span style=\"color: #00af00; text-decoration-color: #00af00\">128</span> │ block_5_project[<span style=\"color: #00af00; text-decoration-color: #00af00\">0</span>]… │    <span style=\"color: #00af00; text-decoration-color: #00af00; font-weight: bold\">Y</span>    │\n",
              "│ (<span style=\"color: #0087ff; text-decoration-color: #0087ff\">BatchNormalization</span>)   │                      │              │                     │         │\n",
              "├────────────────────────┼──────────────────────┼──────────────┼─────────────────────┼─────────┤\n",
              "│ block_5_add (<span style=\"color: #0087ff; text-decoration-color: #0087ff\">Add</span>)      │ (<span style=\"color: #00d7ff; text-decoration-color: #00d7ff\">None</span>, <span style=\"color: #00af00; text-decoration-color: #00af00\">12</span>, <span style=\"color: #00af00; text-decoration-color: #00af00\">12</span>, <span style=\"color: #00af00; text-decoration-color: #00af00\">32</span>)   │            <span style=\"color: #00af00; text-decoration-color: #00af00\">0</span> │ block_4_add[<span style=\"color: #00af00; text-decoration-color: #00af00\">0</span>][<span style=\"color: #00af00; text-decoration-color: #00af00\">0</span>],  │    <span style=\"font-weight: bold\">-</span>    │\n",
              "│                        │                      │              │ block_5_project_BN… │         │\n",
              "├────────────────────────┼──────────────────────┼──────────────┼─────────────────────┼─────────┤\n",
              "│ block_6_expand         │ (<span style=\"color: #00d7ff; text-decoration-color: #00d7ff\">None</span>, <span style=\"color: #00af00; text-decoration-color: #00af00\">12</span>, <span style=\"color: #00af00; text-decoration-color: #00af00\">12</span>, <span style=\"color: #00af00; text-decoration-color: #00af00\">192</span>)  │        <span style=\"color: #00af00; text-decoration-color: #00af00\">6,144</span> │ block_5_add[<span style=\"color: #00af00; text-decoration-color: #00af00\">0</span>][<span style=\"color: #00af00; text-decoration-color: #00af00\">0</span>]   │    <span style=\"color: #00af00; text-decoration-color: #00af00; font-weight: bold\">Y</span>    │\n",
              "│ (<span style=\"color: #0087ff; text-decoration-color: #0087ff\">Conv2D</span>)               │                      │              │                     │         │\n",
              "├────────────────────────┼──────────────────────┼──────────────┼─────────────────────┼─────────┤\n",
              "│ block_6_expand_BN      │ (<span style=\"color: #00d7ff; text-decoration-color: #00d7ff\">None</span>, <span style=\"color: #00af00; text-decoration-color: #00af00\">12</span>, <span style=\"color: #00af00; text-decoration-color: #00af00\">12</span>, <span style=\"color: #00af00; text-decoration-color: #00af00\">192</span>)  │          <span style=\"color: #00af00; text-decoration-color: #00af00\">768</span> │ block_6_expand[<span style=\"color: #00af00; text-decoration-color: #00af00\">0</span>][<span style=\"color: #00af00; text-decoration-color: #00af00\">…</span> │    <span style=\"color: #00af00; text-decoration-color: #00af00; font-weight: bold\">Y</span>    │\n",
              "│ (<span style=\"color: #0087ff; text-decoration-color: #0087ff\">BatchNormalization</span>)   │                      │              │                     │         │\n",
              "├────────────────────────┼──────────────────────┼──────────────┼─────────────────────┼─────────┤\n",
              "│ block_6_expand_relu    │ (<span style=\"color: #00d7ff; text-decoration-color: #00d7ff\">None</span>, <span style=\"color: #00af00; text-decoration-color: #00af00\">12</span>, <span style=\"color: #00af00; text-decoration-color: #00af00\">12</span>, <span style=\"color: #00af00; text-decoration-color: #00af00\">192</span>)  │            <span style=\"color: #00af00; text-decoration-color: #00af00\">0</span> │ block_6_expand_BN[<span style=\"color: #00af00; text-decoration-color: #00af00\">…</span> │    <span style=\"font-weight: bold\">-</span>    │\n",
              "│ (<span style=\"color: #0087ff; text-decoration-color: #0087ff\">ReLU</span>)                 │                      │              │                     │         │\n",
              "├────────────────────────┼──────────────────────┼──────────────┼─────────────────────┼─────────┤\n",
              "│ block_6_pad            │ (<span style=\"color: #00d7ff; text-decoration-color: #00d7ff\">None</span>, <span style=\"color: #00af00; text-decoration-color: #00af00\">13</span>, <span style=\"color: #00af00; text-decoration-color: #00af00\">13</span>, <span style=\"color: #00af00; text-decoration-color: #00af00\">192</span>)  │            <span style=\"color: #00af00; text-decoration-color: #00af00\">0</span> │ block_6_expand_rel… │    <span style=\"font-weight: bold\">-</span>    │\n",
              "│ (<span style=\"color: #0087ff; text-decoration-color: #0087ff\">ZeroPadding2D</span>)        │                      │              │                     │         │\n",
              "├────────────────────────┼──────────────────────┼──────────────┼─────────────────────┼─────────┤\n",
              "│ block_6_depthwise      │ (<span style=\"color: #00d7ff; text-decoration-color: #00d7ff\">None</span>, <span style=\"color: #00af00; text-decoration-color: #00af00\">6</span>, <span style=\"color: #00af00; text-decoration-color: #00af00\">6</span>, <span style=\"color: #00af00; text-decoration-color: #00af00\">192</span>)    │        <span style=\"color: #00af00; text-decoration-color: #00af00\">1,728</span> │ block_6_pad[<span style=\"color: #00af00; text-decoration-color: #00af00\">0</span>][<span style=\"color: #00af00; text-decoration-color: #00af00\">0</span>]   │    <span style=\"color: #00af00; text-decoration-color: #00af00; font-weight: bold\">Y</span>    │\n",
              "│ (<span style=\"color: #0087ff; text-decoration-color: #0087ff\">DepthwiseConv2D</span>)      │                      │              │                     │         │\n",
              "├────────────────────────┼──────────────────────┼──────────────┼─────────────────────┼─────────┤\n",
              "│ block_6_depthwise_BN   │ (<span style=\"color: #00d7ff; text-decoration-color: #00d7ff\">None</span>, <span style=\"color: #00af00; text-decoration-color: #00af00\">6</span>, <span style=\"color: #00af00; text-decoration-color: #00af00\">6</span>, <span style=\"color: #00af00; text-decoration-color: #00af00\">192</span>)    │          <span style=\"color: #00af00; text-decoration-color: #00af00\">768</span> │ block_6_depthwise[<span style=\"color: #00af00; text-decoration-color: #00af00\">…</span> │    <span style=\"color: #00af00; text-decoration-color: #00af00; font-weight: bold\">Y</span>    │\n",
              "│ (<span style=\"color: #0087ff; text-decoration-color: #0087ff\">BatchNormalization</span>)   │                      │              │                     │         │\n",
              "├────────────────────────┼──────────────────────┼──────────────┼─────────────────────┼─────────┤\n",
              "│ block_6_depthwise_relu │ (<span style=\"color: #00d7ff; text-decoration-color: #00d7ff\">None</span>, <span style=\"color: #00af00; text-decoration-color: #00af00\">6</span>, <span style=\"color: #00af00; text-decoration-color: #00af00\">6</span>, <span style=\"color: #00af00; text-decoration-color: #00af00\">192</span>)    │            <span style=\"color: #00af00; text-decoration-color: #00af00\">0</span> │ block_6_depthwise_… │    <span style=\"font-weight: bold\">-</span>    │\n",
              "│ (<span style=\"color: #0087ff; text-decoration-color: #0087ff\">ReLU</span>)                 │                      │              │                     │         │\n",
              "├────────────────────────┼──────────────────────┼──────────────┼─────────────────────┼─────────┤\n",
              "│ block_6_project        │ (<span style=\"color: #00d7ff; text-decoration-color: #00d7ff\">None</span>, <span style=\"color: #00af00; text-decoration-color: #00af00\">6</span>, <span style=\"color: #00af00; text-decoration-color: #00af00\">6</span>, <span style=\"color: #00af00; text-decoration-color: #00af00\">64</span>)     │       <span style=\"color: #00af00; text-decoration-color: #00af00\">12,288</span> │ block_6_depthwise_… │    <span style=\"color: #00af00; text-decoration-color: #00af00; font-weight: bold\">Y</span>    │\n",
              "│ (<span style=\"color: #0087ff; text-decoration-color: #0087ff\">Conv2D</span>)               │                      │              │                     │         │\n",
              "├────────────────────────┼──────────────────────┼──────────────┼─────────────────────┼─────────┤\n",
              "│ block_6_project_BN     │ (<span style=\"color: #00d7ff; text-decoration-color: #00d7ff\">None</span>, <span style=\"color: #00af00; text-decoration-color: #00af00\">6</span>, <span style=\"color: #00af00; text-decoration-color: #00af00\">6</span>, <span style=\"color: #00af00; text-decoration-color: #00af00\">64</span>)     │          <span style=\"color: #00af00; text-decoration-color: #00af00\">256</span> │ block_6_project[<span style=\"color: #00af00; text-decoration-color: #00af00\">0</span>]… │    <span style=\"color: #00af00; text-decoration-color: #00af00; font-weight: bold\">Y</span>    │\n",
              "│ (<span style=\"color: #0087ff; text-decoration-color: #0087ff\">BatchNormalization</span>)   │                      │              │                     │         │\n",
              "├────────────────────────┼──────────────────────┼──────────────┼─────────────────────┼─────────┤\n",
              "│ block_7_expand         │ (<span style=\"color: #00d7ff; text-decoration-color: #00d7ff\">None</span>, <span style=\"color: #00af00; text-decoration-color: #00af00\">6</span>, <span style=\"color: #00af00; text-decoration-color: #00af00\">6</span>, <span style=\"color: #00af00; text-decoration-color: #00af00\">384</span>)    │       <span style=\"color: #00af00; text-decoration-color: #00af00\">24,576</span> │ block_6_project_BN… │    <span style=\"color: #00af00; text-decoration-color: #00af00; font-weight: bold\">Y</span>    │\n",
              "│ (<span style=\"color: #0087ff; text-decoration-color: #0087ff\">Conv2D</span>)               │                      │              │                     │         │\n",
              "├────────────────────────┼──────────────────────┼──────────────┼─────────────────────┼─────────┤\n",
              "│ block_7_expand_BN      │ (<span style=\"color: #00d7ff; text-decoration-color: #00d7ff\">None</span>, <span style=\"color: #00af00; text-decoration-color: #00af00\">6</span>, <span style=\"color: #00af00; text-decoration-color: #00af00\">6</span>, <span style=\"color: #00af00; text-decoration-color: #00af00\">384</span>)    │        <span style=\"color: #00af00; text-decoration-color: #00af00\">1,536</span> │ block_7_expand[<span style=\"color: #00af00; text-decoration-color: #00af00\">0</span>][<span style=\"color: #00af00; text-decoration-color: #00af00\">…</span> │    <span style=\"color: #00af00; text-decoration-color: #00af00; font-weight: bold\">Y</span>    │\n",
              "│ (<span style=\"color: #0087ff; text-decoration-color: #0087ff\">BatchNormalization</span>)   │                      │              │                     │         │\n",
              "├────────────────────────┼──────────────────────┼──────────────┼─────────────────────┼─────────┤\n",
              "│ block_7_expand_relu    │ (<span style=\"color: #00d7ff; text-decoration-color: #00d7ff\">None</span>, <span style=\"color: #00af00; text-decoration-color: #00af00\">6</span>, <span style=\"color: #00af00; text-decoration-color: #00af00\">6</span>, <span style=\"color: #00af00; text-decoration-color: #00af00\">384</span>)    │            <span style=\"color: #00af00; text-decoration-color: #00af00\">0</span> │ block_7_expand_BN[<span style=\"color: #00af00; text-decoration-color: #00af00\">…</span> │    <span style=\"font-weight: bold\">-</span>    │\n",
              "│ (<span style=\"color: #0087ff; text-decoration-color: #0087ff\">ReLU</span>)                 │                      │              │                     │         │\n",
              "├────────────────────────┼──────────────────────┼──────────────┼─────────────────────┼─────────┤\n",
              "│ block_7_depthwise      │ (<span style=\"color: #00d7ff; text-decoration-color: #00d7ff\">None</span>, <span style=\"color: #00af00; text-decoration-color: #00af00\">6</span>, <span style=\"color: #00af00; text-decoration-color: #00af00\">6</span>, <span style=\"color: #00af00; text-decoration-color: #00af00\">384</span>)    │        <span style=\"color: #00af00; text-decoration-color: #00af00\">3,456</span> │ block_7_expand_rel… │    <span style=\"color: #00af00; text-decoration-color: #00af00; font-weight: bold\">Y</span>    │\n",
              "│ (<span style=\"color: #0087ff; text-decoration-color: #0087ff\">DepthwiseConv2D</span>)      │                      │              │                     │         │\n",
              "├────────────────────────┼──────────────────────┼──────────────┼─────────────────────┼─────────┤\n",
              "│ block_7_depthwise_BN   │ (<span style=\"color: #00d7ff; text-decoration-color: #00d7ff\">None</span>, <span style=\"color: #00af00; text-decoration-color: #00af00\">6</span>, <span style=\"color: #00af00; text-decoration-color: #00af00\">6</span>, <span style=\"color: #00af00; text-decoration-color: #00af00\">384</span>)    │        <span style=\"color: #00af00; text-decoration-color: #00af00\">1,536</span> │ block_7_depthwise[<span style=\"color: #00af00; text-decoration-color: #00af00\">…</span> │    <span style=\"color: #00af00; text-decoration-color: #00af00; font-weight: bold\">Y</span>    │\n",
              "│ (<span style=\"color: #0087ff; text-decoration-color: #0087ff\">BatchNormalization</span>)   │                      │              │                     │         │\n",
              "├────────────────────────┼──────────────────────┼──────────────┼─────────────────────┼─────────┤\n",
              "│ block_7_depthwise_relu │ (<span style=\"color: #00d7ff; text-decoration-color: #00d7ff\">None</span>, <span style=\"color: #00af00; text-decoration-color: #00af00\">6</span>, <span style=\"color: #00af00; text-decoration-color: #00af00\">6</span>, <span style=\"color: #00af00; text-decoration-color: #00af00\">384</span>)    │            <span style=\"color: #00af00; text-decoration-color: #00af00\">0</span> │ block_7_depthwise_… │    <span style=\"font-weight: bold\">-</span>    │\n",
              "│ (<span style=\"color: #0087ff; text-decoration-color: #0087ff\">ReLU</span>)                 │                      │              │                     │         │\n",
              "├────────────────────────┼──────────────────────┼──────────────┼─────────────────────┼─────────┤\n",
              "│ block_7_project        │ (<span style=\"color: #00d7ff; text-decoration-color: #00d7ff\">None</span>, <span style=\"color: #00af00; text-decoration-color: #00af00\">6</span>, <span style=\"color: #00af00; text-decoration-color: #00af00\">6</span>, <span style=\"color: #00af00; text-decoration-color: #00af00\">64</span>)     │       <span style=\"color: #00af00; text-decoration-color: #00af00\">24,576</span> │ block_7_depthwise_… │    <span style=\"color: #00af00; text-decoration-color: #00af00; font-weight: bold\">Y</span>    │\n",
              "│ (<span style=\"color: #0087ff; text-decoration-color: #0087ff\">Conv2D</span>)               │                      │              │                     │         │\n",
              "├────────────────────────┼──────────────────────┼──────────────┼─────────────────────┼─────────┤\n",
              "│ block_7_project_BN     │ (<span style=\"color: #00d7ff; text-decoration-color: #00d7ff\">None</span>, <span style=\"color: #00af00; text-decoration-color: #00af00\">6</span>, <span style=\"color: #00af00; text-decoration-color: #00af00\">6</span>, <span style=\"color: #00af00; text-decoration-color: #00af00\">64</span>)     │          <span style=\"color: #00af00; text-decoration-color: #00af00\">256</span> │ block_7_project[<span style=\"color: #00af00; text-decoration-color: #00af00\">0</span>]… │    <span style=\"color: #00af00; text-decoration-color: #00af00; font-weight: bold\">Y</span>    │\n",
              "│ (<span style=\"color: #0087ff; text-decoration-color: #0087ff\">BatchNormalization</span>)   │                      │              │                     │         │\n",
              "├────────────────────────┼──────────────────────┼──────────────┼─────────────────────┼─────────┤\n",
              "│ block_7_add (<span style=\"color: #0087ff; text-decoration-color: #0087ff\">Add</span>)      │ (<span style=\"color: #00d7ff; text-decoration-color: #00d7ff\">None</span>, <span style=\"color: #00af00; text-decoration-color: #00af00\">6</span>, <span style=\"color: #00af00; text-decoration-color: #00af00\">6</span>, <span style=\"color: #00af00; text-decoration-color: #00af00\">64</span>)     │            <span style=\"color: #00af00; text-decoration-color: #00af00\">0</span> │ block_6_project_BN… │    <span style=\"font-weight: bold\">-</span>    │\n",
              "│                        │                      │              │ block_7_project_BN… │         │\n",
              "├────────────────────────┼──────────────────────┼──────────────┼─────────────────────┼─────────┤\n",
              "│ block_8_expand         │ (<span style=\"color: #00d7ff; text-decoration-color: #00d7ff\">None</span>, <span style=\"color: #00af00; text-decoration-color: #00af00\">6</span>, <span style=\"color: #00af00; text-decoration-color: #00af00\">6</span>, <span style=\"color: #00af00; text-decoration-color: #00af00\">384</span>)    │       <span style=\"color: #00af00; text-decoration-color: #00af00\">24,576</span> │ block_7_add[<span style=\"color: #00af00; text-decoration-color: #00af00\">0</span>][<span style=\"color: #00af00; text-decoration-color: #00af00\">0</span>]   │    <span style=\"color: #00af00; text-decoration-color: #00af00; font-weight: bold\">Y</span>    │\n",
              "│ (<span style=\"color: #0087ff; text-decoration-color: #0087ff\">Conv2D</span>)               │                      │              │                     │         │\n",
              "├────────────────────────┼──────────────────────┼──────────────┼─────────────────────┼─────────┤\n",
              "│ block_8_expand_BN      │ (<span style=\"color: #00d7ff; text-decoration-color: #00d7ff\">None</span>, <span style=\"color: #00af00; text-decoration-color: #00af00\">6</span>, <span style=\"color: #00af00; text-decoration-color: #00af00\">6</span>, <span style=\"color: #00af00; text-decoration-color: #00af00\">384</span>)    │        <span style=\"color: #00af00; text-decoration-color: #00af00\">1,536</span> │ block_8_expand[<span style=\"color: #00af00; text-decoration-color: #00af00\">0</span>][<span style=\"color: #00af00; text-decoration-color: #00af00\">…</span> │    <span style=\"color: #00af00; text-decoration-color: #00af00; font-weight: bold\">Y</span>    │\n",
              "│ (<span style=\"color: #0087ff; text-decoration-color: #0087ff\">BatchNormalization</span>)   │                      │              │                     │         │\n",
              "├────────────────────────┼──────────────────────┼──────────────┼─────────────────────┼─────────┤\n",
              "│ block_8_expand_relu    │ (<span style=\"color: #00d7ff; text-decoration-color: #00d7ff\">None</span>, <span style=\"color: #00af00; text-decoration-color: #00af00\">6</span>, <span style=\"color: #00af00; text-decoration-color: #00af00\">6</span>, <span style=\"color: #00af00; text-decoration-color: #00af00\">384</span>)    │            <span style=\"color: #00af00; text-decoration-color: #00af00\">0</span> │ block_8_expand_BN[<span style=\"color: #00af00; text-decoration-color: #00af00\">…</span> │    <span style=\"font-weight: bold\">-</span>    │\n",
              "│ (<span style=\"color: #0087ff; text-decoration-color: #0087ff\">ReLU</span>)                 │                      │              │                     │         │\n",
              "├────────────────────────┼──────────────────────┼──────────────┼─────────────────────┼─────────┤\n",
              "│ block_8_depthwise      │ (<span style=\"color: #00d7ff; text-decoration-color: #00d7ff\">None</span>, <span style=\"color: #00af00; text-decoration-color: #00af00\">6</span>, <span style=\"color: #00af00; text-decoration-color: #00af00\">6</span>, <span style=\"color: #00af00; text-decoration-color: #00af00\">384</span>)    │        <span style=\"color: #00af00; text-decoration-color: #00af00\">3,456</span> │ block_8_expand_rel… │    <span style=\"color: #00af00; text-decoration-color: #00af00; font-weight: bold\">Y</span>    │\n",
              "│ (<span style=\"color: #0087ff; text-decoration-color: #0087ff\">DepthwiseConv2D</span>)      │                      │              │                     │         │\n",
              "├────────────────────────┼──────────────────────┼──────────────┼─────────────────────┼─────────┤\n",
              "│ block_8_depthwise_BN   │ (<span style=\"color: #00d7ff; text-decoration-color: #00d7ff\">None</span>, <span style=\"color: #00af00; text-decoration-color: #00af00\">6</span>, <span style=\"color: #00af00; text-decoration-color: #00af00\">6</span>, <span style=\"color: #00af00; text-decoration-color: #00af00\">384</span>)    │        <span style=\"color: #00af00; text-decoration-color: #00af00\">1,536</span> │ block_8_depthwise[<span style=\"color: #00af00; text-decoration-color: #00af00\">…</span> │    <span style=\"color: #00af00; text-decoration-color: #00af00; font-weight: bold\">Y</span>    │\n",
              "│ (<span style=\"color: #0087ff; text-decoration-color: #0087ff\">BatchNormalization</span>)   │                      │              │                     │         │\n",
              "├────────────────────────┼──────────────────────┼──────────────┼─────────────────────┼─────────┤\n",
              "│ block_8_depthwise_relu │ (<span style=\"color: #00d7ff; text-decoration-color: #00d7ff\">None</span>, <span style=\"color: #00af00; text-decoration-color: #00af00\">6</span>, <span style=\"color: #00af00; text-decoration-color: #00af00\">6</span>, <span style=\"color: #00af00; text-decoration-color: #00af00\">384</span>)    │            <span style=\"color: #00af00; text-decoration-color: #00af00\">0</span> │ block_8_depthwise_… │    <span style=\"font-weight: bold\">-</span>    │\n",
              "│ (<span style=\"color: #0087ff; text-decoration-color: #0087ff\">ReLU</span>)                 │                      │              │                     │         │\n",
              "├────────────────────────┼──────────────────────┼──────────────┼─────────────────────┼─────────┤\n",
              "│ block_8_project        │ (<span style=\"color: #00d7ff; text-decoration-color: #00d7ff\">None</span>, <span style=\"color: #00af00; text-decoration-color: #00af00\">6</span>, <span style=\"color: #00af00; text-decoration-color: #00af00\">6</span>, <span style=\"color: #00af00; text-decoration-color: #00af00\">64</span>)     │       <span style=\"color: #00af00; text-decoration-color: #00af00\">24,576</span> │ block_8_depthwise_… │    <span style=\"color: #00af00; text-decoration-color: #00af00; font-weight: bold\">Y</span>    │\n",
              "│ (<span style=\"color: #0087ff; text-decoration-color: #0087ff\">Conv2D</span>)               │                      │              │                     │         │\n",
              "├────────────────────────┼──────────────────────┼──────────────┼─────────────────────┼─────────┤\n",
              "│ block_8_project_BN     │ (<span style=\"color: #00d7ff; text-decoration-color: #00d7ff\">None</span>, <span style=\"color: #00af00; text-decoration-color: #00af00\">6</span>, <span style=\"color: #00af00; text-decoration-color: #00af00\">6</span>, <span style=\"color: #00af00; text-decoration-color: #00af00\">64</span>)     │          <span style=\"color: #00af00; text-decoration-color: #00af00\">256</span> │ block_8_project[<span style=\"color: #00af00; text-decoration-color: #00af00\">0</span>]… │    <span style=\"color: #00af00; text-decoration-color: #00af00; font-weight: bold\">Y</span>    │\n",
              "│ (<span style=\"color: #0087ff; text-decoration-color: #0087ff\">BatchNormalization</span>)   │                      │              │                     │         │\n",
              "├────────────────────────┼──────────────────────┼──────────────┼─────────────────────┼─────────┤\n",
              "│ block_8_add (<span style=\"color: #0087ff; text-decoration-color: #0087ff\">Add</span>)      │ (<span style=\"color: #00d7ff; text-decoration-color: #00d7ff\">None</span>, <span style=\"color: #00af00; text-decoration-color: #00af00\">6</span>, <span style=\"color: #00af00; text-decoration-color: #00af00\">6</span>, <span style=\"color: #00af00; text-decoration-color: #00af00\">64</span>)     │            <span style=\"color: #00af00; text-decoration-color: #00af00\">0</span> │ block_7_add[<span style=\"color: #00af00; text-decoration-color: #00af00\">0</span>][<span style=\"color: #00af00; text-decoration-color: #00af00\">0</span>],  │    <span style=\"font-weight: bold\">-</span>    │\n",
              "│                        │                      │              │ block_8_project_BN… │         │\n",
              "├────────────────────────┼──────────────────────┼──────────────┼─────────────────────┼─────────┤\n",
              "│ block_9_expand         │ (<span style=\"color: #00d7ff; text-decoration-color: #00d7ff\">None</span>, <span style=\"color: #00af00; text-decoration-color: #00af00\">6</span>, <span style=\"color: #00af00; text-decoration-color: #00af00\">6</span>, <span style=\"color: #00af00; text-decoration-color: #00af00\">384</span>)    │       <span style=\"color: #00af00; text-decoration-color: #00af00\">24,576</span> │ block_8_add[<span style=\"color: #00af00; text-decoration-color: #00af00\">0</span>][<span style=\"color: #00af00; text-decoration-color: #00af00\">0</span>]   │    <span style=\"color: #00af00; text-decoration-color: #00af00; font-weight: bold\">Y</span>    │\n",
              "│ (<span style=\"color: #0087ff; text-decoration-color: #0087ff\">Conv2D</span>)               │                      │              │                     │         │\n",
              "├────────────────────────┼──────────────────────┼──────────────┼─────────────────────┼─────────┤\n",
              "│ block_9_expand_BN      │ (<span style=\"color: #00d7ff; text-decoration-color: #00d7ff\">None</span>, <span style=\"color: #00af00; text-decoration-color: #00af00\">6</span>, <span style=\"color: #00af00; text-decoration-color: #00af00\">6</span>, <span style=\"color: #00af00; text-decoration-color: #00af00\">384</span>)    │        <span style=\"color: #00af00; text-decoration-color: #00af00\">1,536</span> │ block_9_expand[<span style=\"color: #00af00; text-decoration-color: #00af00\">0</span>][<span style=\"color: #00af00; text-decoration-color: #00af00\">…</span> │    <span style=\"color: #00af00; text-decoration-color: #00af00; font-weight: bold\">Y</span>    │\n",
              "│ (<span style=\"color: #0087ff; text-decoration-color: #0087ff\">BatchNormalization</span>)   │                      │              │                     │         │\n",
              "├────────────────────────┼──────────────────────┼──────────────┼─────────────────────┼─────────┤\n",
              "│ block_9_expand_relu    │ (<span style=\"color: #00d7ff; text-decoration-color: #00d7ff\">None</span>, <span style=\"color: #00af00; text-decoration-color: #00af00\">6</span>, <span style=\"color: #00af00; text-decoration-color: #00af00\">6</span>, <span style=\"color: #00af00; text-decoration-color: #00af00\">384</span>)    │            <span style=\"color: #00af00; text-decoration-color: #00af00\">0</span> │ block_9_expand_BN[<span style=\"color: #00af00; text-decoration-color: #00af00\">…</span> │    <span style=\"font-weight: bold\">-</span>    │\n",
              "│ (<span style=\"color: #0087ff; text-decoration-color: #0087ff\">ReLU</span>)                 │                      │              │                     │         │\n",
              "├────────────────────────┼──────────────────────┼──────────────┼─────────────────────┼─────────┤\n",
              "│ block_9_depthwise      │ (<span style=\"color: #00d7ff; text-decoration-color: #00d7ff\">None</span>, <span style=\"color: #00af00; text-decoration-color: #00af00\">6</span>, <span style=\"color: #00af00; text-decoration-color: #00af00\">6</span>, <span style=\"color: #00af00; text-decoration-color: #00af00\">384</span>)    │        <span style=\"color: #00af00; text-decoration-color: #00af00\">3,456</span> │ block_9_expand_rel… │    <span style=\"color: #00af00; text-decoration-color: #00af00; font-weight: bold\">Y</span>    │\n",
              "│ (<span style=\"color: #0087ff; text-decoration-color: #0087ff\">DepthwiseConv2D</span>)      │                      │              │                     │         │\n",
              "├────────────────────────┼──────────────────────┼──────────────┼─────────────────────┼─────────┤\n",
              "│ block_9_depthwise_BN   │ (<span style=\"color: #00d7ff; text-decoration-color: #00d7ff\">None</span>, <span style=\"color: #00af00; text-decoration-color: #00af00\">6</span>, <span style=\"color: #00af00; text-decoration-color: #00af00\">6</span>, <span style=\"color: #00af00; text-decoration-color: #00af00\">384</span>)    │        <span style=\"color: #00af00; text-decoration-color: #00af00\">1,536</span> │ block_9_depthwise[<span style=\"color: #00af00; text-decoration-color: #00af00\">…</span> │    <span style=\"color: #00af00; text-decoration-color: #00af00; font-weight: bold\">Y</span>    │\n",
              "│ (<span style=\"color: #0087ff; text-decoration-color: #0087ff\">BatchNormalization</span>)   │                      │              │                     │         │\n",
              "├────────────────────────┼──────────────────────┼──────────────┼─────────────────────┼─────────┤\n",
              "│ block_9_depthwise_relu │ (<span style=\"color: #00d7ff; text-decoration-color: #00d7ff\">None</span>, <span style=\"color: #00af00; text-decoration-color: #00af00\">6</span>, <span style=\"color: #00af00; text-decoration-color: #00af00\">6</span>, <span style=\"color: #00af00; text-decoration-color: #00af00\">384</span>)    │            <span style=\"color: #00af00; text-decoration-color: #00af00\">0</span> │ block_9_depthwise_… │    <span style=\"font-weight: bold\">-</span>    │\n",
              "│ (<span style=\"color: #0087ff; text-decoration-color: #0087ff\">ReLU</span>)                 │                      │              │                     │         │\n",
              "├────────────────────────┼──────────────────────┼──────────────┼─────────────────────┼─────────┤\n",
              "│ block_9_project        │ (<span style=\"color: #00d7ff; text-decoration-color: #00d7ff\">None</span>, <span style=\"color: #00af00; text-decoration-color: #00af00\">6</span>, <span style=\"color: #00af00; text-decoration-color: #00af00\">6</span>, <span style=\"color: #00af00; text-decoration-color: #00af00\">64</span>)     │       <span style=\"color: #00af00; text-decoration-color: #00af00\">24,576</span> │ block_9_depthwise_… │    <span style=\"color: #00af00; text-decoration-color: #00af00; font-weight: bold\">Y</span>    │\n",
              "│ (<span style=\"color: #0087ff; text-decoration-color: #0087ff\">Conv2D</span>)               │                      │              │                     │         │\n",
              "├────────────────────────┼──────────────────────┼──────────────┼─────────────────────┼─────────┤\n",
              "│ block_9_project_BN     │ (<span style=\"color: #00d7ff; text-decoration-color: #00d7ff\">None</span>, <span style=\"color: #00af00; text-decoration-color: #00af00\">6</span>, <span style=\"color: #00af00; text-decoration-color: #00af00\">6</span>, <span style=\"color: #00af00; text-decoration-color: #00af00\">64</span>)     │          <span style=\"color: #00af00; text-decoration-color: #00af00\">256</span> │ block_9_project[<span style=\"color: #00af00; text-decoration-color: #00af00\">0</span>]… │    <span style=\"color: #00af00; text-decoration-color: #00af00; font-weight: bold\">Y</span>    │\n",
              "│ (<span style=\"color: #0087ff; text-decoration-color: #0087ff\">BatchNormalization</span>)   │                      │              │                     │         │\n",
              "├────────────────────────┼──────────────────────┼──────────────┼─────────────────────┼─────────┤\n",
              "│ block_9_add (<span style=\"color: #0087ff; text-decoration-color: #0087ff\">Add</span>)      │ (<span style=\"color: #00d7ff; text-decoration-color: #00d7ff\">None</span>, <span style=\"color: #00af00; text-decoration-color: #00af00\">6</span>, <span style=\"color: #00af00; text-decoration-color: #00af00\">6</span>, <span style=\"color: #00af00; text-decoration-color: #00af00\">64</span>)     │            <span style=\"color: #00af00; text-decoration-color: #00af00\">0</span> │ block_8_add[<span style=\"color: #00af00; text-decoration-color: #00af00\">0</span>][<span style=\"color: #00af00; text-decoration-color: #00af00\">0</span>],  │    <span style=\"font-weight: bold\">-</span>    │\n",
              "│                        │                      │              │ block_9_project_BN… │         │\n",
              "├────────────────────────┼──────────────────────┼──────────────┼─────────────────────┼─────────┤\n",
              "│ block_10_expand        │ (<span style=\"color: #00d7ff; text-decoration-color: #00d7ff\">None</span>, <span style=\"color: #00af00; text-decoration-color: #00af00\">6</span>, <span style=\"color: #00af00; text-decoration-color: #00af00\">6</span>, <span style=\"color: #00af00; text-decoration-color: #00af00\">384</span>)    │       <span style=\"color: #00af00; text-decoration-color: #00af00\">24,576</span> │ block_9_add[<span style=\"color: #00af00; text-decoration-color: #00af00\">0</span>][<span style=\"color: #00af00; text-decoration-color: #00af00\">0</span>]   │    <span style=\"color: #00af00; text-decoration-color: #00af00; font-weight: bold\">Y</span>    │\n",
              "│ (<span style=\"color: #0087ff; text-decoration-color: #0087ff\">Conv2D</span>)               │                      │              │                     │         │\n",
              "├────────────────────────┼──────────────────────┼──────────────┼─────────────────────┼─────────┤\n",
              "│ block_10_expand_BN     │ (<span style=\"color: #00d7ff; text-decoration-color: #00d7ff\">None</span>, <span style=\"color: #00af00; text-decoration-color: #00af00\">6</span>, <span style=\"color: #00af00; text-decoration-color: #00af00\">6</span>, <span style=\"color: #00af00; text-decoration-color: #00af00\">384</span>)    │        <span style=\"color: #00af00; text-decoration-color: #00af00\">1,536</span> │ block_10_expand[<span style=\"color: #00af00; text-decoration-color: #00af00\">0</span>]… │    <span style=\"color: #00af00; text-decoration-color: #00af00; font-weight: bold\">Y</span>    │\n",
              "│ (<span style=\"color: #0087ff; text-decoration-color: #0087ff\">BatchNormalization</span>)   │                      │              │                     │         │\n",
              "├────────────────────────┼──────────────────────┼──────────────┼─────────────────────┼─────────┤\n",
              "│ block_10_expand_relu   │ (<span style=\"color: #00d7ff; text-decoration-color: #00d7ff\">None</span>, <span style=\"color: #00af00; text-decoration-color: #00af00\">6</span>, <span style=\"color: #00af00; text-decoration-color: #00af00\">6</span>, <span style=\"color: #00af00; text-decoration-color: #00af00\">384</span>)    │            <span style=\"color: #00af00; text-decoration-color: #00af00\">0</span> │ block_10_expand_BN… │    <span style=\"font-weight: bold\">-</span>    │\n",
              "│ (<span style=\"color: #0087ff; text-decoration-color: #0087ff\">ReLU</span>)                 │                      │              │                     │         │\n",
              "├────────────────────────┼──────────────────────┼──────────────┼─────────────────────┼─────────┤\n",
              "│ block_10_depthwise     │ (<span style=\"color: #00d7ff; text-decoration-color: #00d7ff\">None</span>, <span style=\"color: #00af00; text-decoration-color: #00af00\">6</span>, <span style=\"color: #00af00; text-decoration-color: #00af00\">6</span>, <span style=\"color: #00af00; text-decoration-color: #00af00\">384</span>)    │        <span style=\"color: #00af00; text-decoration-color: #00af00\">3,456</span> │ block_10_expand_re… │    <span style=\"color: #00af00; text-decoration-color: #00af00; font-weight: bold\">Y</span>    │\n",
              "│ (<span style=\"color: #0087ff; text-decoration-color: #0087ff\">DepthwiseConv2D</span>)      │                      │              │                     │         │\n",
              "├────────────────────────┼──────────────────────┼──────────────┼─────────────────────┼─────────┤\n",
              "│ block_10_depthwise_BN  │ (<span style=\"color: #00d7ff; text-decoration-color: #00d7ff\">None</span>, <span style=\"color: #00af00; text-decoration-color: #00af00\">6</span>, <span style=\"color: #00af00; text-decoration-color: #00af00\">6</span>, <span style=\"color: #00af00; text-decoration-color: #00af00\">384</span>)    │        <span style=\"color: #00af00; text-decoration-color: #00af00\">1,536</span> │ block_10_depthwise… │    <span style=\"color: #00af00; text-decoration-color: #00af00; font-weight: bold\">Y</span>    │\n",
              "│ (<span style=\"color: #0087ff; text-decoration-color: #0087ff\">BatchNormalization</span>)   │                      │              │                     │         │\n",
              "├────────────────────────┼──────────────────────┼──────────────┼─────────────────────┼─────────┤\n",
              "│ block_10_depthwise_re… │ (<span style=\"color: #00d7ff; text-decoration-color: #00d7ff\">None</span>, <span style=\"color: #00af00; text-decoration-color: #00af00\">6</span>, <span style=\"color: #00af00; text-decoration-color: #00af00\">6</span>, <span style=\"color: #00af00; text-decoration-color: #00af00\">384</span>)    │            <span style=\"color: #00af00; text-decoration-color: #00af00\">0</span> │ block_10_depthwise… │    <span style=\"font-weight: bold\">-</span>    │\n",
              "│ (<span style=\"color: #0087ff; text-decoration-color: #0087ff\">ReLU</span>)                 │                      │              │                     │         │\n",
              "├────────────────────────┼──────────────────────┼──────────────┼─────────────────────┼─────────┤\n",
              "│ block_10_project       │ (<span style=\"color: #00d7ff; text-decoration-color: #00d7ff\">None</span>, <span style=\"color: #00af00; text-decoration-color: #00af00\">6</span>, <span style=\"color: #00af00; text-decoration-color: #00af00\">6</span>, <span style=\"color: #00af00; text-decoration-color: #00af00\">96</span>)     │       <span style=\"color: #00af00; text-decoration-color: #00af00\">36,864</span> │ block_10_depthwise… │    <span style=\"color: #00af00; text-decoration-color: #00af00; font-weight: bold\">Y</span>    │\n",
              "│ (<span style=\"color: #0087ff; text-decoration-color: #0087ff\">Conv2D</span>)               │                      │              │                     │         │\n",
              "├────────────────────────┼──────────────────────┼──────────────┼─────────────────────┼─────────┤\n",
              "│ block_10_project_BN    │ (<span style=\"color: #00d7ff; text-decoration-color: #00d7ff\">None</span>, <span style=\"color: #00af00; text-decoration-color: #00af00\">6</span>, <span style=\"color: #00af00; text-decoration-color: #00af00\">6</span>, <span style=\"color: #00af00; text-decoration-color: #00af00\">96</span>)     │          <span style=\"color: #00af00; text-decoration-color: #00af00\">384</span> │ block_10_project[<span style=\"color: #00af00; text-decoration-color: #00af00\">0</span>… │    <span style=\"color: #00af00; text-decoration-color: #00af00; font-weight: bold\">Y</span>    │\n",
              "│ (<span style=\"color: #0087ff; text-decoration-color: #0087ff\">BatchNormalization</span>)   │                      │              │                     │         │\n",
              "├────────────────────────┼──────────────────────┼──────────────┼─────────────────────┼─────────┤\n",
              "│ block_11_expand        │ (<span style=\"color: #00d7ff; text-decoration-color: #00d7ff\">None</span>, <span style=\"color: #00af00; text-decoration-color: #00af00\">6</span>, <span style=\"color: #00af00; text-decoration-color: #00af00\">6</span>, <span style=\"color: #00af00; text-decoration-color: #00af00\">576</span>)    │       <span style=\"color: #00af00; text-decoration-color: #00af00\">55,296</span> │ block_10_project_B… │    <span style=\"color: #00af00; text-decoration-color: #00af00; font-weight: bold\">Y</span>    │\n",
              "│ (<span style=\"color: #0087ff; text-decoration-color: #0087ff\">Conv2D</span>)               │                      │              │                     │         │\n",
              "├────────────────────────┼──────────────────────┼──────────────┼─────────────────────┼─────────┤\n",
              "│ block_11_expand_BN     │ (<span style=\"color: #00d7ff; text-decoration-color: #00d7ff\">None</span>, <span style=\"color: #00af00; text-decoration-color: #00af00\">6</span>, <span style=\"color: #00af00; text-decoration-color: #00af00\">6</span>, <span style=\"color: #00af00; text-decoration-color: #00af00\">576</span>)    │        <span style=\"color: #00af00; text-decoration-color: #00af00\">2,304</span> │ block_11_expand[<span style=\"color: #00af00; text-decoration-color: #00af00\">0</span>]… │    <span style=\"color: #00af00; text-decoration-color: #00af00; font-weight: bold\">Y</span>    │\n",
              "│ (<span style=\"color: #0087ff; text-decoration-color: #0087ff\">BatchNormalization</span>)   │                      │              │                     │         │\n",
              "├────────────────────────┼──────────────────────┼──────────────┼─────────────────────┼─────────┤\n",
              "│ block_11_expand_relu   │ (<span style=\"color: #00d7ff; text-decoration-color: #00d7ff\">None</span>, <span style=\"color: #00af00; text-decoration-color: #00af00\">6</span>, <span style=\"color: #00af00; text-decoration-color: #00af00\">6</span>, <span style=\"color: #00af00; text-decoration-color: #00af00\">576</span>)    │            <span style=\"color: #00af00; text-decoration-color: #00af00\">0</span> │ block_11_expand_BN… │    <span style=\"font-weight: bold\">-</span>    │\n",
              "│ (<span style=\"color: #0087ff; text-decoration-color: #0087ff\">ReLU</span>)                 │                      │              │                     │         │\n",
              "├────────────────────────┼──────────────────────┼──────────────┼─────────────────────┼─────────┤\n",
              "│ block_11_depthwise     │ (<span style=\"color: #00d7ff; text-decoration-color: #00d7ff\">None</span>, <span style=\"color: #00af00; text-decoration-color: #00af00\">6</span>, <span style=\"color: #00af00; text-decoration-color: #00af00\">6</span>, <span style=\"color: #00af00; text-decoration-color: #00af00\">576</span>)    │        <span style=\"color: #00af00; text-decoration-color: #00af00\">5,184</span> │ block_11_expand_re… │    <span style=\"color: #00af00; text-decoration-color: #00af00; font-weight: bold\">Y</span>    │\n",
              "│ (<span style=\"color: #0087ff; text-decoration-color: #0087ff\">DepthwiseConv2D</span>)      │                      │              │                     │         │\n",
              "├────────────────────────┼──────────────────────┼──────────────┼─────────────────────┼─────────┤\n",
              "│ block_11_depthwise_BN  │ (<span style=\"color: #00d7ff; text-decoration-color: #00d7ff\">None</span>, <span style=\"color: #00af00; text-decoration-color: #00af00\">6</span>, <span style=\"color: #00af00; text-decoration-color: #00af00\">6</span>, <span style=\"color: #00af00; text-decoration-color: #00af00\">576</span>)    │        <span style=\"color: #00af00; text-decoration-color: #00af00\">2,304</span> │ block_11_depthwise… │    <span style=\"color: #00af00; text-decoration-color: #00af00; font-weight: bold\">Y</span>    │\n",
              "│ (<span style=\"color: #0087ff; text-decoration-color: #0087ff\">BatchNormalization</span>)   │                      │              │                     │         │\n",
              "├────────────────────────┼──────────────────────┼──────────────┼─────────────────────┼─────────┤\n",
              "│ block_11_depthwise_re… │ (<span style=\"color: #00d7ff; text-decoration-color: #00d7ff\">None</span>, <span style=\"color: #00af00; text-decoration-color: #00af00\">6</span>, <span style=\"color: #00af00; text-decoration-color: #00af00\">6</span>, <span style=\"color: #00af00; text-decoration-color: #00af00\">576</span>)    │            <span style=\"color: #00af00; text-decoration-color: #00af00\">0</span> │ block_11_depthwise… │    <span style=\"font-weight: bold\">-</span>    │\n",
              "│ (<span style=\"color: #0087ff; text-decoration-color: #0087ff\">ReLU</span>)                 │                      │              │                     │         │\n",
              "├────────────────────────┼──────────────────────┼──────────────┼─────────────────────┼─────────┤\n",
              "│ block_11_project       │ (<span style=\"color: #00d7ff; text-decoration-color: #00d7ff\">None</span>, <span style=\"color: #00af00; text-decoration-color: #00af00\">6</span>, <span style=\"color: #00af00; text-decoration-color: #00af00\">6</span>, <span style=\"color: #00af00; text-decoration-color: #00af00\">96</span>)     │       <span style=\"color: #00af00; text-decoration-color: #00af00\">55,296</span> │ block_11_depthwise… │    <span style=\"color: #00af00; text-decoration-color: #00af00; font-weight: bold\">Y</span>    │\n",
              "│ (<span style=\"color: #0087ff; text-decoration-color: #0087ff\">Conv2D</span>)               │                      │              │                     │         │\n",
              "├────────────────────────┼──────────────────────┼──────────────┼─────────────────────┼─────────┤\n",
              "│ block_11_project_BN    │ (<span style=\"color: #00d7ff; text-decoration-color: #00d7ff\">None</span>, <span style=\"color: #00af00; text-decoration-color: #00af00\">6</span>, <span style=\"color: #00af00; text-decoration-color: #00af00\">6</span>, <span style=\"color: #00af00; text-decoration-color: #00af00\">96</span>)     │          <span style=\"color: #00af00; text-decoration-color: #00af00\">384</span> │ block_11_project[<span style=\"color: #00af00; text-decoration-color: #00af00\">0</span>… │    <span style=\"color: #00af00; text-decoration-color: #00af00; font-weight: bold\">Y</span>    │\n",
              "│ (<span style=\"color: #0087ff; text-decoration-color: #0087ff\">BatchNormalization</span>)   │                      │              │                     │         │\n",
              "├────────────────────────┼──────────────────────┼──────────────┼─────────────────────┼─────────┤\n",
              "│ block_11_add (<span style=\"color: #0087ff; text-decoration-color: #0087ff\">Add</span>)     │ (<span style=\"color: #00d7ff; text-decoration-color: #00d7ff\">None</span>, <span style=\"color: #00af00; text-decoration-color: #00af00\">6</span>, <span style=\"color: #00af00; text-decoration-color: #00af00\">6</span>, <span style=\"color: #00af00; text-decoration-color: #00af00\">96</span>)     │            <span style=\"color: #00af00; text-decoration-color: #00af00\">0</span> │ block_10_project_B… │    <span style=\"font-weight: bold\">-</span>    │\n",
              "│                        │                      │              │ block_11_project_B… │         │\n",
              "├────────────────────────┼──────────────────────┼──────────────┼─────────────────────┼─────────┤\n",
              "│ block_12_expand        │ (<span style=\"color: #00d7ff; text-decoration-color: #00d7ff\">None</span>, <span style=\"color: #00af00; text-decoration-color: #00af00\">6</span>, <span style=\"color: #00af00; text-decoration-color: #00af00\">6</span>, <span style=\"color: #00af00; text-decoration-color: #00af00\">576</span>)    │       <span style=\"color: #00af00; text-decoration-color: #00af00\">55,296</span> │ block_11_add[<span style=\"color: #00af00; text-decoration-color: #00af00\">0</span>][<span style=\"color: #00af00; text-decoration-color: #00af00\">0</span>]  │    <span style=\"color: #00af00; text-decoration-color: #00af00; font-weight: bold\">Y</span>    │\n",
              "│ (<span style=\"color: #0087ff; text-decoration-color: #0087ff\">Conv2D</span>)               │                      │              │                     │         │\n",
              "├────────────────────────┼──────────────────────┼──────────────┼─────────────────────┼─────────┤\n",
              "│ block_12_expand_BN     │ (<span style=\"color: #00d7ff; text-decoration-color: #00d7ff\">None</span>, <span style=\"color: #00af00; text-decoration-color: #00af00\">6</span>, <span style=\"color: #00af00; text-decoration-color: #00af00\">6</span>, <span style=\"color: #00af00; text-decoration-color: #00af00\">576</span>)    │        <span style=\"color: #00af00; text-decoration-color: #00af00\">2,304</span> │ block_12_expand[<span style=\"color: #00af00; text-decoration-color: #00af00\">0</span>]… │    <span style=\"color: #00af00; text-decoration-color: #00af00; font-weight: bold\">Y</span>    │\n",
              "│ (<span style=\"color: #0087ff; text-decoration-color: #0087ff\">BatchNormalization</span>)   │                      │              │                     │         │\n",
              "├────────────────────────┼──────────────────────┼──────────────┼─────────────────────┼─────────┤\n",
              "│ block_12_expand_relu   │ (<span style=\"color: #00d7ff; text-decoration-color: #00d7ff\">None</span>, <span style=\"color: #00af00; text-decoration-color: #00af00\">6</span>, <span style=\"color: #00af00; text-decoration-color: #00af00\">6</span>, <span style=\"color: #00af00; text-decoration-color: #00af00\">576</span>)    │            <span style=\"color: #00af00; text-decoration-color: #00af00\">0</span> │ block_12_expand_BN… │    <span style=\"font-weight: bold\">-</span>    │\n",
              "│ (<span style=\"color: #0087ff; text-decoration-color: #0087ff\">ReLU</span>)                 │                      │              │                     │         │\n",
              "├────────────────────────┼──────────────────────┼──────────────┼─────────────────────┼─────────┤\n",
              "│ block_12_depthwise     │ (<span style=\"color: #00d7ff; text-decoration-color: #00d7ff\">None</span>, <span style=\"color: #00af00; text-decoration-color: #00af00\">6</span>, <span style=\"color: #00af00; text-decoration-color: #00af00\">6</span>, <span style=\"color: #00af00; text-decoration-color: #00af00\">576</span>)    │        <span style=\"color: #00af00; text-decoration-color: #00af00\">5,184</span> │ block_12_expand_re… │    <span style=\"color: #00af00; text-decoration-color: #00af00; font-weight: bold\">Y</span>    │\n",
              "│ (<span style=\"color: #0087ff; text-decoration-color: #0087ff\">DepthwiseConv2D</span>)      │                      │              │                     │         │\n",
              "├────────────────────────┼──────────────────────┼──────────────┼─────────────────────┼─────────┤\n",
              "│ block_12_depthwise_BN  │ (<span style=\"color: #00d7ff; text-decoration-color: #00d7ff\">None</span>, <span style=\"color: #00af00; text-decoration-color: #00af00\">6</span>, <span style=\"color: #00af00; text-decoration-color: #00af00\">6</span>, <span style=\"color: #00af00; text-decoration-color: #00af00\">576</span>)    │        <span style=\"color: #00af00; text-decoration-color: #00af00\">2,304</span> │ block_12_depthwise… │    <span style=\"color: #00af00; text-decoration-color: #00af00; font-weight: bold\">Y</span>    │\n",
              "│ (<span style=\"color: #0087ff; text-decoration-color: #0087ff\">BatchNormalization</span>)   │                      │              │                     │         │\n",
              "├────────────────────────┼──────────────────────┼──────────────┼─────────────────────┼─────────┤\n",
              "│ block_12_depthwise_re… │ (<span style=\"color: #00d7ff; text-decoration-color: #00d7ff\">None</span>, <span style=\"color: #00af00; text-decoration-color: #00af00\">6</span>, <span style=\"color: #00af00; text-decoration-color: #00af00\">6</span>, <span style=\"color: #00af00; text-decoration-color: #00af00\">576</span>)    │            <span style=\"color: #00af00; text-decoration-color: #00af00\">0</span> │ block_12_depthwise… │    <span style=\"font-weight: bold\">-</span>    │\n",
              "│ (<span style=\"color: #0087ff; text-decoration-color: #0087ff\">ReLU</span>)                 │                      │              │                     │         │\n",
              "├────────────────────────┼──────────────────────┼──────────────┼─────────────────────┼─────────┤\n",
              "│ block_12_project       │ (<span style=\"color: #00d7ff; text-decoration-color: #00d7ff\">None</span>, <span style=\"color: #00af00; text-decoration-color: #00af00\">6</span>, <span style=\"color: #00af00; text-decoration-color: #00af00\">6</span>, <span style=\"color: #00af00; text-decoration-color: #00af00\">96</span>)     │       <span style=\"color: #00af00; text-decoration-color: #00af00\">55,296</span> │ block_12_depthwise… │    <span style=\"color: #00af00; text-decoration-color: #00af00; font-weight: bold\">Y</span>    │\n",
              "│ (<span style=\"color: #0087ff; text-decoration-color: #0087ff\">Conv2D</span>)               │                      │              │                     │         │\n",
              "├────────────────────────┼──────────────────────┼──────────────┼─────────────────────┼─────────┤\n",
              "│ block_12_project_BN    │ (<span style=\"color: #00d7ff; text-decoration-color: #00d7ff\">None</span>, <span style=\"color: #00af00; text-decoration-color: #00af00\">6</span>, <span style=\"color: #00af00; text-decoration-color: #00af00\">6</span>, <span style=\"color: #00af00; text-decoration-color: #00af00\">96</span>)     │          <span style=\"color: #00af00; text-decoration-color: #00af00\">384</span> │ block_12_project[<span style=\"color: #00af00; text-decoration-color: #00af00\">0</span>… │    <span style=\"color: #00af00; text-decoration-color: #00af00; font-weight: bold\">Y</span>    │\n",
              "│ (<span style=\"color: #0087ff; text-decoration-color: #0087ff\">BatchNormalization</span>)   │                      │              │                     │         │\n",
              "├────────────────────────┼──────────────────────┼──────────────┼─────────────────────┼─────────┤\n",
              "│ block_12_add (<span style=\"color: #0087ff; text-decoration-color: #0087ff\">Add</span>)     │ (<span style=\"color: #00d7ff; text-decoration-color: #00d7ff\">None</span>, <span style=\"color: #00af00; text-decoration-color: #00af00\">6</span>, <span style=\"color: #00af00; text-decoration-color: #00af00\">6</span>, <span style=\"color: #00af00; text-decoration-color: #00af00\">96</span>)     │            <span style=\"color: #00af00; text-decoration-color: #00af00\">0</span> │ block_11_add[<span style=\"color: #00af00; text-decoration-color: #00af00\">0</span>][<span style=\"color: #00af00; text-decoration-color: #00af00\">0</span>], │    <span style=\"font-weight: bold\">-</span>    │\n",
              "│                        │                      │              │ block_12_project_B… │         │\n",
              "├────────────────────────┼──────────────────────┼──────────────┼─────────────────────┼─────────┤\n",
              "│ block_13_expand        │ (<span style=\"color: #00d7ff; text-decoration-color: #00d7ff\">None</span>, <span style=\"color: #00af00; text-decoration-color: #00af00\">6</span>, <span style=\"color: #00af00; text-decoration-color: #00af00\">6</span>, <span style=\"color: #00af00; text-decoration-color: #00af00\">576</span>)    │       <span style=\"color: #00af00; text-decoration-color: #00af00\">55,296</span> │ block_12_add[<span style=\"color: #00af00; text-decoration-color: #00af00\">0</span>][<span style=\"color: #00af00; text-decoration-color: #00af00\">0</span>]  │    <span style=\"color: #00af00; text-decoration-color: #00af00; font-weight: bold\">Y</span>    │\n",
              "│ (<span style=\"color: #0087ff; text-decoration-color: #0087ff\">Conv2D</span>)               │                      │              │                     │         │\n",
              "├────────────────────────┼──────────────────────┼──────────────┼─────────────────────┼─────────┤\n",
              "│ block_13_expand_BN     │ (<span style=\"color: #00d7ff; text-decoration-color: #00d7ff\">None</span>, <span style=\"color: #00af00; text-decoration-color: #00af00\">6</span>, <span style=\"color: #00af00; text-decoration-color: #00af00\">6</span>, <span style=\"color: #00af00; text-decoration-color: #00af00\">576</span>)    │        <span style=\"color: #00af00; text-decoration-color: #00af00\">2,304</span> │ block_13_expand[<span style=\"color: #00af00; text-decoration-color: #00af00\">0</span>]… │    <span style=\"color: #00af00; text-decoration-color: #00af00; font-weight: bold\">Y</span>    │\n",
              "│ (<span style=\"color: #0087ff; text-decoration-color: #0087ff\">BatchNormalization</span>)   │                      │              │                     │         │\n",
              "├────────────────────────┼──────────────────────┼──────────────┼─────────────────────┼─────────┤\n",
              "│ block_13_expand_relu   │ (<span style=\"color: #00d7ff; text-decoration-color: #00d7ff\">None</span>, <span style=\"color: #00af00; text-decoration-color: #00af00\">6</span>, <span style=\"color: #00af00; text-decoration-color: #00af00\">6</span>, <span style=\"color: #00af00; text-decoration-color: #00af00\">576</span>)    │            <span style=\"color: #00af00; text-decoration-color: #00af00\">0</span> │ block_13_expand_BN… │    <span style=\"font-weight: bold\">-</span>    │\n",
              "│ (<span style=\"color: #0087ff; text-decoration-color: #0087ff\">ReLU</span>)                 │                      │              │                     │         │\n",
              "├────────────────────────┼──────────────────────┼──────────────┼─────────────────────┼─────────┤\n",
              "│ block_13_pad           │ (<span style=\"color: #00d7ff; text-decoration-color: #00d7ff\">None</span>, <span style=\"color: #00af00; text-decoration-color: #00af00\">7</span>, <span style=\"color: #00af00; text-decoration-color: #00af00\">7</span>, <span style=\"color: #00af00; text-decoration-color: #00af00\">576</span>)    │            <span style=\"color: #00af00; text-decoration-color: #00af00\">0</span> │ block_13_expand_re… │    <span style=\"font-weight: bold\">-</span>    │\n",
              "│ (<span style=\"color: #0087ff; text-decoration-color: #0087ff\">ZeroPadding2D</span>)        │                      │              │                     │         │\n",
              "├────────────────────────┼──────────────────────┼──────────────┼─────────────────────┼─────────┤\n",
              "│ block_13_depthwise     │ (<span style=\"color: #00d7ff; text-decoration-color: #00d7ff\">None</span>, <span style=\"color: #00af00; text-decoration-color: #00af00\">3</span>, <span style=\"color: #00af00; text-decoration-color: #00af00\">3</span>, <span style=\"color: #00af00; text-decoration-color: #00af00\">576</span>)    │        <span style=\"color: #00af00; text-decoration-color: #00af00\">5,184</span> │ block_13_pad[<span style=\"color: #00af00; text-decoration-color: #00af00\">0</span>][<span style=\"color: #00af00; text-decoration-color: #00af00\">0</span>]  │    <span style=\"color: #00af00; text-decoration-color: #00af00; font-weight: bold\">Y</span>    │\n",
              "│ (<span style=\"color: #0087ff; text-decoration-color: #0087ff\">DepthwiseConv2D</span>)      │                      │              │                     │         │\n",
              "├────────────────────────┼──────────────────────┼──────────────┼─────────────────────┼─────────┤\n",
              "│ block_13_depthwise_BN  │ (<span style=\"color: #00d7ff; text-decoration-color: #00d7ff\">None</span>, <span style=\"color: #00af00; text-decoration-color: #00af00\">3</span>, <span style=\"color: #00af00; text-decoration-color: #00af00\">3</span>, <span style=\"color: #00af00; text-decoration-color: #00af00\">576</span>)    │        <span style=\"color: #00af00; text-decoration-color: #00af00\">2,304</span> │ block_13_depthwise… │    <span style=\"color: #00af00; text-decoration-color: #00af00; font-weight: bold\">Y</span>    │\n",
              "│ (<span style=\"color: #0087ff; text-decoration-color: #0087ff\">BatchNormalization</span>)   │                      │              │                     │         │\n",
              "├────────────────────────┼──────────────────────┼──────────────┼─────────────────────┼─────────┤\n",
              "│ block_13_depthwise_re… │ (<span style=\"color: #00d7ff; text-decoration-color: #00d7ff\">None</span>, <span style=\"color: #00af00; text-decoration-color: #00af00\">3</span>, <span style=\"color: #00af00; text-decoration-color: #00af00\">3</span>, <span style=\"color: #00af00; text-decoration-color: #00af00\">576</span>)    │            <span style=\"color: #00af00; text-decoration-color: #00af00\">0</span> │ block_13_depthwise… │    <span style=\"font-weight: bold\">-</span>    │\n",
              "│ (<span style=\"color: #0087ff; text-decoration-color: #0087ff\">ReLU</span>)                 │                      │              │                     │         │\n",
              "├────────────────────────┼──────────────────────┼──────────────┼─────────────────────┼─────────┤\n",
              "│ block_13_project       │ (<span style=\"color: #00d7ff; text-decoration-color: #00d7ff\">None</span>, <span style=\"color: #00af00; text-decoration-color: #00af00\">3</span>, <span style=\"color: #00af00; text-decoration-color: #00af00\">3</span>, <span style=\"color: #00af00; text-decoration-color: #00af00\">160</span>)    │       <span style=\"color: #00af00; text-decoration-color: #00af00\">92,160</span> │ block_13_depthwise… │    <span style=\"color: #00af00; text-decoration-color: #00af00; font-weight: bold\">Y</span>    │\n",
              "│ (<span style=\"color: #0087ff; text-decoration-color: #0087ff\">Conv2D</span>)               │                      │              │                     │         │\n",
              "├────────────────────────┼──────────────────────┼──────────────┼─────────────────────┼─────────┤\n",
              "│ block_13_project_BN    │ (<span style=\"color: #00d7ff; text-decoration-color: #00d7ff\">None</span>, <span style=\"color: #00af00; text-decoration-color: #00af00\">3</span>, <span style=\"color: #00af00; text-decoration-color: #00af00\">3</span>, <span style=\"color: #00af00; text-decoration-color: #00af00\">160</span>)    │          <span style=\"color: #00af00; text-decoration-color: #00af00\">640</span> │ block_13_project[<span style=\"color: #00af00; text-decoration-color: #00af00\">0</span>… │    <span style=\"color: #00af00; text-decoration-color: #00af00; font-weight: bold\">Y</span>    │\n",
              "│ (<span style=\"color: #0087ff; text-decoration-color: #0087ff\">BatchNormalization</span>)   │                      │              │                     │         │\n",
              "├────────────────────────┼──────────────────────┼──────────────┼─────────────────────┼─────────┤\n",
              "│ block_14_expand        │ (<span style=\"color: #00d7ff; text-decoration-color: #00d7ff\">None</span>, <span style=\"color: #00af00; text-decoration-color: #00af00\">3</span>, <span style=\"color: #00af00; text-decoration-color: #00af00\">3</span>, <span style=\"color: #00af00; text-decoration-color: #00af00\">960</span>)    │      <span style=\"color: #00af00; text-decoration-color: #00af00\">153,600</span> │ block_13_project_B… │    <span style=\"color: #00af00; text-decoration-color: #00af00; font-weight: bold\">Y</span>    │\n",
              "│ (<span style=\"color: #0087ff; text-decoration-color: #0087ff\">Conv2D</span>)               │                      │              │                     │         │\n",
              "├────────────────────────┼──────────────────────┼──────────────┼─────────────────────┼─────────┤\n",
              "│ block_14_expand_BN     │ (<span style=\"color: #00d7ff; text-decoration-color: #00d7ff\">None</span>, <span style=\"color: #00af00; text-decoration-color: #00af00\">3</span>, <span style=\"color: #00af00; text-decoration-color: #00af00\">3</span>, <span style=\"color: #00af00; text-decoration-color: #00af00\">960</span>)    │        <span style=\"color: #00af00; text-decoration-color: #00af00\">3,840</span> │ block_14_expand[<span style=\"color: #00af00; text-decoration-color: #00af00\">0</span>]… │    <span style=\"color: #00af00; text-decoration-color: #00af00; font-weight: bold\">Y</span>    │\n",
              "│ (<span style=\"color: #0087ff; text-decoration-color: #0087ff\">BatchNormalization</span>)   │                      │              │                     │         │\n",
              "├────────────────────────┼──────────────────────┼──────────────┼─────────────────────┼─────────┤\n",
              "│ block_14_expand_relu   │ (<span style=\"color: #00d7ff; text-decoration-color: #00d7ff\">None</span>, <span style=\"color: #00af00; text-decoration-color: #00af00\">3</span>, <span style=\"color: #00af00; text-decoration-color: #00af00\">3</span>, <span style=\"color: #00af00; text-decoration-color: #00af00\">960</span>)    │            <span style=\"color: #00af00; text-decoration-color: #00af00\">0</span> │ block_14_expand_BN… │    <span style=\"font-weight: bold\">-</span>    │\n",
              "│ (<span style=\"color: #0087ff; text-decoration-color: #0087ff\">ReLU</span>)                 │                      │              │                     │         │\n",
              "├────────────────────────┼──────────────────────┼──────────────┼─────────────────────┼─────────┤\n",
              "│ block_14_depthwise     │ (<span style=\"color: #00d7ff; text-decoration-color: #00d7ff\">None</span>, <span style=\"color: #00af00; text-decoration-color: #00af00\">3</span>, <span style=\"color: #00af00; text-decoration-color: #00af00\">3</span>, <span style=\"color: #00af00; text-decoration-color: #00af00\">960</span>)    │        <span style=\"color: #00af00; text-decoration-color: #00af00\">8,640</span> │ block_14_expand_re… │    <span style=\"color: #00af00; text-decoration-color: #00af00; font-weight: bold\">Y</span>    │\n",
              "│ (<span style=\"color: #0087ff; text-decoration-color: #0087ff\">DepthwiseConv2D</span>)      │                      │              │                     │         │\n",
              "├────────────────────────┼──────────────────────┼──────────────┼─────────────────────┼─────────┤\n",
              "│ block_14_depthwise_BN  │ (<span style=\"color: #00d7ff; text-decoration-color: #00d7ff\">None</span>, <span style=\"color: #00af00; text-decoration-color: #00af00\">3</span>, <span style=\"color: #00af00; text-decoration-color: #00af00\">3</span>, <span style=\"color: #00af00; text-decoration-color: #00af00\">960</span>)    │        <span style=\"color: #00af00; text-decoration-color: #00af00\">3,840</span> │ block_14_depthwise… │    <span style=\"color: #00af00; text-decoration-color: #00af00; font-weight: bold\">Y</span>    │\n",
              "│ (<span style=\"color: #0087ff; text-decoration-color: #0087ff\">BatchNormalization</span>)   │                      │              │                     │         │\n",
              "├────────────────────────┼──────────────────────┼──────────────┼─────────────────────┼─────────┤\n",
              "│ block_14_depthwise_re… │ (<span style=\"color: #00d7ff; text-decoration-color: #00d7ff\">None</span>, <span style=\"color: #00af00; text-decoration-color: #00af00\">3</span>, <span style=\"color: #00af00; text-decoration-color: #00af00\">3</span>, <span style=\"color: #00af00; text-decoration-color: #00af00\">960</span>)    │            <span style=\"color: #00af00; text-decoration-color: #00af00\">0</span> │ block_14_depthwise… │    <span style=\"font-weight: bold\">-</span>    │\n",
              "│ (<span style=\"color: #0087ff; text-decoration-color: #0087ff\">ReLU</span>)                 │                      │              │                     │         │\n",
              "├────────────────────────┼──────────────────────┼──────────────┼─────────────────────┼─────────┤\n",
              "│ block_14_project       │ (<span style=\"color: #00d7ff; text-decoration-color: #00d7ff\">None</span>, <span style=\"color: #00af00; text-decoration-color: #00af00\">3</span>, <span style=\"color: #00af00; text-decoration-color: #00af00\">3</span>, <span style=\"color: #00af00; text-decoration-color: #00af00\">160</span>)    │      <span style=\"color: #00af00; text-decoration-color: #00af00\">153,600</span> │ block_14_depthwise… │    <span style=\"color: #00af00; text-decoration-color: #00af00; font-weight: bold\">Y</span>    │\n",
              "│ (<span style=\"color: #0087ff; text-decoration-color: #0087ff\">Conv2D</span>)               │                      │              │                     │         │\n",
              "├────────────────────────┼──────────────────────┼──────────────┼─────────────────────┼─────────┤\n",
              "│ block_14_project_BN    │ (<span style=\"color: #00d7ff; text-decoration-color: #00d7ff\">None</span>, <span style=\"color: #00af00; text-decoration-color: #00af00\">3</span>, <span style=\"color: #00af00; text-decoration-color: #00af00\">3</span>, <span style=\"color: #00af00; text-decoration-color: #00af00\">160</span>)    │          <span style=\"color: #00af00; text-decoration-color: #00af00\">640</span> │ block_14_project[<span style=\"color: #00af00; text-decoration-color: #00af00\">0</span>… │    <span style=\"color: #00af00; text-decoration-color: #00af00; font-weight: bold\">Y</span>    │\n",
              "│ (<span style=\"color: #0087ff; text-decoration-color: #0087ff\">BatchNormalization</span>)   │                      │              │                     │         │\n",
              "├────────────────────────┼──────────────────────┼──────────────┼─────────────────────┼─────────┤\n",
              "│ block_14_add (<span style=\"color: #0087ff; text-decoration-color: #0087ff\">Add</span>)     │ (<span style=\"color: #00d7ff; text-decoration-color: #00d7ff\">None</span>, <span style=\"color: #00af00; text-decoration-color: #00af00\">3</span>, <span style=\"color: #00af00; text-decoration-color: #00af00\">3</span>, <span style=\"color: #00af00; text-decoration-color: #00af00\">160</span>)    │            <span style=\"color: #00af00; text-decoration-color: #00af00\">0</span> │ block_13_project_B… │    <span style=\"font-weight: bold\">-</span>    │\n",
              "│                        │                      │              │ block_14_project_B… │         │\n",
              "├────────────────────────┼──────────────────────┼──────────────┼─────────────────────┼─────────┤\n",
              "│ block_15_expand        │ (<span style=\"color: #00d7ff; text-decoration-color: #00d7ff\">None</span>, <span style=\"color: #00af00; text-decoration-color: #00af00\">3</span>, <span style=\"color: #00af00; text-decoration-color: #00af00\">3</span>, <span style=\"color: #00af00; text-decoration-color: #00af00\">960</span>)    │      <span style=\"color: #00af00; text-decoration-color: #00af00\">153,600</span> │ block_14_add[<span style=\"color: #00af00; text-decoration-color: #00af00\">0</span>][<span style=\"color: #00af00; text-decoration-color: #00af00\">0</span>]  │    <span style=\"color: #00af00; text-decoration-color: #00af00; font-weight: bold\">Y</span>    │\n",
              "│ (<span style=\"color: #0087ff; text-decoration-color: #0087ff\">Conv2D</span>)               │                      │              │                     │         │\n",
              "├────────────────────────┼──────────────────────┼──────────────┼─────────────────────┼─────────┤\n",
              "│ block_15_expand_BN     │ (<span style=\"color: #00d7ff; text-decoration-color: #00d7ff\">None</span>, <span style=\"color: #00af00; text-decoration-color: #00af00\">3</span>, <span style=\"color: #00af00; text-decoration-color: #00af00\">3</span>, <span style=\"color: #00af00; text-decoration-color: #00af00\">960</span>)    │        <span style=\"color: #00af00; text-decoration-color: #00af00\">3,840</span> │ block_15_expand[<span style=\"color: #00af00; text-decoration-color: #00af00\">0</span>]… │    <span style=\"color: #00af00; text-decoration-color: #00af00; font-weight: bold\">Y</span>    │\n",
              "│ (<span style=\"color: #0087ff; text-decoration-color: #0087ff\">BatchNormalization</span>)   │                      │              │                     │         │\n",
              "├────────────────────────┼──────────────────────┼──────────────┼─────────────────────┼─────────┤\n",
              "│ block_15_expand_relu   │ (<span style=\"color: #00d7ff; text-decoration-color: #00d7ff\">None</span>, <span style=\"color: #00af00; text-decoration-color: #00af00\">3</span>, <span style=\"color: #00af00; text-decoration-color: #00af00\">3</span>, <span style=\"color: #00af00; text-decoration-color: #00af00\">960</span>)    │            <span style=\"color: #00af00; text-decoration-color: #00af00\">0</span> │ block_15_expand_BN… │    <span style=\"font-weight: bold\">-</span>    │\n",
              "│ (<span style=\"color: #0087ff; text-decoration-color: #0087ff\">ReLU</span>)                 │                      │              │                     │         │\n",
              "├────────────────────────┼──────────────────────┼──────────────┼─────────────────────┼─────────┤\n",
              "│ block_15_depthwise     │ (<span style=\"color: #00d7ff; text-decoration-color: #00d7ff\">None</span>, <span style=\"color: #00af00; text-decoration-color: #00af00\">3</span>, <span style=\"color: #00af00; text-decoration-color: #00af00\">3</span>, <span style=\"color: #00af00; text-decoration-color: #00af00\">960</span>)    │        <span style=\"color: #00af00; text-decoration-color: #00af00\">8,640</span> │ block_15_expand_re… │    <span style=\"color: #00af00; text-decoration-color: #00af00; font-weight: bold\">Y</span>    │\n",
              "│ (<span style=\"color: #0087ff; text-decoration-color: #0087ff\">DepthwiseConv2D</span>)      │                      │              │                     │         │\n",
              "├────────────────────────┼──────────────────────┼──────────────┼─────────────────────┼─────────┤\n",
              "│ block_15_depthwise_BN  │ (<span style=\"color: #00d7ff; text-decoration-color: #00d7ff\">None</span>, <span style=\"color: #00af00; text-decoration-color: #00af00\">3</span>, <span style=\"color: #00af00; text-decoration-color: #00af00\">3</span>, <span style=\"color: #00af00; text-decoration-color: #00af00\">960</span>)    │        <span style=\"color: #00af00; text-decoration-color: #00af00\">3,840</span> │ block_15_depthwise… │    <span style=\"color: #00af00; text-decoration-color: #00af00; font-weight: bold\">Y</span>    │\n",
              "│ (<span style=\"color: #0087ff; text-decoration-color: #0087ff\">BatchNormalization</span>)   │                      │              │                     │         │\n",
              "├────────────────────────┼──────────────────────┼──────────────┼─────────────────────┼─────────┤\n",
              "│ block_15_depthwise_re… │ (<span style=\"color: #00d7ff; text-decoration-color: #00d7ff\">None</span>, <span style=\"color: #00af00; text-decoration-color: #00af00\">3</span>, <span style=\"color: #00af00; text-decoration-color: #00af00\">3</span>, <span style=\"color: #00af00; text-decoration-color: #00af00\">960</span>)    │            <span style=\"color: #00af00; text-decoration-color: #00af00\">0</span> │ block_15_depthwise… │    <span style=\"font-weight: bold\">-</span>    │\n",
              "│ (<span style=\"color: #0087ff; text-decoration-color: #0087ff\">ReLU</span>)                 │                      │              │                     │         │\n",
              "├────────────────────────┼──────────────────────┼──────────────┼─────────────────────┼─────────┤\n",
              "│ block_15_project       │ (<span style=\"color: #00d7ff; text-decoration-color: #00d7ff\">None</span>, <span style=\"color: #00af00; text-decoration-color: #00af00\">3</span>, <span style=\"color: #00af00; text-decoration-color: #00af00\">3</span>, <span style=\"color: #00af00; text-decoration-color: #00af00\">160</span>)    │      <span style=\"color: #00af00; text-decoration-color: #00af00\">153,600</span> │ block_15_depthwise… │    <span style=\"color: #00af00; text-decoration-color: #00af00; font-weight: bold\">Y</span>    │\n",
              "│ (<span style=\"color: #0087ff; text-decoration-color: #0087ff\">Conv2D</span>)               │                      │              │                     │         │\n",
              "├────────────────────────┼──────────────────────┼──────────────┼─────────────────────┼─────────┤\n",
              "│ block_15_project_BN    │ (<span style=\"color: #00d7ff; text-decoration-color: #00d7ff\">None</span>, <span style=\"color: #00af00; text-decoration-color: #00af00\">3</span>, <span style=\"color: #00af00; text-decoration-color: #00af00\">3</span>, <span style=\"color: #00af00; text-decoration-color: #00af00\">160</span>)    │          <span style=\"color: #00af00; text-decoration-color: #00af00\">640</span> │ block_15_project[<span style=\"color: #00af00; text-decoration-color: #00af00\">0</span>… │    <span style=\"color: #00af00; text-decoration-color: #00af00; font-weight: bold\">Y</span>    │\n",
              "│ (<span style=\"color: #0087ff; text-decoration-color: #0087ff\">BatchNormalization</span>)   │                      │              │                     │         │\n",
              "├────────────────────────┼──────────────────────┼──────────────┼─────────────────────┼─────────┤\n",
              "│ block_15_add (<span style=\"color: #0087ff; text-decoration-color: #0087ff\">Add</span>)     │ (<span style=\"color: #00d7ff; text-decoration-color: #00d7ff\">None</span>, <span style=\"color: #00af00; text-decoration-color: #00af00\">3</span>, <span style=\"color: #00af00; text-decoration-color: #00af00\">3</span>, <span style=\"color: #00af00; text-decoration-color: #00af00\">160</span>)    │            <span style=\"color: #00af00; text-decoration-color: #00af00\">0</span> │ block_14_add[<span style=\"color: #00af00; text-decoration-color: #00af00\">0</span>][<span style=\"color: #00af00; text-decoration-color: #00af00\">0</span>], │    <span style=\"font-weight: bold\">-</span>    │\n",
              "│                        │                      │              │ block_15_project_B… │         │\n",
              "├────────────────────────┼──────────────────────┼──────────────┼─────────────────────┼─────────┤\n",
              "│ block_16_expand        │ (<span style=\"color: #00d7ff; text-decoration-color: #00d7ff\">None</span>, <span style=\"color: #00af00; text-decoration-color: #00af00\">3</span>, <span style=\"color: #00af00; text-decoration-color: #00af00\">3</span>, <span style=\"color: #00af00; text-decoration-color: #00af00\">960</span>)    │      <span style=\"color: #00af00; text-decoration-color: #00af00\">153,600</span> │ block_15_add[<span style=\"color: #00af00; text-decoration-color: #00af00\">0</span>][<span style=\"color: #00af00; text-decoration-color: #00af00\">0</span>]  │    <span style=\"color: #00af00; text-decoration-color: #00af00; font-weight: bold\">Y</span>    │\n",
              "│ (<span style=\"color: #0087ff; text-decoration-color: #0087ff\">Conv2D</span>)               │                      │              │                     │         │\n",
              "├────────────────────────┼──────────────────────┼──────────────┼─────────────────────┼─────────┤\n",
              "│ block_16_expand_BN     │ (<span style=\"color: #00d7ff; text-decoration-color: #00d7ff\">None</span>, <span style=\"color: #00af00; text-decoration-color: #00af00\">3</span>, <span style=\"color: #00af00; text-decoration-color: #00af00\">3</span>, <span style=\"color: #00af00; text-decoration-color: #00af00\">960</span>)    │        <span style=\"color: #00af00; text-decoration-color: #00af00\">3,840</span> │ block_16_expand[<span style=\"color: #00af00; text-decoration-color: #00af00\">0</span>]… │    <span style=\"color: #00af00; text-decoration-color: #00af00; font-weight: bold\">Y</span>    │\n",
              "│ (<span style=\"color: #0087ff; text-decoration-color: #0087ff\">BatchNormalization</span>)   │                      │              │                     │         │\n",
              "├────────────────────────┼──────────────────────┼──────────────┼─────────────────────┼─────────┤\n",
              "│ block_16_expand_relu   │ (<span style=\"color: #00d7ff; text-decoration-color: #00d7ff\">None</span>, <span style=\"color: #00af00; text-decoration-color: #00af00\">3</span>, <span style=\"color: #00af00; text-decoration-color: #00af00\">3</span>, <span style=\"color: #00af00; text-decoration-color: #00af00\">960</span>)    │            <span style=\"color: #00af00; text-decoration-color: #00af00\">0</span> │ block_16_expand_BN… │    <span style=\"font-weight: bold\">-</span>    │\n",
              "│ (<span style=\"color: #0087ff; text-decoration-color: #0087ff\">ReLU</span>)                 │                      │              │                     │         │\n",
              "├────────────────────────┼──────────────────────┼──────────────┼─────────────────────┼─────────┤\n",
              "│ block_16_depthwise     │ (<span style=\"color: #00d7ff; text-decoration-color: #00d7ff\">None</span>, <span style=\"color: #00af00; text-decoration-color: #00af00\">3</span>, <span style=\"color: #00af00; text-decoration-color: #00af00\">3</span>, <span style=\"color: #00af00; text-decoration-color: #00af00\">960</span>)    │        <span style=\"color: #00af00; text-decoration-color: #00af00\">8,640</span> │ block_16_expand_re… │    <span style=\"color: #00af00; text-decoration-color: #00af00; font-weight: bold\">Y</span>    │\n",
              "│ (<span style=\"color: #0087ff; text-decoration-color: #0087ff\">DepthwiseConv2D</span>)      │                      │              │                     │         │\n",
              "├────────────────────────┼──────────────────────┼──────────────┼─────────────────────┼─────────┤\n",
              "│ block_16_depthwise_BN  │ (<span style=\"color: #00d7ff; text-decoration-color: #00d7ff\">None</span>, <span style=\"color: #00af00; text-decoration-color: #00af00\">3</span>, <span style=\"color: #00af00; text-decoration-color: #00af00\">3</span>, <span style=\"color: #00af00; text-decoration-color: #00af00\">960</span>)    │        <span style=\"color: #00af00; text-decoration-color: #00af00\">3,840</span> │ block_16_depthwise… │    <span style=\"color: #00af00; text-decoration-color: #00af00; font-weight: bold\">Y</span>    │\n",
              "│ (<span style=\"color: #0087ff; text-decoration-color: #0087ff\">BatchNormalization</span>)   │                      │              │                     │         │\n",
              "├────────────────────────┼──────────────────────┼──────────────┼─────────────────────┼─────────┤\n",
              "│ block_16_depthwise_re… │ (<span style=\"color: #00d7ff; text-decoration-color: #00d7ff\">None</span>, <span style=\"color: #00af00; text-decoration-color: #00af00\">3</span>, <span style=\"color: #00af00; text-decoration-color: #00af00\">3</span>, <span style=\"color: #00af00; text-decoration-color: #00af00\">960</span>)    │            <span style=\"color: #00af00; text-decoration-color: #00af00\">0</span> │ block_16_depthwise… │    <span style=\"font-weight: bold\">-</span>    │\n",
              "│ (<span style=\"color: #0087ff; text-decoration-color: #0087ff\">ReLU</span>)                 │                      │              │                     │         │\n",
              "├────────────────────────┼──────────────────────┼──────────────┼─────────────────────┼─────────┤\n",
              "│ block_16_project       │ (<span style=\"color: #00d7ff; text-decoration-color: #00d7ff\">None</span>, <span style=\"color: #00af00; text-decoration-color: #00af00\">3</span>, <span style=\"color: #00af00; text-decoration-color: #00af00\">3</span>, <span style=\"color: #00af00; text-decoration-color: #00af00\">320</span>)    │      <span style=\"color: #00af00; text-decoration-color: #00af00\">307,200</span> │ block_16_depthwise… │    <span style=\"color: #00af00; text-decoration-color: #00af00; font-weight: bold\">Y</span>    │\n",
              "│ (<span style=\"color: #0087ff; text-decoration-color: #0087ff\">Conv2D</span>)               │                      │              │                     │         │\n",
              "├────────────────────────┼──────────────────────┼──────────────┼─────────────────────┼─────────┤\n",
              "│ block_16_project_BN    │ (<span style=\"color: #00d7ff; text-decoration-color: #00d7ff\">None</span>, <span style=\"color: #00af00; text-decoration-color: #00af00\">3</span>, <span style=\"color: #00af00; text-decoration-color: #00af00\">3</span>, <span style=\"color: #00af00; text-decoration-color: #00af00\">320</span>)    │        <span style=\"color: #00af00; text-decoration-color: #00af00\">1,280</span> │ block_16_project[<span style=\"color: #00af00; text-decoration-color: #00af00\">0</span>… │    <span style=\"color: #00af00; text-decoration-color: #00af00; font-weight: bold\">Y</span>    │\n",
              "│ (<span style=\"color: #0087ff; text-decoration-color: #0087ff\">BatchNormalization</span>)   │                      │              │                     │         │\n",
              "├────────────────────────┼──────────────────────┼──────────────┼─────────────────────┼─────────┤\n",
              "│ Conv_1 (<span style=\"color: #0087ff; text-decoration-color: #0087ff\">Conv2D</span>)        │ (<span style=\"color: #00d7ff; text-decoration-color: #00d7ff\">None</span>, <span style=\"color: #00af00; text-decoration-color: #00af00\">3</span>, <span style=\"color: #00af00; text-decoration-color: #00af00\">3</span>, <span style=\"color: #00af00; text-decoration-color: #00af00\">1280</span>)   │      <span style=\"color: #00af00; text-decoration-color: #00af00\">409,600</span> │ block_16_project_B… │    <span style=\"color: #00af00; text-decoration-color: #00af00; font-weight: bold\">Y</span>    │\n",
              "├────────────────────────┼──────────────────────┼──────────────┼─────────────────────┼─────────┤\n",
              "│ Conv_1_bn              │ (<span style=\"color: #00d7ff; text-decoration-color: #00d7ff\">None</span>, <span style=\"color: #00af00; text-decoration-color: #00af00\">3</span>, <span style=\"color: #00af00; text-decoration-color: #00af00\">3</span>, <span style=\"color: #00af00; text-decoration-color: #00af00\">1280</span>)   │        <span style=\"color: #00af00; text-decoration-color: #00af00\">5,120</span> │ Conv_1[<span style=\"color: #00af00; text-decoration-color: #00af00\">0</span>][<span style=\"color: #00af00; text-decoration-color: #00af00\">0</span>]        │    <span style=\"color: #00af00; text-decoration-color: #00af00; font-weight: bold\">Y</span>    │\n",
              "│ (<span style=\"color: #0087ff; text-decoration-color: #0087ff\">BatchNormalization</span>)   │                      │              │                     │         │\n",
              "├────────────────────────┼──────────────────────┼──────────────┼─────────────────────┼─────────┤\n",
              "│ out_relu (<span style=\"color: #0087ff; text-decoration-color: #0087ff\">ReLU</span>)        │ (<span style=\"color: #00d7ff; text-decoration-color: #00d7ff\">None</span>, <span style=\"color: #00af00; text-decoration-color: #00af00\">3</span>, <span style=\"color: #00af00; text-decoration-color: #00af00\">3</span>, <span style=\"color: #00af00; text-decoration-color: #00af00\">1280</span>)   │            <span style=\"color: #00af00; text-decoration-color: #00af00\">0</span> │ Conv_1_bn[<span style=\"color: #00af00; text-decoration-color: #00af00\">0</span>][<span style=\"color: #00af00; text-decoration-color: #00af00\">0</span>]     │    <span style=\"font-weight: bold\">-</span>    │\n",
              "└────────────────────────┴──────────────────────┴──────────────┴─────────────────────┴─────────┘\n",
              "</pre>\n"
            ]
          },
          "metadata": {}
        },
        {
          "output_type": "display_data",
          "data": {
            "text/plain": [
              "\u001b[1m Total params: \u001b[0m\u001b[38;5;34m2,257,984\u001b[0m (8.61 MB)\n"
            ],
            "text/html": [
              "<pre style=\"white-space:pre;overflow-x:auto;line-height:normal;font-family:Menlo,'DejaVu Sans Mono',consolas,'Courier New',monospace\"><span style=\"font-weight: bold\"> Total params: </span><span style=\"color: #00af00; text-decoration-color: #00af00\">2,257,984</span> (8.61 MB)\n",
              "</pre>\n"
            ]
          },
          "metadata": {}
        },
        {
          "output_type": "display_data",
          "data": {
            "text/plain": [
              "\u001b[1m Trainable params: \u001b[0m\u001b[38;5;34m2,223,872\u001b[0m (8.48 MB)\n"
            ],
            "text/html": [
              "<pre style=\"white-space:pre;overflow-x:auto;line-height:normal;font-family:Menlo,'DejaVu Sans Mono',consolas,'Courier New',monospace\"><span style=\"font-weight: bold\"> Trainable params: </span><span style=\"color: #00af00; text-decoration-color: #00af00\">2,223,872</span> (8.48 MB)\n",
              "</pre>\n"
            ]
          },
          "metadata": {}
        },
        {
          "output_type": "display_data",
          "data": {
            "text/plain": [
              "\u001b[1m Non-trainable params: \u001b[0m\u001b[38;5;34m34,112\u001b[0m (133.25 KB)\n"
            ],
            "text/html": [
              "<pre style=\"white-space:pre;overflow-x:auto;line-height:normal;font-family:Menlo,'DejaVu Sans Mono',consolas,'Courier New',monospace\"><span style=\"font-weight: bold\"> Non-trainable params: </span><span style=\"color: #00af00; text-decoration-color: #00af00\">34,112</span> (133.25 KB)\n",
              "</pre>\n"
            ]
          },
          "metadata": {}
        }
      ],
      "source": [
        "from tensorflow.keras.applications.mobilenet_v2 import MobileNetV2, preprocess_input\n",
        "\n",
        "HEIGHT = 96\n",
        "WIDTH = 96\n",
        "\n",
        "base_model = MobileNetV2(weights='imagenet',\n",
        "                      include_top=False,\n",
        "                      input_shape=(HEIGHT, WIDTH, 3),\n",
        "                      classes=train_labels.shape[1])\n",
        "\n",
        "base_model.summary(show_trainable=True)"
      ]
    },
    {
      "cell_type": "markdown",
      "source": [
        "### Input Data Preprocessing\n",
        "\n",
        "1. We will be resizing out input images because `MobileNetV2` works better with higher resolution images.\n",
        "\n",
        "2. We will preprocess the input to match the base model."
      ],
      "metadata": {
        "id": "YrN94LkfLxH0"
      }
    },
    {
      "cell_type": "code",
      "source": [
        "# Resize images to 96x96 for better performance\n",
        "train_images = np.array(tf.image.resize(train_images_sampled, (96, 96)))\n",
        "test_images = np.array(tf.image.resize(test_images_sampled, (96, 96)))\n",
        "\n",
        "# Match the preprocessing in the base model\n",
        "train_images = preprocess_input(train_images)\n",
        "test_images = preprocess_input(test_images)\n",
        "\n",
        "train_images.min(), train_images.max()"
      ],
      "metadata": {
        "colab": {
          "base_uri": "https://localhost:8080/"
        },
        "id": "hFuXw45ULjeJ",
        "outputId": "53e065ba-844c-4571-ec67-efa235f118c7"
      },
      "execution_count": 37,
      "outputs": [
        {
          "output_type": "execute_result",
          "data": {
            "text/plain": [
              "(-1.0, 1.0)"
            ]
          },
          "metadata": {},
          "execution_count": 37
        }
      ]
    },
    {
      "cell_type": "code",
      "source": [
        "train_images.shape"
      ],
      "metadata": {
        "colab": {
          "base_uri": "https://localhost:8080/"
        },
        "id": "RrHM71N2LmXu",
        "outputId": "476f6a05-32dd-4861-980f-0efbf56dc8b4"
      },
      "execution_count": 38,
      "outputs": [
        {
          "output_type": "execute_result",
          "data": {
            "text/plain": [
              "(5000, 96, 96, 3)"
            ]
          },
          "metadata": {},
          "execution_count": 38
        }
      ]
    },
    {
      "cell_type": "code",
      "source": [
        "train_labels.shape, test_labels.shape"
      ],
      "metadata": {
        "colab": {
          "base_uri": "https://localhost:8080/"
        },
        "id": "dEYL83UsLppr",
        "outputId": "3a3d11d2-116f-4409-d4fd-e1035707d615"
      },
      "execution_count": 39,
      "outputs": [
        {
          "output_type": "execute_result",
          "data": {
            "text/plain": [
              "((5000, 10), (1000, 10))"
            ]
          },
          "metadata": {},
          "execution_count": 39
        }
      ]
    },
    {
      "cell_type": "markdown",
      "metadata": {
        "id": "cCo2GfI1KCgi"
      },
      "source": [
        "\n",
        "### Freezing layers and fine-tuning\n",
        "\n",
        "Layers & models have three weight attributes:\n",
        "\n",
        "1. `weights` is the list of all weights variables of the layer.\n",
        "2. `trainable_weights` is the list of those that are meant to be updated (via gradient descent) to minimize the loss during training.\n",
        "3. `non_trainable_weights` is the list of those that aren't meant to be trained. Typically they are updated by the model during the forward pass.\n",
        "Example: the Dense layer has 2 trainable weights (kernel & bias)\n",
        "\n",
        "Also including here the code snippet that you can use if you want to retrain specific layers of the base model (fine-tuning) for future reference.\n",
        "\n",
        "```python\n",
        "base_model.trainable = False\n",
        "\n",
        "# Set a specific layer by name to be trainable\n",
        "layer_names = ['Conv_1']  # Replace with your target layer's name\n",
        "for layer in base_model.layers:\n",
        "    if layer.name in layer_names:\n",
        "        layer.trainable = True\n",
        "        print(f\"Layer {layer.name} set to trainable\")\n",
        "\n",
        "base_model.summary(show_trainable=True)\n",
        "```"
      ]
    },
    {
      "cell_type": "markdown",
      "source": [
        "We have added a few layers after the base model so that it can adapt to our new dataset."
      ],
      "metadata": {
        "id": "g5LblKz7F6fG"
      }
    },
    {
      "cell_type": "code",
      "execution_count": 33,
      "metadata": {
        "colab": {
          "base_uri": "https://localhost:8080/",
          "height": 355
        },
        "id": "LEdSQwRzsIev",
        "outputId": "636875f7-4685-4d07-c304-0d79b31e62ce"
      },
      "outputs": [
        {
          "output_type": "display_data",
          "data": {
            "text/plain": [
              "\u001b[1mModel: \"functional_27\"\u001b[0m\n"
            ],
            "text/html": [
              "<pre style=\"white-space:pre;overflow-x:auto;line-height:normal;font-family:Menlo,'DejaVu Sans Mono',consolas,'Courier New',monospace\"><span style=\"font-weight: bold\">Model: \"functional_27\"</span>\n",
              "</pre>\n"
            ]
          },
          "metadata": {}
        },
        {
          "output_type": "display_data",
          "data": {
            "text/plain": [
              "┏━━━━━━━━━━━━━━━━━━━━━━━━━━━━━━━━━━━━━┳━━━━━━━━━━━━━━━━━━━━━━━━━━━━━━┳━━━━━━━━━━━━━━━┳━━━━━━━━━┓\n",
              "┃\u001b[1m \u001b[0m\u001b[1mLayer (type)                       \u001b[0m\u001b[1m \u001b[0m┃\u001b[1m \u001b[0m\u001b[1mOutput Shape                \u001b[0m\u001b[1m \u001b[0m┃\u001b[1m \u001b[0m\u001b[1m      Param #\u001b[0m\u001b[1m \u001b[0m┃\u001b[1m \u001b[0m\u001b[1mTraina…\u001b[0m\u001b[1m \u001b[0m┃\n",
              "┡━━━━━━━━━━━━━━━━━━━━━━━━━━━━━━━━━━━━━╇━━━━━━━━━━━━━━━━━━━━━━━━━━━━━━╇━━━━━━━━━━━━━━━╇━━━━━━━━━┩\n",
              "│ input_layer_9 (\u001b[38;5;33mInputLayer\u001b[0m)          │ (\u001b[38;5;45mNone\u001b[0m, \u001b[38;5;34m96\u001b[0m, \u001b[38;5;34m96\u001b[0m, \u001b[38;5;34m3\u001b[0m)            │             \u001b[38;5;34m0\u001b[0m │    \u001b[1m-\u001b[0m    │\n",
              "├─────────────────────────────────────┼──────────────────────────────┼───────────────┼─────────┤\n",
              "│ mobilenetv2_1.00_96 (\u001b[38;5;33mFunctional\u001b[0m)    │ (\u001b[38;5;45mNone\u001b[0m, \u001b[38;5;34m3\u001b[0m, \u001b[38;5;34m3\u001b[0m, \u001b[38;5;34m1280\u001b[0m)           │     \u001b[38;5;34m2,257,984\u001b[0m │    \u001b[1;91mN\u001b[0m    │\n",
              "├─────────────────────────────────────┼──────────────────────────────┼───────────────┼─────────┤\n",
              "│ flatten_7 (\u001b[38;5;33mFlatten\u001b[0m)                 │ (\u001b[38;5;45mNone\u001b[0m, \u001b[38;5;34m11520\u001b[0m)                │             \u001b[38;5;34m0\u001b[0m │    \u001b[1m-\u001b[0m    │\n",
              "├─────────────────────────────────────┼──────────────────────────────┼───────────────┼─────────┤\n",
              "│ dropout_4 (\u001b[38;5;33mDropout\u001b[0m)                 │ (\u001b[38;5;45mNone\u001b[0m, \u001b[38;5;34m11520\u001b[0m)                │             \u001b[38;5;34m0\u001b[0m │    \u001b[1m-\u001b[0m    │\n",
              "├─────────────────────────────────────┼──────────────────────────────┼───────────────┼─────────┤\n",
              "│ dense_17 (\u001b[38;5;33mDense\u001b[0m)                    │ (\u001b[38;5;45mNone\u001b[0m, \u001b[38;5;34m128\u001b[0m)                  │     \u001b[38;5;34m1,474,688\u001b[0m │    \u001b[1;38;5;34mY\u001b[0m    │\n",
              "├─────────────────────────────────────┼──────────────────────────────┼───────────────┼─────────┤\n",
              "│ dense_18 (\u001b[38;5;33mDense\u001b[0m)                    │ (\u001b[38;5;45mNone\u001b[0m, \u001b[38;5;34m64\u001b[0m)                   │         \u001b[38;5;34m8,256\u001b[0m │    \u001b[1;38;5;34mY\u001b[0m    │\n",
              "├─────────────────────────────────────┼──────────────────────────────┼───────────────┼─────────┤\n",
              "│ dense_19 (\u001b[38;5;33mDense\u001b[0m)                    │ (\u001b[38;5;45mNone\u001b[0m, \u001b[38;5;34m10\u001b[0m)                   │           \u001b[38;5;34m650\u001b[0m │    \u001b[1;38;5;34mY\u001b[0m    │\n",
              "└─────────────────────────────────────┴──────────────────────────────┴───────────────┴─────────┘\n"
            ],
            "text/html": [
              "<pre style=\"white-space:pre;overflow-x:auto;line-height:normal;font-family:Menlo,'DejaVu Sans Mono',consolas,'Courier New',monospace\">┏━━━━━━━━━━━━━━━━━━━━━━━━━━━━━━━━━━━━━┳━━━━━━━━━━━━━━━━━━━━━━━━━━━━━━┳━━━━━━━━━━━━━━━┳━━━━━━━━━┓\n",
              "┃<span style=\"font-weight: bold\"> Layer (type)                        </span>┃<span style=\"font-weight: bold\"> Output Shape                 </span>┃<span style=\"font-weight: bold\">       Param # </span>┃<span style=\"font-weight: bold\"> Traina… </span>┃\n",
              "┡━━━━━━━━━━━━━━━━━━━━━━━━━━━━━━━━━━━━━╇━━━━━━━━━━━━━━━━━━━━━━━━━━━━━━╇━━━━━━━━━━━━━━━╇━━━━━━━━━┩\n",
              "│ input_layer_9 (<span style=\"color: #0087ff; text-decoration-color: #0087ff\">InputLayer</span>)          │ (<span style=\"color: #00d7ff; text-decoration-color: #00d7ff\">None</span>, <span style=\"color: #00af00; text-decoration-color: #00af00\">96</span>, <span style=\"color: #00af00; text-decoration-color: #00af00\">96</span>, <span style=\"color: #00af00; text-decoration-color: #00af00\">3</span>)            │             <span style=\"color: #00af00; text-decoration-color: #00af00\">0</span> │    <span style=\"font-weight: bold\">-</span>    │\n",
              "├─────────────────────────────────────┼──────────────────────────────┼───────────────┼─────────┤\n",
              "│ mobilenetv2_1.00_96 (<span style=\"color: #0087ff; text-decoration-color: #0087ff\">Functional</span>)    │ (<span style=\"color: #00d7ff; text-decoration-color: #00d7ff\">None</span>, <span style=\"color: #00af00; text-decoration-color: #00af00\">3</span>, <span style=\"color: #00af00; text-decoration-color: #00af00\">3</span>, <span style=\"color: #00af00; text-decoration-color: #00af00\">1280</span>)           │     <span style=\"color: #00af00; text-decoration-color: #00af00\">2,257,984</span> │    <span style=\"color: #ff0000; text-decoration-color: #ff0000; font-weight: bold\">N</span>    │\n",
              "├─────────────────────────────────────┼──────────────────────────────┼───────────────┼─────────┤\n",
              "│ flatten_7 (<span style=\"color: #0087ff; text-decoration-color: #0087ff\">Flatten</span>)                 │ (<span style=\"color: #00d7ff; text-decoration-color: #00d7ff\">None</span>, <span style=\"color: #00af00; text-decoration-color: #00af00\">11520</span>)                │             <span style=\"color: #00af00; text-decoration-color: #00af00\">0</span> │    <span style=\"font-weight: bold\">-</span>    │\n",
              "├─────────────────────────────────────┼──────────────────────────────┼───────────────┼─────────┤\n",
              "│ dropout_4 (<span style=\"color: #0087ff; text-decoration-color: #0087ff\">Dropout</span>)                 │ (<span style=\"color: #00d7ff; text-decoration-color: #00d7ff\">None</span>, <span style=\"color: #00af00; text-decoration-color: #00af00\">11520</span>)                │             <span style=\"color: #00af00; text-decoration-color: #00af00\">0</span> │    <span style=\"font-weight: bold\">-</span>    │\n",
              "├─────────────────────────────────────┼──────────────────────────────┼───────────────┼─────────┤\n",
              "│ dense_17 (<span style=\"color: #0087ff; text-decoration-color: #0087ff\">Dense</span>)                    │ (<span style=\"color: #00d7ff; text-decoration-color: #00d7ff\">None</span>, <span style=\"color: #00af00; text-decoration-color: #00af00\">128</span>)                  │     <span style=\"color: #00af00; text-decoration-color: #00af00\">1,474,688</span> │    <span style=\"color: #00af00; text-decoration-color: #00af00; font-weight: bold\">Y</span>    │\n",
              "├─────────────────────────────────────┼──────────────────────────────┼───────────────┼─────────┤\n",
              "│ dense_18 (<span style=\"color: #0087ff; text-decoration-color: #0087ff\">Dense</span>)                    │ (<span style=\"color: #00d7ff; text-decoration-color: #00d7ff\">None</span>, <span style=\"color: #00af00; text-decoration-color: #00af00\">64</span>)                   │         <span style=\"color: #00af00; text-decoration-color: #00af00\">8,256</span> │    <span style=\"color: #00af00; text-decoration-color: #00af00; font-weight: bold\">Y</span>    │\n",
              "├─────────────────────────────────────┼──────────────────────────────┼───────────────┼─────────┤\n",
              "│ dense_19 (<span style=\"color: #0087ff; text-decoration-color: #0087ff\">Dense</span>)                    │ (<span style=\"color: #00d7ff; text-decoration-color: #00d7ff\">None</span>, <span style=\"color: #00af00; text-decoration-color: #00af00\">10</span>)                   │           <span style=\"color: #00af00; text-decoration-color: #00af00\">650</span> │    <span style=\"color: #00af00; text-decoration-color: #00af00; font-weight: bold\">Y</span>    │\n",
              "└─────────────────────────────────────┴──────────────────────────────┴───────────────┴─────────┘\n",
              "</pre>\n"
            ]
          },
          "metadata": {}
        },
        {
          "output_type": "display_data",
          "data": {
            "text/plain": [
              "\u001b[1m Total params: \u001b[0m\u001b[38;5;34m3,741,578\u001b[0m (14.27 MB)\n"
            ],
            "text/html": [
              "<pre style=\"white-space:pre;overflow-x:auto;line-height:normal;font-family:Menlo,'DejaVu Sans Mono',consolas,'Courier New',monospace\"><span style=\"font-weight: bold\"> Total params: </span><span style=\"color: #00af00; text-decoration-color: #00af00\">3,741,578</span> (14.27 MB)\n",
              "</pre>\n"
            ]
          },
          "metadata": {}
        },
        {
          "output_type": "display_data",
          "data": {
            "text/plain": [
              "\u001b[1m Trainable params: \u001b[0m\u001b[38;5;34m1,483,594\u001b[0m (5.66 MB)\n"
            ],
            "text/html": [
              "<pre style=\"white-space:pre;overflow-x:auto;line-height:normal;font-family:Menlo,'DejaVu Sans Mono',consolas,'Courier New',monospace\"><span style=\"font-weight: bold\"> Trainable params: </span><span style=\"color: #00af00; text-decoration-color: #00af00\">1,483,594</span> (5.66 MB)\n",
              "</pre>\n"
            ]
          },
          "metadata": {}
        },
        {
          "output_type": "display_data",
          "data": {
            "text/plain": [
              "\u001b[1m Non-trainable params: \u001b[0m\u001b[38;5;34m2,257,984\u001b[0m (8.61 MB)\n"
            ],
            "text/html": [
              "<pre style=\"white-space:pre;overflow-x:auto;line-height:normal;font-family:Menlo,'DejaVu Sans Mono',consolas,'Courier New',monospace\"><span style=\"font-weight: bold\"> Non-trainable params: </span><span style=\"color: #00af00; text-decoration-color: #00af00\">2,257,984</span> (8.61 MB)\n",
              "</pre>\n"
            ]
          },
          "metadata": {}
        }
      ],
      "source": [
        "base_model.trainable = False\n",
        "\n",
        "inputs = keras.Input(shape=(HEIGHT, WIDTH, 3))\n",
        "\n",
        "# Ensure that the base_model is running in inference mode by passing `training=False`.\n",
        "x = base_model(inputs, training=False)\n",
        "\n",
        "x = keras.layers.Flatten()(x)\n",
        "x = keras.layers.Dropout(0.2)(x)\n",
        "x = keras.layers.Dense(128, activation='relu')(x)\n",
        "x = keras.layers.Dense(64, activation='relu')(x)\n",
        "\n",
        "# A Dense classifier with 10 outputs (multi-class classification)\n",
        "outputs = keras.layers.Dense(10, activation=('softmax'))(x)\n",
        "model = keras.Model(inputs, outputs)\n",
        "model.summary(show_trainable=True)"
      ]
    },
    {
      "cell_type": "markdown",
      "source": [
        "### Training the model"
      ],
      "metadata": {
        "id": "5eQqNSvzGxQn"
      }
    },
    {
      "cell_type": "code",
      "execution_count": 34,
      "metadata": {
        "colab": {
          "base_uri": "https://localhost:8080/"
        },
        "id": "eq7znmczsqS5",
        "outputId": "c599babb-a865-4f4b-b2ef-a5bb5b8616fc"
      },
      "outputs": [
        {
          "output_type": "stream",
          "name": "stdout",
          "text": [
            "Epoch 1/10\n",
            "\u001b[1m157/157\u001b[0m \u001b[32m━━━━━━━━━━━━━━━━━━━━\u001b[0m\u001b[37m\u001b[0m \u001b[1m44s\u001b[0m 242ms/step - accuracy: 0.6439 - loss: 1.2454 - val_accuracy: 0.7900 - val_loss: 0.6667\n",
            "Epoch 2/10\n",
            "\u001b[1m157/157\u001b[0m \u001b[32m━━━━━━━━━━━━━━━━━━━━\u001b[0m\u001b[37m\u001b[0m \u001b[1m38s\u001b[0m 227ms/step - accuracy: 0.8817 - loss: 0.3381 - val_accuracy: 0.7720 - val_loss: 0.7688\n",
            "Epoch 3/10\n",
            "\u001b[1m157/157\u001b[0m \u001b[32m━━━━━━━━━━━━━━━━━━━━\u001b[0m\u001b[37m\u001b[0m \u001b[1m34s\u001b[0m 214ms/step - accuracy: 0.9185 - loss: 0.2324 - val_accuracy: 0.8100 - val_loss: 0.6989\n",
            "Epoch 4/10\n",
            "\u001b[1m157/157\u001b[0m \u001b[32m━━━━━━━━━━━━━━━━━━━━\u001b[0m\u001b[37m\u001b[0m \u001b[1m47s\u001b[0m 252ms/step - accuracy: 0.9398 - loss: 0.1738 - val_accuracy: 0.8000 - val_loss: 0.8381\n",
            "Epoch 5/10\n",
            "\u001b[1m157/157\u001b[0m \u001b[32m━━━━━━━━━━━━━━━━━━━━\u001b[0m\u001b[37m\u001b[0m \u001b[1m37s\u001b[0m 225ms/step - accuracy: 0.9617 - loss: 0.1032 - val_accuracy: 0.8240 - val_loss: 0.7428\n",
            "Epoch 6/10\n",
            "\u001b[1m157/157\u001b[0m \u001b[32m━━━━━━━━━━━━━━━━━━━━\u001b[0m\u001b[37m\u001b[0m \u001b[1m45s\u001b[0m 250ms/step - accuracy: 0.9722 - loss: 0.0757 - val_accuracy: 0.8230 - val_loss: 0.7621\n",
            "Epoch 7/10\n",
            "\u001b[1m157/157\u001b[0m \u001b[32m━━━━━━━━━━━━━━━━━━━━\u001b[0m\u001b[37m\u001b[0m \u001b[1m37s\u001b[0m 225ms/step - accuracy: 0.9785 - loss: 0.0586 - val_accuracy: 0.8300 - val_loss: 0.8361\n",
            "Epoch 8/10\n",
            "\u001b[1m157/157\u001b[0m \u001b[32m━━━━━━━━━━━━━━━━━━━━\u001b[0m\u001b[37m\u001b[0m \u001b[1m41s\u001b[0m 227ms/step - accuracy: 0.9896 - loss: 0.0384 - val_accuracy: 0.8140 - val_loss: 0.9802\n",
            "Epoch 9/10\n",
            "\u001b[1m157/157\u001b[0m \u001b[32m━━━━━━━━━━━━━━━━━━━━\u001b[0m\u001b[37m\u001b[0m \u001b[1m41s\u001b[0m 227ms/step - accuracy: 0.9888 - loss: 0.0366 - val_accuracy: 0.8270 - val_loss: 0.8535\n",
            "Epoch 10/10\n",
            "\u001b[1m157/157\u001b[0m \u001b[32m━━━━━━━━━━━━━━━━━━━━\u001b[0m\u001b[37m\u001b[0m \u001b[1m34s\u001b[0m 216ms/step - accuracy: 0.9838 - loss: 0.0423 - val_accuracy: 0.8170 - val_loss: 1.0502\n"
          ]
        }
      ],
      "source": [
        "model.compile(optimizer=keras.optimizers.Adam(),\n",
        "              loss='categorical_crossentropy',\n",
        "              metrics=['accuracy'])\n",
        "\n",
        "history = model.fit(train_images, train_labels, epochs=10, validation_data=(test_images, test_labels))"
      ]
    },
    {
      "cell_type": "markdown",
      "source": [
        "### Performance Evaluation\n",
        "\n",
        "We can see that our train and test set accuracies are much higher than the manually trained CNN model."
      ],
      "metadata": {
        "id": "CDEWbC5GG5Mj"
      }
    },
    {
      "cell_type": "code",
      "source": [
        "plt.plot(history.history['accuracy'], label='train accuracy')\n",
        "plt.plot(history.history['val_accuracy'], label = 'test accuracy')\n",
        "plt.xlabel('Epoch')\n",
        "plt.ylabel('Accuracy')\n",
        "plt.ylim([0, 1])\n",
        "plt.legend(loc='lower right')\n",
        "plt.title('Cifar10 CNN Transfer Learning Performance')\n",
        "\n",
        "test_loss, test_acc = model.evaluate(test_images, test_labels, verbose=2)"
      ],
      "metadata": {
        "colab": {
          "base_uri": "https://localhost:8080/",
          "height": 489
        },
        "id": "0v42BMsa6xCL",
        "outputId": "3bb6224c-b82a-4f18-a218-0ba22e743074"
      },
      "execution_count": 35,
      "outputs": [
        {
          "output_type": "stream",
          "name": "stdout",
          "text": [
            "32/32 - 6s - 195ms/step - accuracy: 0.8170 - loss: 1.0502\n"
          ]
        },
        {
          "output_type": "display_data",
          "data": {
            "text/plain": [
              "<Figure size 640x480 with 1 Axes>"
            ],
            "image/png": "[encoded data removed]"
          },
          "metadata": {}
        }
      ]
    },
    {
      "cell_type": "markdown",
      "metadata": {
        "id": "az5hphosI1w0"
      },
      "source": [
        "## References\n",
        "\n",
        "1. https://keras.io/guides/transfer_learning/"
      ]
    },
    {
      "cell_type": "markdown",
      "metadata": {
        "id": "cBqMSg8vI9zI"
      },
      "source": [
        "## End\n",
        "<sup>made by **Jude Michael Teves**</sup> <br>\n",
        "<sup>for comments, corrections, suggestions, please email:</sup><sup> <href>judemichaelteves@gmail.com</href> or <href>jude.teves@dlsu.edu.ph</href></sup><br>\n"
      ]
    }
  ],
  "metadata": {
    "colab": {
      "provenance": [],
      "toc_visible": true
    },
    "kernelspec": {
      "display_name": "Python 3",
      "name": "python3"
    },
    "language_info": {
      "name": "python"
    }
  },
  "nbformat": 4,
  "nbformat_minor": 0
}